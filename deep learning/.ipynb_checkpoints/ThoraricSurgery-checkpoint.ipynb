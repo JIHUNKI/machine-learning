{
 "cells": [
  {
   "cell_type": "code",
   "execution_count": 4,
   "id": "1f607817",
   "metadata": {
    "ExecuteTime": {
     "end_time": "2023-02-21T01:15:50.595040Z",
     "start_time": "2023-02-21T01:15:50.572804Z"
    }
   },
   "outputs": [],
   "source": [
    "import pandas as pd\n",
    "\n",
    "df = pd.read_csv('./datasets/ThoraricSurgery.csv',header=None)"
   ]
  },
  {
   "cell_type": "code",
   "execution_count": 6,
   "id": "a54f554c",
   "metadata": {
    "ExecuteTime": {
     "end_time": "2023-02-21T01:16:49.068602Z",
     "start_time": "2023-02-21T01:16:49.039680Z"
    }
   },
   "outputs": [
    {
     "data": {
      "text/html": [
       "<div>\n",
       "<style scoped>\n",
       "    .dataframe tbody tr th:only-of-type {\n",
       "        vertical-align: middle;\n",
       "    }\n",
       "\n",
       "    .dataframe tbody tr th {\n",
       "        vertical-align: top;\n",
       "    }\n",
       "\n",
       "    .dataframe thead th {\n",
       "        text-align: right;\n",
       "    }\n",
       "</style>\n",
       "<table border=\"1\" class=\"dataframe\">\n",
       "  <thead>\n",
       "    <tr style=\"text-align: right;\">\n",
       "      <th></th>\n",
       "      <th>0</th>\n",
       "      <th>1</th>\n",
       "      <th>2</th>\n",
       "      <th>3</th>\n",
       "      <th>4</th>\n",
       "      <th>5</th>\n",
       "      <th>6</th>\n",
       "      <th>7</th>\n",
       "      <th>8</th>\n",
       "      <th>9</th>\n",
       "      <th>10</th>\n",
       "      <th>11</th>\n",
       "      <th>12</th>\n",
       "      <th>13</th>\n",
       "      <th>14</th>\n",
       "      <th>15</th>\n",
       "      <th>16</th>\n",
       "      <th>17</th>\n",
       "    </tr>\n",
       "  </thead>\n",
       "  <tbody>\n",
       "    <tr>\n",
       "      <th>0</th>\n",
       "      <td>293</td>\n",
       "      <td>1</td>\n",
       "      <td>3.80</td>\n",
       "      <td>2.80</td>\n",
       "      <td>0</td>\n",
       "      <td>0</td>\n",
       "      <td>0</td>\n",
       "      <td>0</td>\n",
       "      <td>0</td>\n",
       "      <td>0</td>\n",
       "      <td>12</td>\n",
       "      <td>0</td>\n",
       "      <td>0</td>\n",
       "      <td>0</td>\n",
       "      <td>1</td>\n",
       "      <td>0</td>\n",
       "      <td>62</td>\n",
       "      <td>0</td>\n",
       "    </tr>\n",
       "    <tr>\n",
       "      <th>1</th>\n",
       "      <td>1</td>\n",
       "      <td>2</td>\n",
       "      <td>2.88</td>\n",
       "      <td>2.16</td>\n",
       "      <td>1</td>\n",
       "      <td>0</td>\n",
       "      <td>0</td>\n",
       "      <td>0</td>\n",
       "      <td>1</td>\n",
       "      <td>1</td>\n",
       "      <td>14</td>\n",
       "      <td>0</td>\n",
       "      <td>0</td>\n",
       "      <td>0</td>\n",
       "      <td>1</td>\n",
       "      <td>0</td>\n",
       "      <td>60</td>\n",
       "      <td>0</td>\n",
       "    </tr>\n",
       "    <tr>\n",
       "      <th>2</th>\n",
       "      <td>8</td>\n",
       "      <td>2</td>\n",
       "      <td>3.19</td>\n",
       "      <td>2.50</td>\n",
       "      <td>1</td>\n",
       "      <td>0</td>\n",
       "      <td>0</td>\n",
       "      <td>0</td>\n",
       "      <td>1</td>\n",
       "      <td>0</td>\n",
       "      <td>11</td>\n",
       "      <td>0</td>\n",
       "      <td>0</td>\n",
       "      <td>1</td>\n",
       "      <td>1</td>\n",
       "      <td>0</td>\n",
       "      <td>66</td>\n",
       "      <td>1</td>\n",
       "    </tr>\n",
       "    <tr>\n",
       "      <th>3</th>\n",
       "      <td>14</td>\n",
       "      <td>2</td>\n",
       "      <td>3.98</td>\n",
       "      <td>3.06</td>\n",
       "      <td>2</td>\n",
       "      <td>0</td>\n",
       "      <td>0</td>\n",
       "      <td>0</td>\n",
       "      <td>1</td>\n",
       "      <td>1</td>\n",
       "      <td>14</td>\n",
       "      <td>0</td>\n",
       "      <td>0</td>\n",
       "      <td>0</td>\n",
       "      <td>1</td>\n",
       "      <td>0</td>\n",
       "      <td>80</td>\n",
       "      <td>1</td>\n",
       "    </tr>\n",
       "    <tr>\n",
       "      <th>4</th>\n",
       "      <td>17</td>\n",
       "      <td>2</td>\n",
       "      <td>2.21</td>\n",
       "      <td>1.88</td>\n",
       "      <td>0</td>\n",
       "      <td>0</td>\n",
       "      <td>1</td>\n",
       "      <td>0</td>\n",
       "      <td>0</td>\n",
       "      <td>0</td>\n",
       "      <td>12</td>\n",
       "      <td>0</td>\n",
       "      <td>0</td>\n",
       "      <td>0</td>\n",
       "      <td>1</td>\n",
       "      <td>0</td>\n",
       "      <td>56</td>\n",
       "      <td>0</td>\n",
       "    </tr>\n",
       "  </tbody>\n",
       "</table>\n",
       "</div>"
      ],
      "text/plain": [
       "    0   1     2     3   4   5   6   7   8   9   10  11  12  13  14  15  16  17\n",
       "0  293   1  3.80  2.80   0   0   0   0   0   0  12   0   0   0   1   0  62   0\n",
       "1    1   2  2.88  2.16   1   0   0   0   1   1  14   0   0   0   1   0  60   0\n",
       "2    8   2  3.19  2.50   1   0   0   0   1   0  11   0   0   1   1   0  66   1\n",
       "3   14   2  3.98  3.06   2   0   0   0   1   1  14   0   0   0   1   0  80   1\n",
       "4   17   2  2.21  1.88   0   0   1   0   0   0  12   0   0   0   1   0  56   0"
      ]
     },
     "execution_count": 6,
     "metadata": {},
     "output_type": "execute_result"
    }
   ],
   "source": [
    "df.head()"
   ]
  },
  {
   "cell_type": "code",
   "execution_count": 7,
   "id": "b97f0db5",
   "metadata": {
    "ExecuteTime": {
     "end_time": "2023-02-21T01:16:58.998835Z",
     "start_time": "2023-02-21T01:16:58.911071Z"
    }
   },
   "outputs": [
    {
     "data": {
      "text/html": [
       "<div>\n",
       "<style scoped>\n",
       "    .dataframe tbody tr th:only-of-type {\n",
       "        vertical-align: middle;\n",
       "    }\n",
       "\n",
       "    .dataframe tbody tr th {\n",
       "        vertical-align: top;\n",
       "    }\n",
       "\n",
       "    .dataframe thead th {\n",
       "        text-align: right;\n",
       "    }\n",
       "</style>\n",
       "<table border=\"1\" class=\"dataframe\">\n",
       "  <thead>\n",
       "    <tr style=\"text-align: right;\">\n",
       "      <th></th>\n",
       "      <th>0</th>\n",
       "      <th>1</th>\n",
       "      <th>2</th>\n",
       "      <th>3</th>\n",
       "      <th>4</th>\n",
       "      <th>5</th>\n",
       "      <th>6</th>\n",
       "      <th>7</th>\n",
       "      <th>8</th>\n",
       "      <th>9</th>\n",
       "      <th>10</th>\n",
       "      <th>11</th>\n",
       "      <th>12</th>\n",
       "      <th>13</th>\n",
       "      <th>14</th>\n",
       "      <th>15</th>\n",
       "      <th>16</th>\n",
       "      <th>17</th>\n",
       "    </tr>\n",
       "  </thead>\n",
       "  <tbody>\n",
       "    <tr>\n",
       "      <th>count</th>\n",
       "      <td>470.000000</td>\n",
       "      <td>470.000000</td>\n",
       "      <td>470.000000</td>\n",
       "      <td>470.000000</td>\n",
       "      <td>470.000000</td>\n",
       "      <td>470.000000</td>\n",
       "      <td>470.000000</td>\n",
       "      <td>470.000000</td>\n",
       "      <td>470.000000</td>\n",
       "      <td>470.000000</td>\n",
       "      <td>470.000000</td>\n",
       "      <td>470.000000</td>\n",
       "      <td>470.000000</td>\n",
       "      <td>470.000000</td>\n",
       "      <td>470.000000</td>\n",
       "      <td>470.000000</td>\n",
       "      <td>470.000000</td>\n",
       "      <td>470.000000</td>\n",
       "    </tr>\n",
       "    <tr>\n",
       "      <th>mean</th>\n",
       "      <td>235.500000</td>\n",
       "      <td>3.095745</td>\n",
       "      <td>3.281638</td>\n",
       "      <td>4.568702</td>\n",
       "      <td>0.780851</td>\n",
       "      <td>0.065957</td>\n",
       "      <td>0.144681</td>\n",
       "      <td>0.065957</td>\n",
       "      <td>0.687234</td>\n",
       "      <td>0.165957</td>\n",
       "      <td>11.736170</td>\n",
       "      <td>0.074468</td>\n",
       "      <td>0.004255</td>\n",
       "      <td>0.017021</td>\n",
       "      <td>0.821277</td>\n",
       "      <td>0.004255</td>\n",
       "      <td>62.534043</td>\n",
       "      <td>0.148936</td>\n",
       "    </tr>\n",
       "    <tr>\n",
       "      <th>std</th>\n",
       "      <td>135.821574</td>\n",
       "      <td>0.722309</td>\n",
       "      <td>0.871395</td>\n",
       "      <td>11.767857</td>\n",
       "      <td>0.535375</td>\n",
       "      <td>0.248472</td>\n",
       "      <td>0.352154</td>\n",
       "      <td>0.248472</td>\n",
       "      <td>0.464114</td>\n",
       "      <td>0.372439</td>\n",
       "      <td>0.702243</td>\n",
       "      <td>0.262811</td>\n",
       "      <td>0.065163</td>\n",
       "      <td>0.129488</td>\n",
       "      <td>0.383529</td>\n",
       "      <td>0.065163</td>\n",
       "      <td>8.706902</td>\n",
       "      <td>0.356405</td>\n",
       "    </tr>\n",
       "    <tr>\n",
       "      <th>min</th>\n",
       "      <td>1.000000</td>\n",
       "      <td>1.000000</td>\n",
       "      <td>1.440000</td>\n",
       "      <td>0.960000</td>\n",
       "      <td>0.000000</td>\n",
       "      <td>0.000000</td>\n",
       "      <td>0.000000</td>\n",
       "      <td>0.000000</td>\n",
       "      <td>0.000000</td>\n",
       "      <td>0.000000</td>\n",
       "      <td>11.000000</td>\n",
       "      <td>0.000000</td>\n",
       "      <td>0.000000</td>\n",
       "      <td>0.000000</td>\n",
       "      <td>0.000000</td>\n",
       "      <td>0.000000</td>\n",
       "      <td>21.000000</td>\n",
       "      <td>0.000000</td>\n",
       "    </tr>\n",
       "    <tr>\n",
       "      <th>25%</th>\n",
       "      <td>118.250000</td>\n",
       "      <td>3.000000</td>\n",
       "      <td>2.600000</td>\n",
       "      <td>1.960000</td>\n",
       "      <td>0.000000</td>\n",
       "      <td>0.000000</td>\n",
       "      <td>0.000000</td>\n",
       "      <td>0.000000</td>\n",
       "      <td>0.000000</td>\n",
       "      <td>0.000000</td>\n",
       "      <td>11.000000</td>\n",
       "      <td>0.000000</td>\n",
       "      <td>0.000000</td>\n",
       "      <td>0.000000</td>\n",
       "      <td>1.000000</td>\n",
       "      <td>0.000000</td>\n",
       "      <td>57.000000</td>\n",
       "      <td>0.000000</td>\n",
       "    </tr>\n",
       "    <tr>\n",
       "      <th>50%</th>\n",
       "      <td>235.500000</td>\n",
       "      <td>3.000000</td>\n",
       "      <td>3.160000</td>\n",
       "      <td>2.400000</td>\n",
       "      <td>1.000000</td>\n",
       "      <td>0.000000</td>\n",
       "      <td>0.000000</td>\n",
       "      <td>0.000000</td>\n",
       "      <td>1.000000</td>\n",
       "      <td>0.000000</td>\n",
       "      <td>12.000000</td>\n",
       "      <td>0.000000</td>\n",
       "      <td>0.000000</td>\n",
       "      <td>0.000000</td>\n",
       "      <td>1.000000</td>\n",
       "      <td>0.000000</td>\n",
       "      <td>62.000000</td>\n",
       "      <td>0.000000</td>\n",
       "    </tr>\n",
       "    <tr>\n",
       "      <th>75%</th>\n",
       "      <td>352.750000</td>\n",
       "      <td>3.000000</td>\n",
       "      <td>3.807500</td>\n",
       "      <td>3.080000</td>\n",
       "      <td>1.000000</td>\n",
       "      <td>0.000000</td>\n",
       "      <td>0.000000</td>\n",
       "      <td>0.000000</td>\n",
       "      <td>1.000000</td>\n",
       "      <td>0.000000</td>\n",
       "      <td>12.000000</td>\n",
       "      <td>0.000000</td>\n",
       "      <td>0.000000</td>\n",
       "      <td>0.000000</td>\n",
       "      <td>1.000000</td>\n",
       "      <td>0.000000</td>\n",
       "      <td>69.000000</td>\n",
       "      <td>0.000000</td>\n",
       "    </tr>\n",
       "    <tr>\n",
       "      <th>max</th>\n",
       "      <td>470.000000</td>\n",
       "      <td>8.000000</td>\n",
       "      <td>6.300000</td>\n",
       "      <td>86.300000</td>\n",
       "      <td>2.000000</td>\n",
       "      <td>1.000000</td>\n",
       "      <td>1.000000</td>\n",
       "      <td>1.000000</td>\n",
       "      <td>1.000000</td>\n",
       "      <td>1.000000</td>\n",
       "      <td>14.000000</td>\n",
       "      <td>1.000000</td>\n",
       "      <td>1.000000</td>\n",
       "      <td>1.000000</td>\n",
       "      <td>1.000000</td>\n",
       "      <td>1.000000</td>\n",
       "      <td>87.000000</td>\n",
       "      <td>1.000000</td>\n",
       "    </tr>\n",
       "  </tbody>\n",
       "</table>\n",
       "</div>"
      ],
      "text/plain": [
       "               0           1           2           3           4           5   \\\n",
       "count  470.000000  470.000000  470.000000  470.000000  470.000000  470.000000   \n",
       "mean   235.500000    3.095745    3.281638    4.568702    0.780851    0.065957   \n",
       "std    135.821574    0.722309    0.871395   11.767857    0.535375    0.248472   \n",
       "min      1.000000    1.000000    1.440000    0.960000    0.000000    0.000000   \n",
       "25%    118.250000    3.000000    2.600000    1.960000    0.000000    0.000000   \n",
       "50%    235.500000    3.000000    3.160000    2.400000    1.000000    0.000000   \n",
       "75%    352.750000    3.000000    3.807500    3.080000    1.000000    0.000000   \n",
       "max    470.000000    8.000000    6.300000   86.300000    2.000000    1.000000   \n",
       "\n",
       "               6           7           8           9           10          11  \\\n",
       "count  470.000000  470.000000  470.000000  470.000000  470.000000  470.000000   \n",
       "mean     0.144681    0.065957    0.687234    0.165957   11.736170    0.074468   \n",
       "std      0.352154    0.248472    0.464114    0.372439    0.702243    0.262811   \n",
       "min      0.000000    0.000000    0.000000    0.000000   11.000000    0.000000   \n",
       "25%      0.000000    0.000000    0.000000    0.000000   11.000000    0.000000   \n",
       "50%      0.000000    0.000000    1.000000    0.000000   12.000000    0.000000   \n",
       "75%      0.000000    0.000000    1.000000    0.000000   12.000000    0.000000   \n",
       "max      1.000000    1.000000    1.000000    1.000000   14.000000    1.000000   \n",
       "\n",
       "               12          13          14          15          16          17  \n",
       "count  470.000000  470.000000  470.000000  470.000000  470.000000  470.000000  \n",
       "mean     0.004255    0.017021    0.821277    0.004255   62.534043    0.148936  \n",
       "std      0.065163    0.129488    0.383529    0.065163    8.706902    0.356405  \n",
       "min      0.000000    0.000000    0.000000    0.000000   21.000000    0.000000  \n",
       "25%      0.000000    0.000000    1.000000    0.000000   57.000000    0.000000  \n",
       "50%      0.000000    0.000000    1.000000    0.000000   62.000000    0.000000  \n",
       "75%      0.000000    0.000000    1.000000    0.000000   69.000000    0.000000  \n",
       "max      1.000000    1.000000    1.000000    1.000000   87.000000    1.000000  "
      ]
     },
     "execution_count": 7,
     "metadata": {},
     "output_type": "execute_result"
    }
   ],
   "source": [
    "df.describe()"
   ]
  },
  {
   "cell_type": "code",
   "execution_count": 8,
   "id": "7010d2a9",
   "metadata": {
    "ExecuteTime": {
     "end_time": "2023-02-21T01:17:02.904615Z",
     "start_time": "2023-02-21T01:17:02.869258Z"
    }
   },
   "outputs": [
    {
     "name": "stdout",
     "output_type": "stream",
     "text": [
      "<class 'pandas.core.frame.DataFrame'>\n",
      "RangeIndex: 470 entries, 0 to 469\n",
      "Data columns (total 18 columns):\n",
      " #   Column  Non-Null Count  Dtype  \n",
      "---  ------  --------------  -----  \n",
      " 0   0       470 non-null    int64  \n",
      " 1   1       470 non-null    int64  \n",
      " 2   2       470 non-null    float64\n",
      " 3   3       470 non-null    float64\n",
      " 4   4       470 non-null    int64  \n",
      " 5   5       470 non-null    int64  \n",
      " 6   6       470 non-null    int64  \n",
      " 7   7       470 non-null    int64  \n",
      " 8   8       470 non-null    int64  \n",
      " 9   9       470 non-null    int64  \n",
      " 10  10      470 non-null    int64  \n",
      " 11  11      470 non-null    int64  \n",
      " 12  12      470 non-null    int64  \n",
      " 13  13      470 non-null    int64  \n",
      " 14  14      470 non-null    int64  \n",
      " 15  15      470 non-null    int64  \n",
      " 16  16      470 non-null    int64  \n",
      " 17  17      470 non-null    int64  \n",
      "dtypes: float64(2), int64(16)\n",
      "memory usage: 66.2 KB\n"
     ]
    }
   ],
   "source": [
    "df.info()"
   ]
  },
  {
   "cell_type": "code",
   "execution_count": 13,
   "id": "b07325a6",
   "metadata": {
    "ExecuteTime": {
     "end_time": "2023-02-21T01:20:32.661285Z",
     "start_time": "2023-02-21T01:20:32.637341Z"
    }
   },
   "outputs": [
    {
     "data": {
      "text/plain": [
       "0    400\n",
       "1     70\n",
       "Name: 17, dtype: int64"
      ]
     },
     "execution_count": 13,
     "metadata": {},
     "output_type": "execute_result"
    }
   ],
   "source": [
    "df.iloc[:,-1].value_counts()"
   ]
  },
  {
   "cell_type": "code",
   "execution_count": 15,
   "id": "4027d055",
   "metadata": {
    "ExecuteTime": {
     "end_time": "2023-02-21T01:23:58.505603Z",
     "start_time": "2023-02-21T01:23:58.478675Z"
    }
   },
   "outputs": [],
   "source": [
    "# train test set split\n",
    "from sklearn.model_selection import train_test_split\n",
    "x = df.drop(17,axis=1)\n",
    "y = df.iloc[:,-1]\n",
    "\n",
    "x_train,x_test,y_train,y_test = train_test_split(x,y,test_size=0.2,random_state=1)"
   ]
  },
  {
   "cell_type": "code",
   "execution_count": 19,
   "id": "843d8026",
   "metadata": {
    "ExecuteTime": {
     "end_time": "2023-02-21T01:27:06.795468Z",
     "start_time": "2023-02-21T01:27:06.782503Z"
    }
   },
   "outputs": [
    {
     "name": "stdout",
     "output_type": "stream",
     "text": [
      "(376, 17) (94, 17)\n"
     ]
    }
   ],
   "source": [
    "print(x_train.shape,x_test.shape)"
   ]
  },
  {
   "cell_type": "code",
   "execution_count": 20,
   "id": "8fbd27fa",
   "metadata": {
    "ExecuteTime": {
     "end_time": "2023-02-21T01:28:50.015680Z",
     "start_time": "2023-02-21T01:28:49.982717Z"
    }
   },
   "outputs": [],
   "source": [
    "## 표준화 Standardscarer\n",
    "from sklearn.preprocessing import StandardScaler\n",
    "scaler = StandardScaler()\n",
    "\n",
    "scaler.fit(x_train)\n",
    "x_scaled_train = scaler.transform(x_train)\n",
    "x_scaled_test = scaler.transform(x_test)"
   ]
  },
  {
   "cell_type": "markdown",
   "id": "d0809ea0",
   "metadata": {},
   "source": [
    "#### Dense\n",
    "* tf.keras.layers.Dense(\n",
    "    units,\n",
    "    activation=None,\n",
    "    use_bias=True,\n",
    "    kernel_initializer='glorot_uniform',\n",
    "    bias_initializer='zeros',\n",
    "    kernel_regularizer=None,\n",
    "    bias_regularizer=None,\n",
    "    activity_regularizer=None,\n",
    "    kernel_constraint=None,\n",
    "    bias_constraint=None,\n",
    "    **kwargs\n",
    ")"
   ]
  },
  {
   "cell_type": "markdown",
   "id": "a046a0ab",
   "metadata": {},
   "source": [
    "#### compile\n",
    "\n",
    "* compile(\n",
    "    optimizer='rmsprop',\n",
    "    loss=None,\n",
    "    metrics=None,\n",
    "    loss_weights=None,\n",
    "    weighted_metrics=None,\n",
    "    run_eagerly=None,\n",
    "    steps_per_execution=None,\n",
    "    jit_compile=None,\n",
    "    **kwargs\n",
    ")\n"
   ]
  },
  {
   "cell_type": "code",
   "execution_count": 51,
   "id": "48c4b967",
   "metadata": {
    "ExecuteTime": {
     "end_time": "2023-02-21T02:09:30.907968Z",
     "start_time": "2023-02-21T02:09:25.862239Z"
    }
   },
   "outputs": [
    {
     "name": "stdout",
     "output_type": "stream",
     "text": [
      "Epoch 1/30\n",
      "30/30 [==============================] - 1s 11ms/step - loss: 0.5007 - accuracy: 0.8433 - val_loss: 0.4436 - val_accuracy: 0.8816\n",
      "Epoch 2/30\n",
      "30/30 [==============================] - 0s 4ms/step - loss: 0.4554 - accuracy: 0.8400 - val_loss: 0.4073 - val_accuracy: 0.8816\n",
      "Epoch 3/30\n",
      "30/30 [==============================] - 0s 5ms/step - loss: 0.4386 - accuracy: 0.8400 - val_loss: 0.3892 - val_accuracy: 0.8816\n",
      "Epoch 4/30\n",
      "30/30 [==============================] - 0s 4ms/step - loss: 0.4320 - accuracy: 0.8400 - val_loss: 0.3817 - val_accuracy: 0.8816\n",
      "Epoch 5/30\n",
      "30/30 [==============================] - 0s 4ms/step - loss: 0.4284 - accuracy: 0.8400 - val_loss: 0.3757 - val_accuracy: 0.8816\n",
      "Epoch 6/30\n",
      "30/30 [==============================] - 0s 4ms/step - loss: 0.4253 - accuracy: 0.8400 - val_loss: 0.3733 - val_accuracy: 0.8816\n",
      "Epoch 7/30\n",
      "30/30 [==============================] - 0s 3ms/step - loss: 0.4231 - accuracy: 0.8400 - val_loss: 0.3706 - val_accuracy: 0.8816\n",
      "Epoch 8/30\n",
      "30/30 [==============================] - 0s 4ms/step - loss: 0.4207 - accuracy: 0.8400 - val_loss: 0.3687 - val_accuracy: 0.8816\n",
      "Epoch 9/30\n",
      "30/30 [==============================] - 0s 4ms/step - loss: 0.4189 - accuracy: 0.8400 - val_loss: 0.3676 - val_accuracy: 0.8816\n",
      "Epoch 10/30\n",
      "30/30 [==============================] - 0s 4ms/step - loss: 0.4168 - accuracy: 0.8400 - val_loss: 0.3660 - val_accuracy: 0.8816\n",
      "Epoch 11/30\n",
      "30/30 [==============================] - 0s 4ms/step - loss: 0.4153 - accuracy: 0.8400 - val_loss: 0.3643 - val_accuracy: 0.8816\n",
      "Epoch 12/30\n",
      "30/30 [==============================] - 0s 4ms/step - loss: 0.4143 - accuracy: 0.8400 - val_loss: 0.3621 - val_accuracy: 0.8816\n",
      "Epoch 13/30\n",
      "30/30 [==============================] - 0s 4ms/step - loss: 0.4129 - accuracy: 0.8400 - val_loss: 0.3635 - val_accuracy: 0.8816\n",
      "Epoch 14/30\n",
      "30/30 [==============================] - 0s 4ms/step - loss: 0.4113 - accuracy: 0.8400 - val_loss: 0.3632 - val_accuracy: 0.8816\n",
      "Epoch 15/30\n",
      "30/30 [==============================] - 0s 3ms/step - loss: 0.4106 - accuracy: 0.8400 - val_loss: 0.3600 - val_accuracy: 0.8816\n",
      "Epoch 16/30\n",
      "30/30 [==============================] - 0s 4ms/step - loss: 0.4099 - accuracy: 0.8400 - val_loss: 0.3614 - val_accuracy: 0.8816\n",
      "Epoch 17/30\n",
      "30/30 [==============================] - 0s 5ms/step - loss: 0.4085 - accuracy: 0.8400 - val_loss: 0.3593 - val_accuracy: 0.8816\n",
      "Epoch 18/30\n",
      "30/30 [==============================] - 0s 4ms/step - loss: 0.4079 - accuracy: 0.8400 - val_loss: 0.3605 - val_accuracy: 0.8816\n",
      "Epoch 19/30\n",
      "30/30 [==============================] - 0s 5ms/step - loss: 0.4061 - accuracy: 0.8400 - val_loss: 0.3601 - val_accuracy: 0.8816\n",
      "Epoch 20/30\n",
      "30/30 [==============================] - 0s 6ms/step - loss: 0.4048 - accuracy: 0.8400 - val_loss: 0.3587 - val_accuracy: 0.8816\n",
      "Epoch 21/30\n",
      "30/30 [==============================] - 0s 5ms/step - loss: 0.4046 - accuracy: 0.8400 - val_loss: 0.3575 - val_accuracy: 0.8816\n",
      "Epoch 22/30\n",
      "30/30 [==============================] - 0s 3ms/step - loss: 0.4033 - accuracy: 0.8400 - val_loss: 0.3590 - val_accuracy: 0.8816\n",
      "Epoch 23/30\n",
      "30/30 [==============================] - 0s 4ms/step - loss: 0.4033 - accuracy: 0.8400 - val_loss: 0.3600 - val_accuracy: 0.8816\n",
      "Epoch 24/30\n",
      "30/30 [==============================] - 0s 5ms/step - loss: 0.4025 - accuracy: 0.8400 - val_loss: 0.3598 - val_accuracy: 0.8816\n",
      "Epoch 25/30\n",
      "30/30 [==============================] - 0s 6ms/step - loss: 0.4022 - accuracy: 0.8400 - val_loss: 0.3587 - val_accuracy: 0.8816\n",
      "Epoch 26/30\n",
      "30/30 [==============================] - 0s 5ms/step - loss: 0.4024 - accuracy: 0.8400 - val_loss: 0.3602 - val_accuracy: 0.8816\n",
      "Epoch 27/30\n",
      "30/30 [==============================] - 0s 4ms/step - loss: 0.4011 - accuracy: 0.8400 - val_loss: 0.3575 - val_accuracy: 0.8816\n",
      "Epoch 28/30\n",
      "30/30 [==============================] - 0s 5ms/step - loss: 0.4009 - accuracy: 0.8400 - val_loss: 0.3592 - val_accuracy: 0.8816\n",
      "Epoch 29/30\n",
      "30/30 [==============================] - 0s 5ms/step - loss: 0.3998 - accuracy: 0.8400 - val_loss: 0.3594 - val_accuracy: 0.8816\n",
      "Epoch 30/30\n",
      "30/30 [==============================] - 0s 6ms/step - loss: 0.3991 - accuracy: 0.8400 - val_loss: 0.3594 - val_accuracy: 0.8816\n"
     ]
    }
   ],
   "source": [
    "from tensorflow.keras.layers import Dense\n",
    "from tensorflow.keras.models import Sequential\n",
    "import tensorflow as tf\n",
    "import numpy as np\n",
    "\n",
    "np.random.seed(3)\n",
    "tf.random.set_seed(3)\n",
    "\n",
    "model = Sequential()\n",
    "model.add(Dense(30,activation = 'sigmoid',input_shape=(17,)))\n",
    "model.add(Dense(1,activation='sigmoid'))\n",
    "\n",
    "model.compile(loss='binary_crossentropy',optimizer='adam',metrics=['accuracy'])\n",
    "history = model.fit(x_scaled_train, y_train ,epochs=30,batch_size=10,validation_split=0.2)\n",
    "\n"
   ]
  },
  {
   "cell_type": "code",
   "execution_count": 52,
   "id": "bc2d0d3d",
   "metadata": {
    "ExecuteTime": {
     "end_time": "2023-02-21T02:09:33.163711Z",
     "start_time": "2023-02-21T02:09:33.154512Z"
    }
   },
   "outputs": [],
   "source": [
    "result =  history.history"
   ]
  },
  {
   "cell_type": "code",
   "execution_count": 53,
   "id": "c8d41001",
   "metadata": {
    "ExecuteTime": {
     "end_time": "2023-02-21T02:09:33.599404Z",
     "start_time": "2023-02-21T02:09:33.579556Z"
    }
   },
   "outputs": [
    {
     "data": {
      "text/plain": [
       "0.4435688853263855"
      ]
     },
     "execution_count": 53,
     "metadata": {},
     "output_type": "execute_result"
    }
   ],
   "source": [
    "result['val_loss'][0]"
   ]
  },
  {
   "cell_type": "code",
   "execution_count": 54,
   "id": "e3978791",
   "metadata": {
    "ExecuteTime": {
     "end_time": "2023-02-21T02:09:34.082805Z",
     "start_time": "2023-02-21T02:09:34.070162Z"
    }
   },
   "outputs": [
    {
     "data": {
      "text/plain": [
       "0.8815789222717285"
      ]
     },
     "execution_count": 54,
     "metadata": {},
     "output_type": "execute_result"
    }
   ],
   "source": [
    "result['val_accuracy'][0]"
   ]
  },
  {
   "cell_type": "code",
   "execution_count": 61,
   "id": "147b0b33",
   "metadata": {
    "ExecuteTime": {
     "end_time": "2023-02-21T02:10:52.749712Z",
     "start_time": "2023-02-21T02:10:52.491255Z"
    }
   },
   "outputs": [
    {
     "data": {
      "text/plain": [
       "Text(0.5, 1.0, 'validation ')"
      ]
     },
     "execution_count": 61,
     "metadata": {},
     "output_type": "execute_result"
    },
    {
     "data": {
      "image/png": "[encoded data removed]",
      "text/plain": [
       "<Figure size 640x480 with 1 Axes>"
      ]
     },
     "metadata": {},
     "output_type": "display_data"
    }
   ],
   "source": [
    "## matplotlib을 이용해서 그래프\n",
    "import matplotlib.pyplot as plt\n",
    "\n",
    "fig,ax = plt.subplots()\n",
    "ax.plot(result['val_loss'],label ='val_loss')\n",
    "ax.plot(result['val_accuracy'],label='val_accuracy')\n",
    "plt.legend()\n",
    "ax.set_xlabel('epochs')\n",
    "ax.set_ylabel('score')\n",
    "ax.set_title('validation ')"
   ]
  },
  {
   "cell_type": "code",
   "execution_count": 56,
   "id": "622e11a9",
   "metadata": {
    "ExecuteTime": {
     "end_time": "2023-02-21T02:09:35.511043Z",
     "start_time": "2023-02-21T02:09:35.396779Z"
    }
   },
   "outputs": [
    {
     "name": "stdout",
     "output_type": "stream",
     "text": [
      "테스트 손실값: 0.3542338013648987\n",
      "테스트 정확도: 0.8617021441459656\n"
     ]
    }
   ],
   "source": [
    "score = model.evaluate(x_scaled_test, y_test, verbose=0)\n",
    "print('테스트 손실값:', score[0])\n",
    "print('테스트 정확도:', score[1])"
   ]
  },
  {
   "cell_type": "code",
   "execution_count": null,
   "id": "4dabd48c",
   "metadata": {},
   "outputs": [],
   "source": []
  }
 ],
 "metadata": {
  "kernelspec": {
   "display_name": "Python 3 (ipykernel)",
   "language": "python",
   "name": "python3"
  },
  "language_info": {
   "codemirror_mode": {
    "name": "ipython",
    "version": 3
   },
   "file_extension": ".py",
   "mimetype": "text/x-python",
   "name": "python",
   "nbconvert_exporter": "python",
   "pygments_lexer": "ipython3",
   "version": "3.9.13"
  },
  "toc": {
   "base_numbering": 1,
   "nav_menu": {},
   "number_sections": true,
   "sideBar": true,
   "skip_h1_title": false,
   "title_cell": "Table of Contents",
   "title_sidebar": "Contents",
   "toc_cell": false,
   "toc_position": {},
   "toc_section_display": true,
   "toc_window_display": false
  },
  "varInspector": {
   "cols": {
    "lenName": 16,
    "lenType": 16,
    "lenVar": 40
   },
   "kernels_config": {
    "python": {
     "delete_cmd_postfix": "",
     "delete_cmd_prefix": "del ",
     "library": "var_list.py",
     "varRefreshCmd": "print(var_dic_list())"
    },
    "r": {
     "delete_cmd_postfix": ") ",
     "delete_cmd_prefix": "rm(",
     "library": "var_list.r",
     "varRefreshCmd": "cat(var_dic_list()) "
    }
   },
   "types_to_exclude": [
    "module",
    "function",
    "builtin_function_or_method",
    "instance",
    "_Feature"
   ],
   "window_display": false
  }
 },
 "nbformat": 4,
 "nbformat_minor": 5
}
