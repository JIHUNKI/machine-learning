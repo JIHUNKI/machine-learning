{
 "cells": [
  {
   "cell_type": "markdown",
   "id": "b850df29",
   "metadata": {},
   "source": [
    "    tf.keras.preprocessing.text.text_to_word_sequence(\n",
    "        input_text,\n",
    "        filters='!\"#$%&()*+,-./:;<=>?@[\\\\]^_`{|}~\\t\\n',  \n",
    "                        # filters : 불용어처리 사용하지않는 언어로 처리\n",
    "        lower=True,\n",
    "        split=' '\n",
    "    )\n",
    "    \n",
    "## Args\n",
    "\n",
    "`input_text`\n",
    "\n",
    "Input text (string).\n",
    "\n",
    "`filters`\n",
    "\n",
    "list (or concatenation) of characters to filter out, such as punctuation. Default:  ``'!\"#$%&()*+,-./:;<=>?@[\\\\]^_`{|}~\\\\t\\\\n'``, includes basic punctuation, tabs, and newlines.\n",
    "\n",
    "`lower`\n",
    "\n",
    "boolean. Whether to convert the input to lowercase.\n",
    "\n",
    "`split`\n",
    "\n",
    "str. Separator for word splitting.\n",
    "\n",
    " `Returns`\n",
    "\n",
    "A list of words (or tokens)."
   ]
  },
  {
   "cell_type": "code",
   "execution_count": 14,
   "id": "f3a6af34",
   "metadata": {
    "ExecuteTime": {
     "end_time": "2023-02-28T04:03:04.985786Z",
     "start_time": "2023-02-28T04:03:04.974810Z"
    }
   },
   "outputs": [],
   "source": [
    "from tensorflow.keras.preprocessing.text import text_to_word_sequence\n",
    "text = \"해보지 않으면 해낼 수 없다\"\n",
    "\n",
    "tocken = text_to_word_sequence(text,split = ' ') # 나누는 구분자"
   ]
  },
  {
   "cell_type": "code",
   "execution_count": 17,
   "id": "cd50a778",
   "metadata": {
    "ExecuteTime": {
     "end_time": "2023-02-28T04:03:15.796225Z",
     "start_time": "2023-02-28T04:03:15.781688Z"
    }
   },
   "outputs": [
    {
     "name": "stdout",
     "output_type": "stream",
     "text": [
      "원문: 해보지 않으면 해낼 수 없다\n",
      "토큰화: ['해보지', '않으면', '해낼', '수', '없다']\n"
     ]
    }
   ],
   "source": [
    "print('원문:',text)\n",
    "print('토큰화:',tocken)"
   ]
  },
  {
   "cell_type": "markdown",
   "id": "411a6ff8",
   "metadata": {},
   "source": [
    "## tf.keras.preprocessing.text.Tokenizer\n",
    "\n",
    "```\n",
    "tf.keras.preprocessing.text.Tokenizer(    num_words=None,    filters='!\"#$%&()*+,-./:;<=>?@[\\\\]^_`{|}~\\t\\n',    lower=True,    split=' ',    char_level=False,    oov_token=None,    analyzer=None,    **kwargs)\n",
    "```\n",
    "\n",
    "## Args\n",
    "\n",
    "`num_words`\n",
    "\n",
    "the maximum number of words to keep, based on word frequency. Only the most common  `num_words-1`  words will be kept.\n",
    "\n",
    "`filters`\n",
    "\n",
    "a string where each element is a character that will be filtered from the texts. The default is all punctuation, plus tabs and line breaks, minus the  `'`  character.\n",
    "\n",
    "`lower`\n",
    "\n",
    "boolean. Whether to convert the texts to lowercase.\n",
    "\n",
    "`split`\n",
    "\n",
    "str. Separator for word splitting.\n",
    "\n",
    "`char_level`\n",
    "\n",
    "if True, every character will be treated as a token.\n",
    "\n",
    "`oov_token`\n",
    "\n",
    "if given, it will be added to word_index and used to replace out-of-vocabulary words during text_to_sequence calls\n",
    "\n",
    "`analyzer`\n",
    "\n",
    "function. Custom analyzer to split the text. The default analyzer is text_to_word_sequence\n",
    "\n",
    "## Methods\n",
    "\n",
    "### `fit_on_sequences`\n",
    "\n",
    "[View source](https://github.com/keras-team/keras/tree/v2.11.0/keras/preprocessing/text.py#L329-L343)\n",
    "\n",
    "```\n",
    "fit_on_sequences(    sequences)\n",
    "```\n",
    "\n",
    "Updates internal vocabulary based on a list of sequences.\n",
    "\n",
    "Required before using  `sequences_to_matrix`  (if  `fit_on_texts`  was never called).\n",
    "\n",
    "Args\n",
    "\n",
    "`sequences`\n",
    "\n",
    "A list of sequence. A \"sequence\" is a list of integer word indices.\n",
    "\n",
    "### `fit_on_texts`\n",
    "\n",
    "[View source](https://github.com/keras-team/keras/tree/v2.11.0/keras/preprocessing/text.py#L269-L327)\n",
    "\n",
    "```\n",
    "fit_on_texts(    texts)\n",
    "```\n",
    "\n",
    "Updates internal vocabulary based on a list of texts.\n",
    "\n",
    "In the case where texts contains lists, we assume each entry of the lists to be a token.\n",
    "\n",
    "Required before using  `texts_to_sequences`  or  `texts_to_matrix`.\n",
    "\n",
    "Args\n",
    "\n",
    "`texts`\n",
    "\n",
    "can be a list of strings, a generator of strings (for memory-efficiency), or a list of list of strings.\n",
    "\n",
    "```\n",
    "get_config()\n",
    "```\n",
    "\n",
    "Returns the tokenizer configuration as Python dictionary.\n",
    "\n",
    "The word count dictionaries used by the tokenizer get serialized into plain JSON, so that the configuration can be read by other projects.\n",
    "\n",
    "Returns\n",
    "\n",
    "A Python dictionary with the tokenizer configuration.\n",
    "\n",
    "\n",
    "\n",
    " \n",
    "## attributes\n",
    " \n",
    "* word_docs : 각 가 몇개의 문장에 포함되어 있는가\n",
    "\n",
    "* word_counts : 각 단어의 카운트\n",
    "\n",
    "* word_index : 각 단어의 매겨진 인덱스 값"
   ]
  },
  {
   "cell_type": "code",
   "execution_count": 24,
   "id": "83aca924",
   "metadata": {
    "ExecuteTime": {
     "end_time": "2023-02-28T04:17:43.176353Z",
     "start_time": "2023-02-28T04:17:43.159430Z"
    }
   },
   "outputs": [
    {
     "name": "stdout",
     "output_type": "stream",
     "text": [
      "문자의 토큰화: {'토큰화': 1, '텍스트의': 2, '딥러닝에서': 3, '먼저': 4, '각': 5, '단어를': 6, '나누어': 7, '합니다': 8, '단어로': 9, '해야': 10, '인식됩니다': 11, '한': 12, '결과는': 13, '사용': 14, '할': 15, '수': 16, '있습니다': 17}\n",
      "단어 카운트 \n",
      " OrderedDict([('먼저', 1), ('텍스트의', 2), ('각', 1), ('단어를', 1), ('나누어', 1), ('토큰화', 3), ('합니다', 1), ('단어로', 1), ('해야', 1), ('딥러닝에서', 2), ('인식됩니다', 1), ('한', 1), ('결과는', 1), ('사용', 1), ('할', 1), ('수', 1), ('있습니다', 1)])\n",
      "문장 카운트: 3\n",
      "각 단어가 몇개의 문장에 포함되어 있는가:\n",
      " defaultdict(<class 'int'>, {'먼저': 1, '토큰화': 3, '단어를': 1, '텍스트의': 2, '나누어': 1, '합니다': 1, '각': 1, '딥러닝에서': 2, '해야': 1, '단어로': 1, '인식됩니다': 1, '한': 1, '있습니다': 1, '결과는': 1, '사용': 1, '수': 1, '할': 1})\n",
      "각 단어에 매겨진 인덱스 값: \n",
      " {'토큰화': 1, '텍스트의': 2, '딥러닝에서': 3, '먼저': 4, '각': 5, '단어를': 6, '나누어': 7, '합니다': 8, '단어로': 9, '해야': 10, '인식됩니다': 11, '한': 12, '결과는': 13, '사용': 14, '할': 15, '수': 16, '있습니다': 17}\n"
     ]
    }
   ],
   "source": [
    "from tensorflow.keras.preprocessing.text import Tokenizer\n",
    "\n",
    "# 단어 빈도수 세기\n",
    "# 전처리 하려는 세개의 문장을 정한다\n",
    "docs = ['먼저 텍스트의 각 단어를 나누어 토큰화 합니다.',\n",
    "       '텍스트의 단어로 토큰화 해야 딥러닝에서 인식됩니다.',\n",
    "        '토큰화 한 결과는 딥러닝에서 사용 할 수 있습니다.'\n",
    "       ]\n",
    "# 토큰화 함수를 이용하여 전처리하는 과정\n",
    "token = Tokenizer()    # 토큰화 함수 지정\n",
    "token.fit_on_texts(docs)\n",
    "print('문자의 토큰화:', token.word_index)\n",
    "\n",
    "\n",
    "\n",
    "# 단어의 빈도수를 계산한 결과를 각 옵션에 맞추어 출력\n",
    "print('단어 카운트 \\n',token.word_counts)\n",
    "\n",
    "# 출력되는 순서는 랜덤\n",
    "print('문장 카운트:',token.document_count)\n",
    "print('각 단어가 몇개의 문장에 포함되어 있는가:\\n',token.word_docs)\n",
    "print('각 단어에 매겨진 인덱스 값: \\n',token.word_index)\n",
    "\n"
   ]
  },
  {
   "cell_type": "code",
   "execution_count": 28,
   "id": "e2886809",
   "metadata": {
    "ExecuteTime": {
     "end_time": "2023-02-28T04:22:25.588267Z",
     "start_time": "2023-02-28T04:22:25.563920Z"
    }
   },
   "outputs": [
    {
     "name": "stdout",
     "output_type": "stream",
     "text": [
      "문장의 토큰화: {'오랫동안': 1, '꿈꾸는': 2, '자는': 3, '그': 4, '꿈을': 5, '닯아간다': 6}\n",
      "문장의 숫자화: [[1, 2, 3, 4, 5, 6]]\n",
      "문장의 원-핫 인코딩:  [[[0. 1. 0. 0. 0. 0. 0.]\n",
      "  [0. 0. 1. 0. 0. 0. 0.]\n",
      "  [0. 0. 0. 1. 0. 0. 0.]\n",
      "  [0. 0. 0. 0. 1. 0. 0.]\n",
      "  [0. 0. 0. 0. 0. 1. 0.]\n",
      "  [0. 0. 0. 0. 0. 0. 1.]]]\n"
     ]
    }
   ],
   "source": [
    "from tensorflow.keras.preprocessing.text import Tokenizer\n",
    "\n",
    "text = '오랫동안 꿈꾸는 자는 그 꿈을 닯아간다'\n",
    "\n",
    "\n",
    "token =Tokenizer()\n",
    "token.fit_on_texts([text])\n",
    "print('문장의 토큰화:' , token.word_index)\n",
    "\n",
    "# 각 단어를 숫차화\n",
    "x = token.texts_to_sequences([text])\n",
    "print('문장의 숫자화:',x)\n",
    "\n",
    "# 원 핫 인코딩 방식으로 표현하면\n",
    "from tensorflow.keras.utils import to_categorical\n",
    "word_size = len(token.word_index)+1\n",
    "x = to_categorical(x,num_classes=word_size)\n",
    "print('문장의 원-핫 인코딩: ',x)"
   ]
  },
  {
   "cell_type": "code",
   "execution_count": 2,
   "id": "01b0e896",
   "metadata": {
    "ExecuteTime": {
     "end_time": "2023-02-28T09:29:09.918863Z",
     "start_time": "2023-02-28T09:29:09.898918Z"
    }
   },
   "outputs": [
    {
     "name": "stdout",
     "output_type": "stream",
     "text": [
      "\n",
      "원문:\n",
      " 해보지 않으면 해낼 수 없다\n",
      "\n",
      "토큰화:\n",
      " ['해보지', '않으면', '해낼', '수', '없다']\n",
      "\n",
      "단어 카운트: \n",
      " OrderedDict([('먼저', 1), ('텍스트의', 2), ('각', 1), ('단어를', 1), ('나누어', 1), ('토큰화', 3), ('합니다', 1), ('단어로', 1), ('해야', 1), ('딥러닝에서', 2), ('인십됩니다', 1), ('한', 1), ('결과는', 1), ('사용', 1), ('할', 1), ('수', 1), ('있습니다', 1)])\n",
      "\n",
      " 문장 카운터: 3\n",
      "\n",
      " 각 단어가 몇개의 문장에 포함되어 있는가: \n",
      " defaultdict(<class 'int'>, {'단어를': 1, '텍스트의': 2, '합니다': 1, '먼저': 1, '각': 1, '토큰화': 3, '나누어': 1, '단어로': 1, '딥러닝에서': 2, '인십됩니다': 1, '해야': 1, '사용': 1, '수': 1, '할': 1, '결과는': 1, '한': 1, '있습니다': 1})\n",
      "\n",
      " 각 단어에 매겨진 인덱스 값:\n",
      " {'토큰화': 1, '텍스트의': 2, '딥러닝에서': 3, '먼저': 4, '각': 5, '단어를': 6, '나누어': 7, '합니다': 8, '단어로': 9, '해야': 10, '인십됩니다': 11, '한': 12, '결과는': 13, '사용': 14, '할': 15, '수': 16, '있습니다': 17}\n"
     ]
    }
   ],
   "source": [
    "import numpy as np\n",
    "import tensorflow as tf\n",
    "from tensorflow.keras.preprocessing.text import Tokenizer\n",
    "from tensorflow.keras.preprocessing.sequence import pad_sequences\n",
    "from tensorflow.keras.models import Sequential\n",
    "from tensorflow.keras.layers import Dense,Flatten,Embedding\n",
    "\n",
    "# 주어진 문장을 단어로 토큰화 하기\n",
    "# 케라스의 텍스트 전처리와 관련한 함수중 text_to_word_sequence 함수를 불러온다\n",
    "from tensorflow.keras.preprocessing.text import text_to_word_sequence\n",
    "\n",
    "# 전처리할 텍스트를 정합니다\n",
    "text = '해보지 않으면 해낼 수 없다'\n",
    "\n",
    "# 해당 텍스트를 토큰화 합니다.\n",
    "result = text_to_word_sequence(text)\n",
    "print('\\n원문:\\n',text)\n",
    "print('\\n토큰화:\\n',result)\n",
    "\n",
    "# 단어 빈도수 세기\n",
    "# 전처리 하려는 세개의 문장을 정합니다.\n",
    "\n",
    "docs = ['먼저 텍스트의 각 단어를 나누어 토큰화 합니다.',\n",
    "       '텍스트의 단어로 토큰화 해야 딥러닝에서 인십됩니다.',\n",
    "       '토큰화 한 결과는 딥러닝에서 사용 할 수 있습니다.']\n",
    "# 토큰화 함수를 이용해 전처리 하는 과정입니다\n",
    "token = Tokenizer()            # 토큰화 함수 지정\n",
    "token.fit_on_texts(docs)       # 토큰화 함수에 문장 적용\n",
    "\n",
    "# 단어의 빈도수를 계산한 결과를 각 옵션에 맞추워 출력합니다.\n",
    "\n",
    "print('\\n단어 카운트: \\n',token.word_counts)\n",
    "\n",
    "# Tokenizer()의 word_counts 함수는 순서를 기억하는 ordereDict 클래스를 사용합니다.\n",
    "\n",
    "# 출력되는 순서는 랜덤입니다.\n",
    "print(\"\\n 문장 카운터:\",token.document_count)\n",
    "print(\"\\n 각 단어가 몇개의 문장에 포함되어 있는가: \\n\", token.word_docs)\n",
    "print(\"\\n 각 단어에 매겨진 인덱스 값:\\n\", token.word_index)"
   ]
  },
  {
   "cell_type": "code",
   "execution_count": 7,
   "id": "82c784fe",
   "metadata": {
    "ExecuteTime": {
     "end_time": "2023-02-28T09:39:41.224645Z",
     "start_time": "2023-02-28T09:39:39.460567Z"
    }
   },
   "outputs": [
    {
     "name": "stdout",
     "output_type": "stream",
     "text": [
      "{'너무': 1, '재밌네요': 2, '최고에요': 3, '참': 4, '잘': 5, '만든': 6, '영화에요': 7, '추천하고': 8, '싶은': 9, '영화입니다': 10, '한번': 11, '더': 12, '보고싶네요': 13, '글쎄요': 14, '별로에요': 15, '생각보다': 16, '지루하네요': 17, '연기가': 18, '어색해요': 19, '재미없어요': 20}\n",
      "\n",
      "리뷰 텍스트, 토큰화 결과: \n",
      " [[1, 2], [3], [4, 5, 6, 7], [8, 9, 10], [11, 12, 13], [14], [15], [16, 17], [18, 19], [20]]\n",
      "\n",
      " 패딩 결과: \n",
      " [[ 0  0  1  2]\n",
      " [ 0  0  0  3]\n",
      " [ 4  5  6  7]\n",
      " [ 0  8  9 10]\n",
      " [ 0 11 12 13]\n",
      " [ 0  0  0 14]\n",
      " [ 0  0  0 15]\n",
      " [ 0  0 16 17]\n",
      " [ 0  0 18 19]\n",
      " [ 0  0  0 20]]\n",
      "\n",
      "딥러닝 모델 시작:\n",
      "Epoch 1/20\n",
      "1/1 [==============================] - 1s 962ms/step - loss: 0.6852 - accuracy: 0.8000\n",
      "Epoch 2/20\n",
      "1/1 [==============================] - 0s 11ms/step - loss: 0.6828 - accuracy: 0.8000\n",
      "Epoch 3/20\n",
      "1/1 [==============================] - 0s 10ms/step - loss: 0.6805 - accuracy: 0.8000\n",
      "Epoch 4/20\n",
      "1/1 [==============================] - 0s 7ms/step - loss: 0.6782 - accuracy: 0.8000\n",
      "Epoch 5/20\n",
      "1/1 [==============================] - 0s 8ms/step - loss: 0.6759 - accuracy: 0.8000\n",
      "Epoch 6/20\n",
      "1/1 [==============================] - 0s 10ms/step - loss: 0.6736 - accuracy: 0.8000\n",
      "Epoch 7/20\n",
      "1/1 [==============================] - 0s 10ms/step - loss: 0.6712 - accuracy: 0.8000\n",
      "Epoch 8/20\n",
      "1/1 [==============================] - 0s 8ms/step - loss: 0.6689 - accuracy: 0.8000\n",
      "Epoch 9/20\n",
      "1/1 [==============================] - 0s 8ms/step - loss: 0.6666 - accuracy: 0.8000\n",
      "Epoch 10/20\n",
      "1/1 [==============================] - 0s 8ms/step - loss: 0.6642 - accuracy: 0.8000\n",
      "Epoch 11/20\n",
      "1/1 [==============================] - 0s 9ms/step - loss: 0.6619 - accuracy: 0.8000\n",
      "Epoch 12/20\n",
      "1/1 [==============================] - 0s 9ms/step - loss: 0.6596 - accuracy: 0.8000\n",
      "Epoch 13/20\n",
      "1/1 [==============================] - 0s 9ms/step - loss: 0.6572 - accuracy: 0.8000\n",
      "Epoch 14/20\n",
      "1/1 [==============================] - 0s 8ms/step - loss: 0.6549 - accuracy: 0.8000\n",
      "Epoch 15/20\n",
      "1/1 [==============================] - 0s 9ms/step - loss: 0.6525 - accuracy: 0.8000\n",
      "Epoch 16/20\n",
      "1/1 [==============================] - 0s 8ms/step - loss: 0.6502 - accuracy: 0.9000\n",
      "Epoch 17/20\n",
      "1/1 [==============================] - 0s 6ms/step - loss: 0.6478 - accuracy: 0.9000\n",
      "Epoch 18/20\n",
      "1/1 [==============================] - 0s 8ms/step - loss: 0.6454 - accuracy: 0.9000\n",
      "Epoch 19/20\n",
      "1/1 [==============================] - 0s 7ms/step - loss: 0.6430 - accuracy: 0.9000\n",
      "Epoch 20/20\n",
      "1/1 [==============================] - 0s 8ms/step - loss: 0.6406 - accuracy: 0.9000\n",
      "1/1 [==============================] - 0s 215ms/step - loss: 0.6382 - accuracy: 0.9000\n",
      "\n",
      " accuracy: 0.9\n"
     ]
    }
   ],
   "source": [
    "# 텍스트 리뷰 10개 샘플을 지정합니다.\n",
    "docs = [\"너무 재밌네요\",\"최고에요\",\"참 잘 만든 영화에요\",\n",
    "       \"추천하고 싶은 영화입니다\",\"한번 더 보고싶네요\",\n",
    "       \"글쎄요\",\"별로에요\",\"생각보다 지루하네요\",\"연기가 어색해요\",\"재미없어요\"]\n",
    "\n",
    "# 긍정 리뷰는 1. 부정리뷰는 0으로 클래스를 지정합니다.\n",
    "\n",
    "classe = np.array([1,1,1,1,1,0,0,0,0,0])\n",
    "\n",
    "# 토큰화\n",
    "token = Tokenizer()\n",
    "token.fit_on_texts(docs)\n",
    "print(token.word_index)\n",
    "x = token.texts_to_sequences(docs)\n",
    "print('\\n리뷰 텍스트, 토큰화 결과: \\n',x)\n",
    "\n",
    "# 패딩, 서로 다른 길이의 데이터를 4로 맞추어 줍니다\n",
    "padded_x = pad_sequences(x,4)\n",
    "print('\\n 패딩 결과: \\n',padded_x)\n",
    "\n",
    "# 딥러닝 모델\n",
    "print('\\n딥러닝 모델 시작:')\n",
    "\n",
    "# 임배딩에 입력될 단어의 수를 지정합니다\n",
    "word_size = len(token.word_index)+1\n",
    "\n",
    "# 단어 임배딩을 포함하여 딥러닝 모델을 만들고 결과를 출력합니다.\n",
    "\n",
    "model = Sequential()\n",
    "model.add(Embedding(word_size,8,input_length=4)) # 여기서 8이라는 숫자는 임의로 정한것 데이터에 따라 적절한 값으로 바꿀수 있음 \n",
    "model.add(Flatten())             #   우리눈에 보이지 않음\n",
    "model.add(Dense(1,activation='sigmoid'))\n",
    "model.compile(optimizer='adam',\n",
    "             loss='binary_crossentropy',\n",
    "             metrics=['accuracy'])\n",
    "model.fit(padded_x,classe,epochs=20)\n",
    "print('\\n accuracy:',np.round(model.evaluate(padded_x,classe)[1],4))"
   ]
  }
 ],
 "metadata": {
  "kernelspec": {
   "display_name": "Python 3 (ipykernel)",
   "language": "python",
   "name": "python3"
  },
  "language_info": {
   "codemirror_mode": {
    "name": "ipython",
    "version": 3
   },
   "file_extension": ".py",
   "mimetype": "text/x-python",
   "name": "python",
   "nbconvert_exporter": "python",
   "pygments_lexer": "ipython3",
   "version": "3.9.13"
  },
  "toc": {
   "base_numbering": 1,
   "nav_menu": {},
   "number_sections": true,
   "sideBar": true,
   "skip_h1_title": false,
   "title_cell": "Table of Contents",
   "title_sidebar": "Contents",
   "toc_cell": false,
   "toc_position": {},
   "toc_section_display": true,
   "toc_window_display": false
  },
  "varInspector": {
   "cols": {
    "lenName": 16,
    "lenType": 16,
    "lenVar": 40
   },
   "kernels_config": {
    "python": {
     "delete_cmd_postfix": "",
     "delete_cmd_prefix": "del ",
     "library": "var_list.py",
     "varRefreshCmd": "print(var_dic_list())"
    },
    "r": {
     "delete_cmd_postfix": ") ",
     "delete_cmd_prefix": "rm(",
     "library": "var_list.r",
     "varRefreshCmd": "cat(var_dic_list()) "
    }
   },
   "types_to_exclude": [
    "module",
    "function",
    "builtin_function_or_method",
    "instance",
    "_Feature"
   ],
   "window_display": false
  }
 },
 "nbformat": 4,
 "nbformat_minor": 5
}
