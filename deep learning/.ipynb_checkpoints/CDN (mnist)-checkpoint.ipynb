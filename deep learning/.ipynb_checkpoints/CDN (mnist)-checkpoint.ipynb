{
 "cells": [
  {
   "cell_type": "code",
   "execution_count": 17,
   "id": "71bbb061",
   "metadata": {
    "ExecuteTime": {
     "end_time": "2023-02-27T00:39:12.575213Z",
     "start_time": "2023-02-27T00:39:12.555244Z"
    }
   },
   "outputs": [],
   "source": [
    "from tensorflow.keras.datasets import mnist\n",
    "from keras.utils import to_categorical\n",
    "\n",
    "import numpy as np\n",
    "import sys\n",
    "import tensorflow as tf"
   ]
  },
  {
   "cell_type": "code",
   "execution_count": 18,
   "id": "83504dae",
   "metadata": {
    "ExecuteTime": {
     "end_time": "2023-02-27T00:39:16.450662Z",
     "start_time": "2023-02-27T00:39:16.034186Z"
    }
   },
   "outputs": [
    {
     "name": "stdout",
     "output_type": "stream",
     "text": [
      "60000\n",
      "10000\n"
     ]
    }
   ],
   "source": [
    "seed=0\n",
    "np.random.seed(seed)\n",
    "tf.random.set_seed(3)\n",
    "\n",
    "# 데이터 불러오기\n",
    "(x_train,y_train),(x_test,y_test) = mnist.load_data()\n",
    "\n",
    "print(x_train.shape[0])\n",
    "print(x_test.shape[0])"
   ]
  },
  {
   "cell_type": "code",
   "execution_count": 19,
   "id": "4ef86857",
   "metadata": {
    "ExecuteTime": {
     "end_time": "2023-02-27T00:39:16.653296Z",
     "start_time": "2023-02-27T00:39:16.468615Z"
    }
   },
   "outputs": [
    {
     "data": {
      "image/png": "[encoded data removed]",
      "text/plain": [
       "<Figure size 640x480 with 1 Axes>"
      ]
     },
     "metadata": {},
     "output_type": "display_data"
    }
   ],
   "source": [
    "import matplotlib.pyplot as plt\n",
    "plt.imshow(x_train[0], cmap= 'Greys')\n",
    "plt.show()"
   ]
  },
  {
   "cell_type": "code",
   "execution_count": 20,
   "id": "4d2de03f",
   "metadata": {
    "ExecuteTime": {
     "end_time": "2023-02-27T00:39:16.919778Z",
     "start_time": "2023-02-27T00:39:16.900354Z"
    }
   },
   "outputs": [
    {
     "name": "stdout",
     "output_type": "stream",
     "text": [
      "0\t0\t0\t0\t0\t0\t0\t0\t0\t0\t0\t0\t0\t0\t0\t0\t0\t0\t0\t0\t0\t0\t0\t0\t0\t0\t0\t0\t\n",
      "0\t0\t0\t0\t0\t0\t0\t0\t0\t0\t0\t0\t0\t0\t0\t0\t0\t0\t0\t0\t0\t0\t0\t0\t0\t0\t0\t0\t\n",
      "0\t0\t0\t0\t0\t0\t0\t0\t0\t0\t0\t0\t0\t0\t0\t0\t0\t0\t0\t0\t0\t0\t0\t0\t0\t0\t0\t0\t\n",
      "0\t0\t0\t0\t0\t0\t0\t0\t0\t0\t0\t0\t0\t0\t0\t0\t0\t0\t0\t0\t0\t0\t0\t0\t0\t0\t0\t0\t\n",
      "0\t0\t0\t0\t0\t0\t0\t0\t0\t0\t0\t0\t0\t0\t0\t0\t0\t0\t0\t0\t0\t0\t0\t0\t0\t0\t0\t0\t\n",
      "0\t0\t0\t0\t0\t0\t0\t0\t0\t0\t0\t0\t3\t18\t18\t18\t126\t136\t175\t26\t166\t255\t247\t127\t0\t0\t0\t0\t\n",
      "0\t0\t0\t0\t0\t0\t0\t0\t30\t36\t94\t154\t170\t253\t253\t253\t253\t253\t225\t172\t253\t242\t195\t64\t0\t0\t0\t0\t\n",
      "0\t0\t0\t0\t0\t0\t0\t49\t238\t253\t253\t253\t253\t253\t253\t253\t253\t251\t93\t82\t82\t56\t39\t0\t0\t0\t0\t0\t\n",
      "0\t0\t0\t0\t0\t0\t0\t18\t219\t253\t253\t253\t253\t253\t198\t182\t247\t241\t0\t0\t0\t0\t0\t0\t0\t0\t0\t0\t\n",
      "0\t0\t0\t0\t0\t0\t0\t0\t80\t156\t107\t253\t253\t205\t11\t0\t43\t154\t0\t0\t0\t0\t0\t0\t0\t0\t0\t0\t\n",
      "0\t0\t0\t0\t0\t0\t0\t0\t0\t14\t1\t154\t253\t90\t0\t0\t0\t0\t0\t0\t0\t0\t0\t0\t0\t0\t0\t0\t\n",
      "0\t0\t0\t0\t0\t0\t0\t0\t0\t0\t0\t139\t253\t190\t2\t0\t0\t0\t0\t0\t0\t0\t0\t0\t0\t0\t0\t0\t\n",
      "0\t0\t0\t0\t0\t0\t0\t0\t0\t0\t0\t11\t190\t253\t70\t0\t0\t0\t0\t0\t0\t0\t0\t0\t0\t0\t0\t0\t\n",
      "0\t0\t0\t0\t0\t0\t0\t0\t0\t0\t0\t0\t35\t241\t225\t160\t108\t1\t0\t0\t0\t0\t0\t0\t0\t0\t0\t0\t\n",
      "0\t0\t0\t0\t0\t0\t0\t0\t0\t0\t0\t0\t0\t81\t240\t253\t253\t119\t25\t0\t0\t0\t0\t0\t0\t0\t0\t0\t\n",
      "0\t0\t0\t0\t0\t0\t0\t0\t0\t0\t0\t0\t0\t0\t45\t186\t253\t253\t150\t27\t0\t0\t0\t0\t0\t0\t0\t0\t\n",
      "0\t0\t0\t0\t0\t0\t0\t0\t0\t0\t0\t0\t0\t0\t0\t16\t93\t252\t253\t187\t0\t0\t0\t0\t0\t0\t0\t0\t\n",
      "0\t0\t0\t0\t0\t0\t0\t0\t0\t0\t0\t0\t0\t0\t0\t0\t0\t249\t253\t249\t64\t0\t0\t0\t0\t0\t0\t0\t\n",
      "0\t0\t0\t0\t0\t0\t0\t0\t0\t0\t0\t0\t0\t0\t46\t130\t183\t253\t253\t207\t2\t0\t0\t0\t0\t0\t0\t0\t\n",
      "0\t0\t0\t0\t0\t0\t0\t0\t0\t0\t0\t0\t39\t148\t229\t253\t253\t253\t250\t182\t0\t0\t0\t0\t0\t0\t0\t0\t\n",
      "0\t0\t0\t0\t0\t0\t0\t0\t0\t0\t24\t114\t221\t253\t253\t253\t253\t201\t78\t0\t0\t0\t0\t0\t0\t0\t0\t0\t\n",
      "0\t0\t0\t0\t0\t0\t0\t0\t23\t66\t213\t253\t253\t253\t253\t198\t81\t2\t0\t0\t0\t0\t0\t0\t0\t0\t0\t0\t\n",
      "0\t0\t0\t0\t0\t0\t18\t171\t219\t253\t253\t253\t253\t195\t80\t9\t0\t0\t0\t0\t0\t0\t0\t0\t0\t0\t0\t0\t\n",
      "0\t0\t0\t0\t55\t172\t226\t253\t253\t253\t253\t244\t133\t11\t0\t0\t0\t0\t0\t0\t0\t0\t0\t0\t0\t0\t0\t0\t\n",
      "0\t0\t0\t0\t136\t253\t253\t253\t212\t135\t132\t16\t0\t0\t0\t0\t0\t0\t0\t0\t0\t0\t0\t0\t0\t0\t0\t0\t\n",
      "0\t0\t0\t0\t0\t0\t0\t0\t0\t0\t0\t0\t0\t0\t0\t0\t0\t0\t0\t0\t0\t0\t0\t0\t0\t0\t0\t0\t\n",
      "0\t0\t0\t0\t0\t0\t0\t0\t0\t0\t0\t0\t0\t0\t0\t0\t0\t0\t0\t0\t0\t0\t0\t0\t0\t0\t0\t0\t\n",
      "0\t0\t0\t0\t0\t0\t0\t0\t0\t0\t0\t0\t0\t0\t0\t0\t0\t0\t0\t0\t0\t0\t0\t0\t0\t0\t0\t0\t\n"
     ]
    }
   ],
   "source": [
    "for x in x_train[0]:\n",
    "    for i in x:\n",
    "        sys.stdout.write('%d\\t' % i)\n",
    "    sys.stdout.write('\\n')"
   ]
  },
  {
   "cell_type": "code",
   "execution_count": 23,
   "id": "d24c84cf",
   "metadata": {
    "ExecuteTime": {
     "end_time": "2023-02-27T00:44:14.724105Z",
     "start_time": "2023-02-27T00:44:14.161425Z"
    }
   },
   "outputs": [],
   "source": [
    "# 28*28 2차원 데이터를 784개의 1차원 데이터로 바꿔주면 784개의 속성으로 이용가능하다\n",
    "# 차원 변환 과정(2차원->1차원)\n",
    "\n",
    "x_train = x_train.reshape(x_train.shape[0],784)\n",
    "\n",
    "## 케라스는 데이터가 0~1 사이 값일때 최적의 성능으로 예측함\n",
    "# 데이터 정규화 : 255 로 나눈다\n",
    "\n",
    "x_train = x_train.astype('float64')  # 현재 정수형이므로 실수형으로 바꾼후 정규화 실시 \n",
    "x_train = x_train / 255\n",
    "\n",
    "# 테스트 셋에도 정규화 작업\n",
    "x_test = x_test.reshape(x_test.shape[0],784).astype('float64')/255"
   ]
  },
  {
   "cell_type": "code",
   "execution_count": 25,
   "id": "1f67408a",
   "metadata": {
    "ExecuteTime": {
     "end_time": "2023-02-27T00:45:49.552293Z",
     "start_time": "2023-02-27T00:45:49.533378Z"
    }
   },
   "outputs": [
    {
     "name": "stdout",
     "output_type": "stream",
     "text": [
      "class: 5\n"
     ]
    }
   ],
   "source": [
    "# 클래스 값 확인\n",
    "print('class: %d' % (y_train[0]))\n",
    "\n",
    "# 현재 클래스를 0~9 정수값인 0 or 1인 벡터로 수정\n",
    "# 바이너리화  ( 원핫인코딩)\n",
    "\n",
    "y_train = to_categorical(y_train,10)\n",
    "y_test = to_categorical(y_test,10)"
   ]
  },
  {
   "cell_type": "code",
   "execution_count": 27,
   "id": "00f388ef",
   "metadata": {
    "ExecuteTime": {
     "end_time": "2023-02-27T00:50:15.570934Z",
     "start_time": "2023-02-27T00:50:15.284574Z"
    }
   },
   "outputs": [],
   "source": [
    "from tensorflow.keras.layers import Dense\n",
    "from tensorflow.keras.models import Sequential\n",
    "from tensorflow.keras.callbacks import ModelCheckpoint, EarlyStopping\n",
    "\n",
    "# seed 값 설정\n",
    "seed = 0\n",
    "np.random.seed(seed)\n",
    "tf.random.set_seed(3)\n",
    "\n",
    "model = Sequential()\n",
    "model.add(Dense(512,input_dim=784,activation='relu'))\n",
    "model.add(Dense(10,activation='softmax'))\n",
    "\n",
    "# 모델 실행 \n",
    "model.compile(loss='categorical_crossentropy',\n",
    "             optimizer = 'adam',\n",
    "             metrics=['accuracy'])\n",
    "\n"
   ]
  },
  {
   "cell_type": "code",
   "execution_count": 29,
   "id": "c94b5f70",
   "metadata": {
    "ExecuteTime": {
     "end_time": "2023-02-27T00:55:41.161400Z",
     "start_time": "2023-02-27T00:54:34.848683Z"
    }
   },
   "outputs": [
    {
     "name": "stdout",
     "output_type": "stream",
     "text": [
      "\n",
      "Epoch 1: val_loss improved from inf to 0.14808, saving model to ./model\\01-0.1481.hdf5\n",
      "\n",
      "Epoch 2: val_loss improved from 0.14808 to 0.10290, saving model to ./model\\02-0.1029.hdf5\n",
      "\n",
      "Epoch 3: val_loss improved from 0.10290 to 0.08981, saving model to ./model\\03-0.0898.hdf5\n",
      "\n",
      "Epoch 4: val_loss improved from 0.08981 to 0.07877, saving model to ./model\\04-0.0788.hdf5\n",
      "\n",
      "Epoch 5: val_loss improved from 0.07877 to 0.07281, saving model to ./model\\05-0.0728.hdf5\n",
      "\n",
      "Epoch 6: val_loss improved from 0.07281 to 0.06540, saving model to ./model\\06-0.0654.hdf5\n",
      "\n",
      "Epoch 7: val_loss improved from 0.06540 to 0.06441, saving model to ./model\\07-0.0644.hdf5\n",
      "\n",
      "Epoch 8: val_loss improved from 0.06441 to 0.06004, saving model to ./model\\08-0.0600.hdf5\n",
      "\n",
      "Epoch 9: val_loss did not improve from 0.06004\n",
      "\n",
      "Epoch 10: val_loss did not improve from 0.06004\n",
      "\n",
      "Epoch 11: val_loss did not improve from 0.06004\n",
      "\n",
      "Epoch 12: val_loss did not improve from 0.06004\n",
      "\n",
      "Epoch 13: val_loss did not improve from 0.06004\n",
      "\n",
      "Epoch 14: val_loss did not improve from 0.06004\n",
      "\n",
      "Epoch 15: val_loss did not improve from 0.06004\n",
      "\n",
      "Epoch 16: val_loss did not improve from 0.06004\n",
      "\n",
      "Epoch 17: val_loss did not improve from 0.06004\n",
      "\n",
      "Epoch 18: val_loss did not improve from 0.06004\n"
     ]
    }
   ],
   "source": [
    "# 모델 저장 , 모델 최적화 단계에서 학습 자동 중단 설정\n",
    "import os\n",
    "model_DIR = './model/'\n",
    "if not os.path.exists(model_DIR):\n",
    "    os.mkdir(model_DIR)\n",
    "    \n",
    "modelpath = './model/{epoch:02d}-{val_loss:.4f}.hdf5'\n",
    "checkpointer = ModelCheckpoint(filepath = modelpath , monitor = 'val_loss',\n",
    "                              verbose=1,save_best_only=True)\n",
    "early_stopping_callback = EarlyStopping(monitor='val_loss',patience=10)\n",
    "\n",
    "history = model.fit(x_train,y_train,validation_data=(x_test,y_test),\n",
    "                   epochs=30,batch_size=200,verbose=0,\n",
    "                   callbacks = [early_stopping_callback,checkpointer])"
   ]
  },
  {
   "cell_type": "code",
   "execution_count": 33,
   "id": "bee907e8",
   "metadata": {
    "ExecuteTime": {
     "end_time": "2023-02-27T02:06:59.438187Z",
     "start_time": "2023-02-27T02:06:59.417246Z"
    }
   },
   "outputs": [
    {
     "data": {
      "text/plain": [
       "dict_keys(['loss', 'accuracy', 'val_loss', 'val_accuracy'])"
      ]
     },
     "execution_count": 33,
     "metadata": {},
     "output_type": "execute_result"
    }
   ],
   "source": [
    "history.history.keys()"
   ]
  },
  {
   "cell_type": "markdown",
   "id": "bfcfc5f7",
   "metadata": {},
   "source": [
    "    tf.keras.layers.Conv2D(\n",
    "        filters, 커널의 개수\n",
    "        kernel_size,  커널의 크기\n",
    "        strides=(1, 1), 원스텝씩 움직이며\n",
    "        padding='valid',or 'same'   -  valid = 노 패딩.\n",
    "        data_format=None,\n",
    "        dilation_rate=(1, 1),\n",
    "        groups=1,\n",
    "        activation=None, 활성화 함수\n",
    "        use_bias=True, \n",
    "        kernel_initializer='glorot_uniform',\n",
    "        bias_initializer='zeros',\n",
    "        kernel_regularizer=None,\n",
    "        bias_regularizer=None,\n",
    "        activity_regularizer=None,\n",
    "        kernel_constraint=None,\n",
    "        bias_constraint=None,\n",
    "        **kwargs\n",
    "    )"
   ]
  },
  {
   "cell_type": "markdown",
   "id": "18270f57",
   "metadata": {},
   "source": [
    "    tf.keras.layers.MaxPool2D(\n",
    "        pool_size=(2, 2),\n",
    "        strides=None,\n",
    "        padding='valid',\n",
    "        data_format=None,\n",
    "        **kwargs\n",
    "    )"
   ]
  },
  {
   "cell_type": "code",
   "execution_count": null,
   "id": "6fd99c74",
   "metadata": {},
   "outputs": [],
   "source": []
  }
 ],
 "metadata": {
  "kernelspec": {
   "display_name": "Python 3 (ipykernel)",
   "language": "python",
   "name": "python3"
  },
  "language_info": {
   "codemirror_mode": {
    "name": "ipython",
    "version": 3
   },
   "file_extension": ".py",
   "mimetype": "text/x-python",
   "name": "python",
   "nbconvert_exporter": "python",
   "pygments_lexer": "ipython3",
   "version": "3.9.13"
  },
  "toc": {
   "base_numbering": 1,
   "nav_menu": {},
   "number_sections": true,
   "sideBar": true,
   "skip_h1_title": false,
   "title_cell": "Table of Contents",
   "title_sidebar": "Contents",
   "toc_cell": false,
   "toc_position": {},
   "toc_section_display": true,
   "toc_window_display": false
  },
  "varInspector": {
   "cols": {
    "lenName": 16,
    "lenType": 16,
    "lenVar": 40
   },
   "kernels_config": {
    "python": {
     "delete_cmd_postfix": "",
     "delete_cmd_prefix": "del ",
     "library": "var_list.py",
     "varRefreshCmd": "print(var_dic_list())"
    },
    "r": {
     "delete_cmd_postfix": ") ",
     "delete_cmd_prefix": "rm(",
     "library": "var_list.r",
     "varRefreshCmd": "cat(var_dic_list()) "
    }
   },
   "types_to_exclude": [
    "module",
    "function",
    "builtin_function_or_method",
    "instance",
    "_Feature"
   ],
   "window_display": false
  }
 },
 "nbformat": 4,
 "nbformat_minor": 5
}
