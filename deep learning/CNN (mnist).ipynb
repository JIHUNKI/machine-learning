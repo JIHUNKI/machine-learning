{
 "cells": [
  {
   "cell_type": "markdown",
   "id": "7a9875e6",
   "metadata": {},
   "source": [
    "### tf.keras.layers.MaxPool2D\n",
    "    - Args\n",
    "    pool_size\n",
    "    integer or tuple of 2 integers, window size over which to take the maximum. (2, 2) will take the max value over a 2x2 pooling window. If only one integer is specified, the same window length will be used for both dimensions.\n",
    "    - strides\n",
    "    Integer, tuple of 2 integers, or None. Strides values. Specifies how far the pooling window moves for each pooling step. If None, it will default to pool_size.\n",
    "    - padding\n",
    "    One of \"valid\" or \"same\" (case-insensitive). \"valid\" means no padding. \"same\" results in padding evenly to the left/right or up/down of the input such that output has the same height/width dimension as the input."
   ]
  },
  {
   "cell_type": "code",
   "execution_count": 18,
   "id": "6affe3e2",
   "metadata": {
    "ExecuteTime": {
     "end_time": "2023-02-27T05:10:22.098734Z",
     "start_time": "2023-02-27T05:10:21.204401Z"
    }
   },
   "outputs": [
    {
     "name": "stdout",
     "output_type": "stream",
     "text": [
      "학습셋 이미지 수: 60000 개\n",
      "테스트셋 이미지 수: 10000 개\n",
      "class: 5\n"
     ]
    }
   ],
   "source": [
    "from tensorflow.keras.datasets import mnist\n",
    "from tensorflow.keras.utils import to_categorical\n",
    "from tensorflow.keras.models import Sequential\n",
    "from tensorflow.keras.layers import Dense,Dropout,Flatten,Conv2D,MaxPooling2D\n",
    "from tensorflow.keras.callbacks import ModelCheckpoint,EarlyStopping\n",
    "import matplotlib.pyplot as plt\n",
    "\n",
    "import numpy as np\n",
    "import sys\n",
    "import tensorflow as tf\n",
    "\n",
    "# seed 값 설정\n",
    "seed = 0\n",
    "np.random.seed(seed)\n",
    "tf.random.set_seed(3)\n",
    "\n",
    "#mnist 데이터셋 불러오기\n",
    "(x_train, y_train), (x_test, y_test) = mnist.load_data()\n",
    "\n",
    "print('학습셋 이미지 수: %d 개' % (x_train.shape[0]))\n",
    "print('테스트셋 이미지 수: %d 개' % (x_test.shape[0]))\n",
    "\n",
    "# 28*28 2차원 데이터를 784개의 1차원 데이터로 바꿔주면 784개의 속성으로 이용가능하다\n",
    "# 차원 변환 과정(2차원->1차원)\n",
    "\n",
    "x_train = x_train.reshape(x_train.shape[0],28,28,1)\n",
    "\n",
    "## 케라스는 데이터가 0~1 사이 값일때 최적의 성능으로 예측함\n",
    "# 데이터 정규화 : 255 로 나눈다\n",
    "\n",
    "x_train = x_train.astype('float64')  # 현재 정수형이므로 실수형으로 바꾼후 정규화 실시 \n",
    "x_train = x_train / 255\n",
    "\n",
    "# 테스트 셋에도 정규화 작업\n",
    "x_test = x_test.reshape(x_test.shape[0],28,28,1).astype('float64')/255\n",
    "\n",
    "# 클래스 값 확인\n",
    "print('class: %d' % (y_train[0]))\n",
    "\n",
    "# 현재 클래스를 0~9 정수값인 0 or 1인 벡터로 수정\n",
    "# 바이너리화  ( 원핫인코딩)\n",
    "\n",
    "y_train = to_categorical(y_train,10)\n",
    "y_test = to_categorical(y_test,10)"
   ]
  },
  {
   "cell_type": "markdown",
   "id": "b1d53713",
   "metadata": {},
   "source": [
    "### tf.keras.layers.Conv2D\n",
    "\n",
    "## Args\n",
    "\n",
    "`filters`\n",
    "\n",
    "Integer, the dimensionality of the output space (i.e. the number of output filters in the convolution).\n",
    "\n",
    "`kernel_size`\n",
    "\n",
    "An integer or tuple/list of 2 integers, specifying the height and width of the 2D convolution window. Can be a single integer to specify the same value for all spatial dimensions.\n",
    "\n",
    "`strides`\n",
    "\n",
    "An integer or tuple/list of 2 integers, specifying the strides of the convolution along the height and width. Can be a single integer to specify the same value for all spatial dimensions. Specifying any stride value != 1 is incompatible with specifying any  `dilation_rate`  value != 1.\n",
    "\n",
    "`padding`\n",
    "\n",
    "one of  `\"valid\"`  or  `\"same\"`  (case-insensitive).  `\"valid\"`  means no padding.  `\"same\"`  results in padding with zeros evenly to the left/right or up/down of the input. When  `padding=\"same\"`  and  `strides=1`, the output has the same size as the input.\n",
    "\n",
    "`data_format`\n",
    "\n",
    "A string, one of  `channels_last`  (default) or  `channels_first`. The ordering of the dimensions in the inputs.  `channels_last`  corresponds to inputs with shape  `(batch_size,  height,width,  channels)`  while  `channels_first`  corresponds to inputs with shape  `(batch_size,  channels,  height,  width)`. It defaults to the  `image_data_format`  value found in your Keras config file at  `~/.keras/keras.json`. If you never set it, then it will be  `channels_last`. Note that the  `channels_first`  format is currently not supported by TensorFlow on CPU.\n",
    "\n",
    "`dilation_rate`\n",
    "\n",
    "an integer or tuple/list of 2 integers, specifying the dilation rate to use for dilated convolution. Can be a single integer to specify the same value for all spatial dimensions. Currently, specifying any  `dilation_rate`  value != 1 is incompatible with specifying any stride value != 1.\n",
    "\n",
    "`groups`\n",
    "\n",
    "A positive integer specifying the number of groups in which the input is split along the channel axis. Each group is convolved separately with  `filters  /  groups`  filters. The output is the concatenation of all the  `groups`  results along the channel axis. Input channels and  `filters`  must both be divisible by  `groups`.\n",
    "\n",
    "`activation`\n",
    "\n",
    "Activation function to use. If you don't specify anything, no activation is applied (see  [`keras.activations`](https://www.tensorflow.org/api_docs/python/tf/keras/activations)).\n",
    "\n",
    "`use_bias`\n",
    "\n",
    "Boolean, whether the layer uses a bias vector.\n",
    "\n",
    "`kernel_initializer`\n",
    "\n",
    "Initializer for the  `kernel`  weights matrix (see  [`keras.initializers`](https://www.tensorflow.org/api_docs/python/tf/keras/initializers)). Defaults to 'glorot_uniform'.\n",
    "\n",
    "`bias_initializer`\n",
    "\n",
    "Initializer for the bias vector (see  [`keras.initializers`](https://www.tensorflow.org/api_docs/python/tf/keras/initializers)). Defaults to 'zeros'.\n",
    "\n",
    "`kernel_regularizer`\n",
    "\n",
    "Regularizer function applied to the  `kernel`  weights matrix (see  [`keras.regularizers`](https://www.tensorflow.org/api_docs/python/tf/keras/regularizers)).\n",
    "\n",
    "`bias_regularizer`\n",
    "\n",
    "Regularizer function applied to the bias vector (see  [`keras.regularizers`](https://www.tensorflow.org/api_docs/python/tf/keras/regularizers)).\n",
    "\n",
    "`activity_regularizer`\n",
    "\n",
    "Regularizer function applied to the output of the layer (its \"activation\") (see  [`keras.regularizers`](https://www.tensorflow.org/api_docs/python/tf/keras/regularizers)).\n",
    "\n",
    "`kernel_constraint`\n",
    "\n",
    "Constraint function applied to the kernel matrix (see  [`keras.constraints`](https://www.tensorflow.org/api_docs/python/tf/keras/constraints)).\n",
    "\n",
    "`bias_constraint`\n",
    "\n",
    "Constraint function applied to the bias vector (see  [`keras.constraints`](https://www.tensorflow.org/api_docs/python/tf/keras/constraints)).\n",
    "\n",
    " `Input shape`\n",
    "\n",
    "4+D tensor with shape:  `batch_shape + (channels,  rows,  cols)`  if  `data_format='channels_first'`  or 4+D tensor with shape:  `batch_shape + (rows,  cols,  channels)`  if  `data_format='channels_last'`.\n",
    "\n"
   ]
  },
  {
   "cell_type": "code",
   "execution_count": null,
   "id": "e57fa320",
   "metadata": {
    "ExecuteTime": {
     "start_time": "2023-02-27T05:10:27.450Z"
    }
   },
   "outputs": [
    {
     "name": "stdout",
     "output_type": "stream",
     "text": [
      "\n",
      "Epoch 1: val_loss improved from inf to 0.05925, saving model to ./model\\01-0.0593.hdf5\n",
      "\n",
      "Epoch 2: val_loss improved from 0.05925 to 0.04032, saving model to ./model\\02-0.0403.hdf5\n",
      "\n",
      "Epoch 3: val_loss improved from 0.04032 to 0.03479, saving model to ./model\\03-0.0348.hdf5\n",
      "\n",
      "Epoch 4: val_loss improved from 0.03479 to 0.02670, saving model to ./model\\04-0.0267.hdf5\n",
      "\n",
      "Epoch 5: val_loss did not improve from 0.02670\n",
      "\n",
      "Epoch 6: val_loss did not improve from 0.02670\n",
      "\n",
      "Epoch 7: val_loss improved from 0.02670 to 0.02494, saving model to ./model\\07-0.0249.hdf5\n",
      "\n",
      "Epoch 8: val_loss did not improve from 0.02494\n",
      "\n",
      "Epoch 9: val_loss improved from 0.02494 to 0.02487, saving model to ./model\\09-0.0249.hdf5\n",
      "\n",
      "Epoch 10: val_loss improved from 0.02487 to 0.02378, saving model to ./model\\10-0.0238.hdf5\n",
      "\n",
      "Epoch 11: val_loss improved from 0.02378 to 0.02361, saving model to ./model\\11-0.0236.hdf5\n",
      "\n",
      "Epoch 12: val_loss did not improve from 0.02361\n"
     ]
    }
   ],
   "source": [
    "\n",
    "# seed 값 설정\n",
    "seed = 0\n",
    "np.random.seed(seed)\n",
    "tf.random.set_seed(3)\n",
    "\n",
    "# 컨볼루전 신경망의 설정\n",
    "\n",
    "model = Sequential()\n",
    "model.add(Conv2D(\n",
    "    32, (3,3),\n",
    "    activation='relu',\n",
    "    dilation_rate=2,\n",
    "    input_shape=(28,28,1)))\n",
    "\n",
    "model.add(Conv2D(64,(3,3),activation='relu'))\n",
    "model.add(MaxPooling2D(pool_size=2))\n",
    "model.add(Dropout(0.25))\n",
    "model.add(Flatten())\n",
    "model.add(Dense(128,activation='relu'))\n",
    "model.add(Dropout(0.5))\n",
    "model.add(Dense(10,activation='softmax'))\n",
    "\n",
    "# 모델 실행 \n",
    "model.compile(loss='categorical_crossentropy',\n",
    "             optimizer = 'adam',\n",
    "             metrics=['accuracy'])\n",
    "\n",
    "# 모델 저장 , 모델 최적화 단계에서 학습 자동 중단 설정\n",
    "import os\n",
    "model_DIR = './model/'\n",
    "if not os.path.exists(model_DIR):\n",
    "    os.mkdir(model_DIR)\n",
    "    \n",
    "modelpath = './model/{epoch:02d}-{val_loss:.4f}.hdf5'\n",
    "checkpointer = ModelCheckpoint(filepath = modelpath , monitor = 'val_loss',\n",
    "                              verbose=1,save_best_only=True)\n",
    "early_stopping_callback = EarlyStopping(monitor='val_loss',patience=10)\n",
    "\n",
    "history = model.fit(x_train,y_train,validation_data=(x_test,y_test),\n",
    "                   epochs=30,batch_size=200,verbose=0,\n",
    "                   callbacks = [early_stopping_callback,checkpointer])"
   ]
  },
  {
   "cell_type": "code",
   "execution_count": 8,
   "id": "41baf57c",
   "metadata": {
    "ExecuteTime": {
     "end_time": "2023-02-27T04:54:49.507508Z",
     "start_time": "2023-02-27T04:54:47.697163Z"
    }
   },
   "outputs": [
    {
     "ename": "NameError",
     "evalue": "name 'model' is not defined",
     "output_type": "error",
     "traceback": [
      "\u001b[1;31m---------------------------------------------------------------------------\u001b[0m",
      "\u001b[1;31mNameError\u001b[0m                                 Traceback (most recent call last)",
      "\u001b[1;32m~\\AppData\\Local\\Temp\\ipykernel_39200\\1482204852.py\u001b[0m in \u001b[0;36m<module>\u001b[1;34m\u001b[0m\n\u001b[1;32m----> 1\u001b[1;33m \u001b[0mprint\u001b[0m\u001b[1;33m(\u001b[0m\u001b[1;34m\"\\/ Test Accuracy : %.4f\"\u001b[0m \u001b[1;33m%\u001b[0m\u001b[1;33m(\u001b[0m\u001b[0mmodel\u001b[0m\u001b[1;33m.\u001b[0m\u001b[0mevaluate\u001b[0m\u001b[1;33m(\u001b[0m\u001b[0mx_test\u001b[0m\u001b[1;33m,\u001b[0m\u001b[0my_test\u001b[0m\u001b[1;33m)\u001b[0m\u001b[1;33m[\u001b[0m\u001b[1;36m1\u001b[0m\u001b[1;33m]\u001b[0m\u001b[1;33m)\u001b[0m\u001b[1;33m)\u001b[0m\u001b[1;33m\u001b[0m\u001b[1;33m\u001b[0m\u001b[0m\n\u001b[0m",
      "\u001b[1;31mNameError\u001b[0m: name 'model' is not defined"
     ]
    }
   ],
   "source": [
    "print(\"\\/ Test Accuracy : %.4f\" %(model.evaluate(x_test,y_test)[1]))\n"
   ]
  },
  {
   "cell_type": "code",
   "execution_count": null,
   "id": "69b1fef2",
   "metadata": {},
   "outputs": [],
   "source": [
    "# 테스트 셋의 오차\n",
    "y_vloss = history.history['val_loss']\n",
    "\n",
    "# 학습셋의 오차\n",
    "y_loss = history.history['loss']\n",
    "\n",
    "# 그래프 표현 \n",
    "x_len = np.arange(len(y_loss))\n",
    "plt.plot(x_len,y_vloss,marker='.',c='red',label='testset_loss')\n",
    "plt.plot(x_len,y_loss,marker='.',c='blue',label='trainset_loss')\n",
    "\n",
    "# 그래프에 그리드를 주고 레이블을 표시\n",
    "plt.grid()\n",
    "plt.legend(loc='ur')\n",
    "plt.xlabel('epoch')\n",
    "plt.ylabel('loss')\n",
    "plt.show()\n"
   ]
  }
 ],
 "metadata": {
  "kernelspec": {
   "display_name": "Python 3 (ipykernel)",
   "language": "python",
   "name": "python3"
  },
  "language_info": {
   "codemirror_mode": {
    "name": "ipython",
    "version": 3
   },
   "file_extension": ".py",
   "mimetype": "text/x-python",
   "name": "python",
   "nbconvert_exporter": "python",
   "pygments_lexer": "ipython3",
   "version": "3.9.13"
  },
  "toc": {
   "base_numbering": 1,
   "nav_menu": {},
   "number_sections": true,
   "sideBar": true,
   "skip_h1_title": false,
   "title_cell": "Table of Contents",
   "title_sidebar": "Contents",
   "toc_cell": false,
   "toc_position": {},
   "toc_section_display": true,
   "toc_window_display": false
  },
  "varInspector": {
   "cols": {
    "lenName": 16,
    "lenType": 16,
    "lenVar": 40
   },
   "kernels_config": {
    "python": {
     "delete_cmd_postfix": "",
     "delete_cmd_prefix": "del ",
     "library": "var_list.py",
     "varRefreshCmd": "print(var_dic_list())"
    },
    "r": {
     "delete_cmd_postfix": ") ",
     "delete_cmd_prefix": "rm(",
     "library": "var_list.r",
     "varRefreshCmd": "cat(var_dic_list()) "
    }
   },
   "types_to_exclude": [
    "module",
    "function",
    "builtin_function_or_method",
    "instance",
    "_Feature"
   ],
   "window_display": false
  }
 },
 "nbformat": 4,
 "nbformat_minor": 5
}
