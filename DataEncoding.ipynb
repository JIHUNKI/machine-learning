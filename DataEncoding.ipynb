{
 "cells": [
  {
   "cell_type": "markdown",
   "id": "80d20c30",
   "metadata": {},
   "source": [
    "### sklearn.preprocessing.LabelEncoder\n",
    "\n",
    "* Encode target labels with value between 0 and n_classes-1.\n",
    "\n",
    "This transformer should be used to encode target values, i.e. y, and not the input X.\n",
    "\n",
    "* attributes : classes_ : ndarray of shape(n_classes,)\n",
    "\n",
    "* methods\n",
    "    - fit : encoding할 label지정\n",
    "    - fit_transform : label encoding 실행 fit과 transform을 같이 실행\n",
    "    - get_params \n",
    "    - inverse_transform : label encoding된 값을 다시 class로 나타냄\n",
    "    - set_params\n",
    "    - transfrom : fit 후 transform 실행"
   ]
  },
  {
   "cell_type": "code",
   "execution_count": 14,
   "id": "e60fc7e8",
   "metadata": {
    "ExecuteTime": {
     "end_time": "2023-01-30T01:53:15.966452Z",
     "start_time": "2023-01-30T01:53:15.947578Z"
    }
   },
   "outputs": [
    {
     "name": "stdout",
     "output_type": "stream",
     "text": [
      "인코딩 변환값: [0 1 4 5 3 3 2 2]\n",
      "인코딩 클래스: ['TV' '냉장고' '믹서' '선풍기' '전자렌지' '컴퓨터']\n",
      "디코딩 원본 값: ['TV' '냉장고' '전자렌지' '컴퓨터' '선풍기' '선풍기' '믹서' '믹서']\n"
     ]
    }
   ],
   "source": [
    "from sklearn.preprocessing import LabelEncoder\n",
    "\n",
    "\n",
    "items = ['TV','냉장고','전자렌지','컴퓨터','선풍기','선풍기','믹서','믹서']\n",
    "\n",
    "## LabelEncoder 를 객체로 생성한 후, fit() 과 transform()으로 label인코딩 수행.\n",
    "\n",
    "encoder = LabelEncoder()\n",
    "encoder.fit(items)\n",
    "labels = encoder.transform(items)\n",
    "print('인코딩 변환값:',labels)\n",
    "print('인코딩 클래스:',encoder.classes_)\n",
    "print('디코딩 원본 값:',encoder.inverse_transform([0, 1, 4, 5, 3, 3, 2, 2]))"
   ]
  },
  {
   "cell_type": "markdown",
   "id": "63d803f7",
   "metadata": {},
   "source": [
    "### sklearn.preprocessing.OneHotEncoder\n",
    "\n",
    "* class sklearn.preprocessing.OneHotEncoder(*, categories='auto', drop=None, sparse=True, dtype=<class 'numpy.float64'>, handle_unknown='error', min_frequency=None, max_categories=None)\n",
    "\n",
    "* parameters \n",
    "    - categories:\n",
    "    - drop:\n",
    "        - None : retain all features (the default).\n",
    "\n",
    "        - first’ : drop the first category in each feature. If only one category is present, the feature will be dropped entirely.\n",
    "\n",
    "        - if_binary’ : drop the first category in each feature with two categories. Features with 1 or more than 2 categories are left intact.\n",
    "\n",
    "        - array : drop[i] is the category in feature X[:, i] that should be dropped\n",
    "    - sparse:  return sparse matrix \n",
    "    - dtype : \n",
    "    - handle_unknown: 다른 값이 들어오면 무시할지 에러처리할지 default = 'error'\n",
    "    - min_frequency:\n",
    "    - max_categories: 최대 categories 지정"
   ]
  },
  {
   "cell_type": "code",
   "execution_count": 17,
   "id": "9d74301a",
   "metadata": {
    "ExecuteTime": {
     "end_time": "2023-01-30T02:15:05.218762Z",
     "start_time": "2023-01-30T02:15:05.210874Z"
    }
   },
   "outputs": [],
   "source": [
    "from sklearn.preprocessing import OneHotEncoder\n",
    "import numpy as np"
   ]
  },
  {
   "cell_type": "code",
   "execution_count": 77,
   "id": "36101d9d",
   "metadata": {
    "ExecuteTime": {
     "end_time": "2023-01-30T04:27:53.942987Z",
     "start_time": "2023-01-30T04:27:53.935466Z"
    }
   },
   "outputs": [
    {
     "data": {
      "text/plain": [
       "array([[1., 0., 0., 0., 0., 0.],\n",
       "       [0., 1., 0., 0., 0., 0.],\n",
       "       [0., 0., 0., 0., 1., 0.],\n",
       "       [0., 0., 0., 0., 0., 1.],\n",
       "       [0., 0., 0., 1., 0., 0.],\n",
       "       [0., 0., 0., 1., 0., 0.],\n",
       "       [0., 0., 1., 0., 0., 0.],\n",
       "       [0., 0., 1., 0., 0., 0.]])"
      ]
     },
     "execution_count": 77,
     "metadata": {},
     "output_type": "execute_result"
    }
   ],
   "source": [
    "items = ['TV','냉장고','전자렌지','컴퓨터','선풍기','선풍기','믹서','믹서']\n",
    "\n",
    "oh_encoder = OneHotEncoder()\n",
    "## 리스트 형태의 데이터를 array로 바꿔 차원을 2차원 배열로 변경한다는 의미\n",
    "## 여기서 reshape(8,1) = reshape(-1,1)과 같은 의미로 일단 1열로 정리하면 알아서\n",
    "## 행의 값이 지정\n",
    "\n",
    "items = np.array(items).reshape(-1,1)\n",
    "oh_labels =  oh_encoder.fit_transform(items)\n",
    "oh_labels.toarray()"
   ]
  },
  {
   "cell_type": "code",
   "execution_count": 44,
   "id": "2bb9ab2c",
   "metadata": {
    "ExecuteTime": {
     "end_time": "2023-01-30T02:31:14.857404Z",
     "start_time": "2023-01-30T02:31:14.847899Z"
    }
   },
   "outputs": [
    {
     "name": "stdout",
     "output_type": "stream",
     "text": [
      "원-핫 인코딩 데이터;\n",
      "[[1. 0. 0. 0. 0. 0.]\n",
      " [0. 1. 0. 0. 0. 0.]\n",
      " [0. 0. 0. 0. 1. 0.]\n",
      " [0. 0. 0. 0. 0. 1.]\n",
      " [0. 0. 0. 1. 0. 0.]\n",
      " [0. 0. 0. 1. 0. 0.]\n",
      " [0. 0. 1. 0. 0. 0.]\n",
      " [0. 0. 1. 0. 0. 0.]]\n",
      "데이터 차원: (8, 6)\n"
     ]
    }
   ],
   "source": [
    "items = ['TV','냉장고','전자렌지','컴퓨터','선풍기','선풍기','믹서','믹서']\n",
    "\n",
    "## LabelEncoder 를 객체로 생성한 후, fit() 과 transform()으로 label인코딩 수행.\n",
    "encoder = LabelEncoder()\n",
    "encoder.fit(items)\n",
    "labels = encoder.transform(items)\n",
    "# 2차원 데이터로 변환합니다 transpose시킴 행벡터를 열벡터로\n",
    "labels = labels.reshape(-1,1)\n",
    "\n",
    "## 원- 핫 인코딩을 적용합니다.\n",
    "oh_encoder = OneHotEncoder()\n",
    "oh_encoder.fit(labels)\n",
    "oh_labels = oh_encoder.transform(labels)\n",
    "print('원-핫 인코딩 데이터;')\n",
    "print(oh_labels.toarray())\n",
    "print('데이터 차원:',oh_labels.shape)"
   ]
  },
  {
   "cell_type": "code",
   "execution_count": 32,
   "id": "b30b43c7",
   "metadata": {
    "ExecuteTime": {
     "end_time": "2023-01-30T02:25:34.067203Z",
     "start_time": "2023-01-30T02:25:34.047164Z"
    }
   },
   "outputs": [
    {
     "name": "stderr",
     "output_type": "stream",
     "text": [
      "C:\\Users\\msi\\anaconda3\\lib\\site-packages\\sklearn\\preprocessing\\_encoders.py:828: FutureWarning: `sparse` was renamed to `sparse_output` in version 1.2 and will be removed in 1.4. `sparse_output` is ignored unless you leave `sparse` to its default value.\n",
      "  warnings.warn(\n"
     ]
    },
    {
     "data": {
      "text/plain": [
       "array([[0., 0., 1.],\n",
       "       [1., 0., 0.]])"
      ]
     },
     "execution_count": 32,
     "metadata": {},
     "output_type": "execute_result"
    }
   ],
   "source": [
    "import numpy as np\n",
    "X = np.array([[\"a\"] * 5 + [\"b\"] * 20 + [\"c\"] * 10 + [\"d\"] * 3], dtype=object).T\n",
    "ohe = OneHotEncoder(max_categories=3, sparse=False).fit(X)\n",
    "ohe.infrequent_categories_\n",
    "\n",
    "ohe.transform([[\"a\"], [\"b\"]])"
   ]
  },
  {
   "cell_type": "code",
   "execution_count": 33,
   "id": "83cef46e",
   "metadata": {
    "ExecuteTime": {
     "end_time": "2023-01-30T02:25:34.877001Z",
     "start_time": "2023-01-30T02:25:34.846084Z"
    }
   },
   "outputs": [
    {
     "data": {
      "text/plain": [
       "array(['gender_Female', 'gender_Male', 'group_1', 'group_2', 'group_3'],\n",
       "      dtype=object)"
      ]
     },
     "execution_count": 33,
     "metadata": {},
     "output_type": "execute_result"
    }
   ],
   "source": [
    "enc = OneHotEncoder(handle_unknown='ignore')\n",
    "X = [['Male', 1], ['Female', 3], ['Female', 2]]\n",
    "enc.fit(X)\n",
    "\n",
    "enc.categories_\n",
    "\n",
    "enc.transform([['Female', 1], ['Male', 4]]).toarray()\n",
    "\n",
    "\n",
    "enc.inverse_transform([[0, 1, 1, 0, 0], [0, 0, 0, 1, 0]])\n",
    "\n",
    "\n",
    "enc.get_feature_names_out(['gender', 'group'])\n"
   ]
  },
  {
   "cell_type": "markdown",
   "id": "d4d791cf",
   "metadata": {},
   "source": [
    "### 판다스에서 지원하는 원-핫 인코딩 API get_dummies()\n",
    "## pandas.get_dummies(data, prefix=None, prefix_sep='_', dummy_na=False, columns=None, sparse=False, drop_first=False, dtype=None)[source]\n",
    "\n",
    "* Parameters\n",
    "    - data : array-like, Series, or DataFrame\n",
    "        Data of which to get dummy indicators.\n",
    "\n",
    "    - prefix : str, list of str, or dict of str, default None\n",
    "        String to append DataFrame column names. Pass a list with length equal to the number of columns when calling get_dummies on a DataFrame. Alternatively, prefix can be a dictionary mapping column names to prefixes.\n",
    "\n",
    "    - prefix_sep : str, default ‘_’\n",
    "        If appending prefix, separator/delimiter to use. Or pass a list or dictionary as with prefix.\n",
    "\n",
    "    - dummy_na : bool, default False\n",
    "        Add a column to indicate NaNs, if False NaNs are ignored.\n",
    "\n",
    "    - columns  : list-like, default None\n",
    "        Column names in the DataFrame to be encoded. If columns is None then all the columns with object, string, or category dtype will be converted.\n",
    "\n",
    "    - sparse : bool, default False\n",
    "        Whether the dummy-encoded columns should be backed by a SparseArray (True) or a regular NumPy array (False).\n",
    "\n",
    "    - drop_first : bool, default False\n",
    "        Whether to get k-1 dummies out of k categorical levels by removing the first level.\n",
    "\n",
    "    - dtype : dtype, default np.uint8\n",
    "        Data type for new columns. Only a single dtype is allowed."
   ]
  },
  {
   "cell_type": "code",
   "execution_count": 68,
   "id": "7731c059",
   "metadata": {
    "ExecuteTime": {
     "end_time": "2023-01-30T04:24:10.975581Z",
     "start_time": "2023-01-30T04:24:10.952637Z"
    }
   },
   "outputs": [
    {
     "data": {
      "text/html": [
       "<div>\n",
       "<style scoped>\n",
       "    .dataframe tbody tr th:only-of-type {\n",
       "        vertical-align: middle;\n",
       "    }\n",
       "\n",
       "    .dataframe tbody tr th {\n",
       "        vertical-align: top;\n",
       "    }\n",
       "\n",
       "    .dataframe thead th {\n",
       "        text-align: right;\n",
       "    }\n",
       "</style>\n",
       "<table border=\"1\" class=\"dataframe\">\n",
       "  <thead>\n",
       "    <tr style=\"text-align: right;\">\n",
       "      <th></th>\n",
       "      <th>TV</th>\n",
       "      <th>냉장고</th>\n",
       "      <th>믹서</th>\n",
       "      <th>선풍기</th>\n",
       "      <th>전자렌지</th>\n",
       "      <th>컴퓨터</th>\n",
       "    </tr>\n",
       "  </thead>\n",
       "  <tbody>\n",
       "    <tr>\n",
       "      <th>0</th>\n",
       "      <td>1</td>\n",
       "      <td>0</td>\n",
       "      <td>0</td>\n",
       "      <td>0</td>\n",
       "      <td>0</td>\n",
       "      <td>0</td>\n",
       "    </tr>\n",
       "    <tr>\n",
       "      <th>1</th>\n",
       "      <td>0</td>\n",
       "      <td>1</td>\n",
       "      <td>0</td>\n",
       "      <td>0</td>\n",
       "      <td>0</td>\n",
       "      <td>0</td>\n",
       "    </tr>\n",
       "    <tr>\n",
       "      <th>2</th>\n",
       "      <td>0</td>\n",
       "      <td>0</td>\n",
       "      <td>0</td>\n",
       "      <td>0</td>\n",
       "      <td>1</td>\n",
       "      <td>0</td>\n",
       "    </tr>\n",
       "    <tr>\n",
       "      <th>3</th>\n",
       "      <td>0</td>\n",
       "      <td>0</td>\n",
       "      <td>0</td>\n",
       "      <td>0</td>\n",
       "      <td>0</td>\n",
       "      <td>1</td>\n",
       "    </tr>\n",
       "    <tr>\n",
       "      <th>4</th>\n",
       "      <td>0</td>\n",
       "      <td>0</td>\n",
       "      <td>0</td>\n",
       "      <td>1</td>\n",
       "      <td>0</td>\n",
       "      <td>0</td>\n",
       "    </tr>\n",
       "    <tr>\n",
       "      <th>5</th>\n",
       "      <td>0</td>\n",
       "      <td>0</td>\n",
       "      <td>0</td>\n",
       "      <td>1</td>\n",
       "      <td>0</td>\n",
       "      <td>0</td>\n",
       "    </tr>\n",
       "    <tr>\n",
       "      <th>6</th>\n",
       "      <td>0</td>\n",
       "      <td>0</td>\n",
       "      <td>1</td>\n",
       "      <td>0</td>\n",
       "      <td>0</td>\n",
       "      <td>0</td>\n",
       "    </tr>\n",
       "    <tr>\n",
       "      <th>7</th>\n",
       "      <td>0</td>\n",
       "      <td>0</td>\n",
       "      <td>1</td>\n",
       "      <td>0</td>\n",
       "      <td>0</td>\n",
       "      <td>0</td>\n",
       "    </tr>\n",
       "  </tbody>\n",
       "</table>\n",
       "</div>"
      ],
      "text/plain": [
       "   TV  냉장고  믹서  선풍기  전자렌지  컴퓨터\n",
       "0   1    0   0    0     0    0\n",
       "1   0    1   0    0     0    0\n",
       "2   0    0   0    0     1    0\n",
       "3   0    0   0    0     0    1\n",
       "4   0    0   0    1     0    0\n",
       "5   0    0   0    1     0    0\n",
       "6   0    0   1    0     0    0\n",
       "7   0    0   1    0     0    0"
      ]
     },
     "execution_count": 68,
     "metadata": {},
     "output_type": "execute_result"
    }
   ],
   "source": [
    "import pandas as pd\n",
    "df = pd.DataFrame({'item':[\"TV\",\"냉장고\",\"전자렌지\",\"컴퓨터\",\"선풍기\",\"선풍기\",\"믹서\",\"믹서\"]})\n",
    "pd.get_dummies(df['item'])"
   ]
  },
  {
   "cell_type": "code",
   "execution_count": null,
   "id": "4c8e3252",
   "metadata": {},
   "outputs": [],
   "source": []
  }
 ],
 "metadata": {
  "kernelspec": {
   "display_name": "Python 3 (ipykernel)",
   "language": "python",
   "name": "python3"
  },
  "language_info": {
   "codemirror_mode": {
    "name": "ipython",
    "version": 3
   },
   "file_extension": ".py",
   "mimetype": "text/x-python",
   "name": "python",
   "nbconvert_exporter": "python",
   "pygments_lexer": "ipython3",
   "version": "3.9.13"
  },
  "toc": {
   "base_numbering": 1,
   "nav_menu": {},
   "number_sections": true,
   "sideBar": true,
   "skip_h1_title": false,
   "title_cell": "Table of Contents",
   "title_sidebar": "Contents",
   "toc_cell": false,
   "toc_position": {},
   "toc_section_display": true,
   "toc_window_display": false
  },
  "varInspector": {
   "cols": {
    "lenName": 16,
    "lenType": 16,
    "lenVar": 40
   },
   "kernels_config": {
    "python": {
     "delete_cmd_postfix": "",
     "delete_cmd_prefix": "del ",
     "library": "var_list.py",
     "varRefreshCmd": "print(var_dic_list())"
    },
    "r": {
     "delete_cmd_postfix": ") ",
     "delete_cmd_prefix": "rm(",
     "library": "var_list.r",
     "varRefreshCmd": "cat(var_dic_list()) "
    }
   },
   "types_to_exclude": [
    "module",
    "function",
    "builtin_function_or_method",
    "instance",
    "_Feature"
   ],
   "window_display": false
  }
 },
 "nbformat": 4,
 "nbformat_minor": 5
}
