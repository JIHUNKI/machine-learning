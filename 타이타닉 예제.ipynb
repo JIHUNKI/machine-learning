{
 "cells": [
  {
   "cell_type": "code",
   "execution_count": 1,
   "id": "ec6d19d3",
   "metadata": {
    "ExecuteTime": {
     "end_time": "2023-01-31T00:12:27.153013Z",
     "start_time": "2023-01-31T00:12:26.280164Z"
    }
   },
   "outputs": [],
   "source": [
    "import pandas as pd"
   ]
  },
  {
   "cell_type": "code",
   "execution_count": 2,
   "id": "e9e66b78",
   "metadata": {
    "ExecuteTime": {
     "end_time": "2023-01-31T00:12:27.215895Z",
     "start_time": "2023-01-31T00:12:27.155021Z"
    }
   },
   "outputs": [],
   "source": [
    "train = pd.read_csv(\"./datasets/titanic_train.csv\")\n",
    "test = pd.read_csv(\"./datasets/titanic_test.csv\")"
   ]
  },
  {
   "attachments": {},
   "cell_type": "markdown",
   "id": "c904e7ab",
   "metadata": {
    "ExecuteTime": {
     "end_time": "2023-01-30T06:34:18.762479Z",
     "start_time": "2023-01-30T06:34:18.708623Z"
    }
   },
   "source": [
    "- passengerid: 탑승자 데이터 일련번호\n",
    "- survived : 생존 여부, 0=사망 ,1=생존\n",
    "- Pclass : 티켓의 선실등급 1=일등석, 2= 이등석,3= 삼등석\n",
    "- sex : 탑승자 성별\n",
    "- name : 탑승자 이름\n",
    "- age : 탑승자 나이\n",
    "- sibsp : 같이 탑승한 형제자메 또는 배우자 인원수\n",
    "- parch : 같이 탑승한 부모님 또는 어린이 인원수\n",
    "- ticket : 티켓 번호\n",
    "- fare: 요금\n",
    "- cabic : 선실번호\n",
    "- embarked : 중간 정착 항구 C = cherbourg,Q=Queenstown, s= southampton"
   ]
  },
  {
   "cell_type": "code",
   "execution_count": 3,
   "id": "20c0b284",
   "metadata": {
    "ExecuteTime": {
     "end_time": "2023-01-31T00:12:27.262636Z",
     "start_time": "2023-01-31T00:12:27.223832Z"
    }
   },
   "outputs": [
    {
     "name": "stdout",
     "output_type": "stream",
     "text": [
      "### train 데이터 정보 ##\n",
      "\n",
      "<class 'pandas.core.frame.DataFrame'>\n",
      "RangeIndex: 891 entries, 0 to 890\n",
      "Data columns (total 12 columns):\n",
      " #   Column       Non-Null Count  Dtype  \n",
      "---  ------       --------------  -----  \n",
      " 0   PassengerId  891 non-null    int64  \n",
      " 1   Survived     891 non-null    int64  \n",
      " 2   Pclass       891 non-null    int64  \n",
      " 3   Name         891 non-null    object \n",
      " 4   Sex          891 non-null    object \n",
      " 5   Age          714 non-null    float64\n",
      " 6   SibSp        891 non-null    int64  \n",
      " 7   Parch        891 non-null    int64  \n",
      " 8   Ticket       891 non-null    object \n",
      " 9   Fare         891 non-null    float64\n",
      " 10  Cabin        204 non-null    object \n",
      " 11  Embarked     889 non-null    object \n",
      "dtypes: float64(2), int64(5), object(5)\n",
      "memory usage: 83.7+ KB\n"
     ]
    }
   ],
   "source": [
    "print(\"### train 데이터 정보 ##\\n\")\n",
    "train.info()"
   ]
  },
  {
   "cell_type": "code",
   "execution_count": 4,
   "id": "bf6f8fd6",
   "metadata": {
    "ExecuteTime": {
     "end_time": "2023-01-31T00:12:27.278594Z",
     "start_time": "2023-01-31T00:12:27.264629Z"
    }
   },
   "outputs": [
    {
     "name": "stdout",
     "output_type": "stream",
     "text": [
      "데이터 세트 Null값 개수 PassengerId    0\n",
      "Survived       0\n",
      "Pclass         0\n",
      "Name           0\n",
      "Sex            0\n",
      "Age            0\n",
      "SibSp          0\n",
      "Parch          0\n",
      "Ticket         0\n",
      "Fare           0\n",
      "Cabin          0\n",
      "Embarked       0\n",
      "dtype: int64\n"
     ]
    }
   ],
   "source": [
    "train['Age'].fillna(train['Age'].mean(),inplace=True)\n",
    "train['Cabin'].fillna('N',inplace=True)\n",
    "train['Embarked'].fillna('N',inplace=True)\n",
    "print('데이터 세트 Null값 개수',train.isnull().sum() )"
   ]
  },
  {
   "cell_type": "code",
   "execution_count": 5,
   "id": "874c03cf",
   "metadata": {
    "ExecuteTime": {
     "end_time": "2023-01-31T00:12:27.294057Z",
     "start_time": "2023-01-31T00:12:27.281584Z"
    }
   },
   "outputs": [
    {
     "name": "stdout",
     "output_type": "stream",
     "text": [
      "Sex 값 분포: \n",
      " male      577\n",
      "female    314\n",
      "Name: Sex, dtype: int64\n",
      "\n",
      " Cabin 값 분포: \n",
      " N              687\n",
      "C23 C25 C27      4\n",
      "G6               4\n",
      "B96 B98          4\n",
      "C22 C26          3\n",
      "              ... \n",
      "E34              1\n",
      "C7               1\n",
      "C54              1\n",
      "E36              1\n",
      "C148             1\n",
      "Name: Cabin, Length: 148, dtype: int64\n",
      "\n",
      " Embarked 값 분포: \n",
      " S    644\n",
      "C    168\n",
      "Q     77\n",
      "N      2\n",
      "Name: Embarked, dtype: int64\n"
     ]
    }
   ],
   "source": [
    "print('Sex 값 분포: \\n',train['Sex'].value_counts())\n",
    "print('\\n Cabin 값 분포: \\n',train['Cabin'].value_counts())\n",
    "print('\\n Embarked 값 분포: \\n',train['Embarked'].value_counts())"
   ]
  },
  {
   "cell_type": "code",
   "execution_count": 6,
   "id": "80ee75ae",
   "metadata": {
    "ExecuteTime": {
     "end_time": "2023-01-31T00:12:27.325528Z",
     "start_time": "2023-01-31T00:12:27.296604Z"
    },
    "scrolled": true
   },
   "outputs": [
    {
     "name": "stdout",
     "output_type": "stream",
     "text": [
      "0         N\n",
      "1       C85\n",
      "2         N\n",
      "3      C123\n",
      "4         N\n",
      "       ... \n",
      "886       N\n",
      "887     B42\n",
      "888       N\n",
      "889    C148\n",
      "890       N\n",
      "Name: Cabin, Length: 891, dtype: object\n"
     ]
    },
    {
     "data": {
      "text/plain": [
       "0      N\n",
       "1      C\n",
       "2      N\n",
       "3      C\n",
       "4      N\n",
       "      ..\n",
       "886    N\n",
       "887    B\n",
       "888    N\n",
       "889    C\n",
       "890    N\n",
       "Name: Cabin, Length: 891, dtype: object"
      ]
     },
     "execution_count": 6,
     "metadata": {},
     "output_type": "execute_result"
    }
   ],
   "source": [
    "print(train['Cabin'])\n",
    "train['Cabin']=train['Cabin'].str[:1]\n",
    "train['Cabin']"
   ]
  },
  {
   "cell_type": "code",
   "execution_count": 7,
   "id": "75da8408",
   "metadata": {
    "ExecuteTime": {
     "end_time": "2023-01-31T00:12:27.357483Z",
     "start_time": "2023-01-31T00:12:27.331512Z"
    }
   },
   "outputs": [
    {
     "data": {
      "text/plain": [
       "Sex     Survived\n",
       "female  0            81\n",
       "        1           233\n",
       "male    0           468\n",
       "        1           109\n",
       "Name: Survived, dtype: int64"
      ]
     },
     "execution_count": 7,
     "metadata": {},
     "output_type": "execute_result"
    }
   ],
   "source": [
    "train.groupby(['Sex','Survived'])['Survived'].count()"
   ]
  },
  {
   "cell_type": "code",
   "execution_count": 8,
   "id": "55051f7d",
   "metadata": {
    "ExecuteTime": {
     "end_time": "2023-01-31T00:12:28.548600Z",
     "start_time": "2023-01-31T00:12:27.360476Z"
    }
   },
   "outputs": [
    {
     "data": {
      "text/plain": [
       "<AxesSubplot:xlabel='Sex,Survived'>"
      ]
     },
     "execution_count": 8,
     "metadata": {},
     "output_type": "execute_result"
    },
    {
     "data": {
      "image/png": "[encoded data removed]",
      "text/plain": [
       "<Figure size 640x480 with 1 Axes>"
      ]
     },
     "metadata": {},
     "output_type": "display_data"
    }
   ],
   "source": [
    "train.groupby(['Sex','Survived'])['Survived'].count().plot.bar()"
   ]
  },
  {
   "cell_type": "code",
   "execution_count": 9,
   "id": "0369ae5a",
   "metadata": {
    "ExecuteTime": {
     "end_time": "2023-01-31T00:12:28.564558Z",
     "start_time": "2023-01-31T00:12:28.550596Z"
    }
   },
   "outputs": [
    {
     "name": "stdout",
     "output_type": "stream",
     "text": [
      "<class 'pandas.core.frame.DataFrame'>\n",
      "RangeIndex: 418 entries, 0 to 417\n",
      "Data columns (total 11 columns):\n",
      " #   Column       Non-Null Count  Dtype  \n",
      "---  ------       --------------  -----  \n",
      " 0   PassengerId  418 non-null    int64  \n",
      " 1   Pclass       418 non-null    int64  \n",
      " 2   Name         418 non-null    object \n",
      " 3   Sex          418 non-null    object \n",
      " 4   Age          332 non-null    float64\n",
      " 5   SibSp        418 non-null    int64  \n",
      " 6   Parch        418 non-null    int64  \n",
      " 7   Ticket       418 non-null    object \n",
      " 8   Fare         417 non-null    float64\n",
      " 9   Cabin        91 non-null     object \n",
      " 10  Embarked     418 non-null    object \n",
      "dtypes: float64(2), int64(4), object(5)\n",
      "memory usage: 36.0+ KB\n"
     ]
    }
   ],
   "source": [
    "test.info()"
   ]
  },
  {
   "cell_type": "code",
   "execution_count": 10,
   "id": "9d035106",
   "metadata": {
    "ExecuteTime": {
     "end_time": "2023-01-31T00:12:28.579518Z",
     "start_time": "2023-01-31T00:12:28.569554Z"
    }
   },
   "outputs": [],
   "source": [
    "test['Age'].fillna(test['Age'].mean(),inplace=True)\n",
    "test['Cabin'].fillna('N',inplace=True)\n",
    "test['Fare'].fillna(test['Fare'].mean(),inplace = True)"
   ]
  },
  {
   "cell_type": "code",
   "execution_count": 11,
   "id": "77554935",
   "metadata": {
    "ExecuteTime": {
     "end_time": "2023-01-31T00:12:30.196757Z",
     "start_time": "2023-01-31T00:12:28.581514Z"
    }
   },
   "outputs": [],
   "source": [
    "from sklearn.preprocessing import LabelEncoder\n",
    "\n",
    "# Null 처리 함수\n",
    "def fillna(df):\n",
    "    df['Age'].fillna(df['Age'].mean(), inplace=True)\n",
    "    df['Cabin'].fillna('N', inplace=True)\n",
    "    df['Embarked'].fillna('N', inplace=True)\n",
    "    df['Fare'].fillna(0, inplace=True)\n",
    "    return df\n",
    "\n",
    "#머신러닝 알고리즘에 불필요한 속성 제거\n",
    "def drop_features(df):\n",
    "    df.drop(['PassengerId', 'Name', 'SibSp', 'Parch', 'Ticket', 'Fare'], axis=1, inplace=True)\n",
    "    return df\n",
    "\n",
    "# 레이블 인코딩 수행\n",
    "def format_features(df):\n",
    "    df['Cabin'] = df['Cabin'].str[:1]\n",
    "    features = ['Cabin', 'Sex', 'Embarked']\n",
    "    for feature in features:\n",
    "        le = LabelEncoder()\n",
    "        le = le.fit(df[feature])\n",
    "        df[feature] = le.transform(df[feature])\n",
    "    return df\n",
    "\n",
    "# 앞에서 설정한 Data Preprocessing 함수 호출\n",
    "def transform_features(df):\n",
    "    df = fillna(df)\n",
    "    df = drop_features(df)\n",
    "    df = format_features(df)\n",
    "    return df"
   ]
  },
  {
   "cell_type": "code",
   "execution_count": 12,
   "id": "1fd91ef0",
   "metadata": {
    "ExecuteTime": {
     "end_time": "2023-01-31T00:12:30.226688Z",
     "start_time": "2023-01-31T00:12:30.198750Z"
    }
   },
   "outputs": [],
   "source": [
    "train_df = pd.read_csv(\"./datasets/titanic_train.csv\")\n",
    "test_df = pd.read_csv(\"./datasets/titanic_test.csv\")"
   ]
  },
  {
   "cell_type": "code",
   "execution_count": 13,
   "id": "a3ac947b",
   "metadata": {
    "ExecuteTime": {
     "end_time": "2023-01-31T00:12:30.257591Z",
     "start_time": "2023-01-31T00:12:30.231662Z"
    }
   },
   "outputs": [],
   "source": [
    "train_df=transform_features(train_df)\n",
    "test_df = transform_features(test_df)"
   ]
  },
  {
   "cell_type": "code",
   "execution_count": 14,
   "id": "3fb2a350",
   "metadata": {
    "ExecuteTime": {
     "end_time": "2023-01-31T00:12:30.288508Z",
     "start_time": "2023-01-31T00:12:30.261585Z"
    }
   },
   "outputs": [
    {
     "data": {
      "text/html": [
       "<div>\n",
       "<style scoped>\n",
       "    .dataframe tbody tr th:only-of-type {\n",
       "        vertical-align: middle;\n",
       "    }\n",
       "\n",
       "    .dataframe tbody tr th {\n",
       "        vertical-align: top;\n",
       "    }\n",
       "\n",
       "    .dataframe thead th {\n",
       "        text-align: right;\n",
       "    }\n",
       "</style>\n",
       "<table border=\"1\" class=\"dataframe\">\n",
       "  <thead>\n",
       "    <tr style=\"text-align: right;\">\n",
       "      <th></th>\n",
       "      <th>Survived</th>\n",
       "      <th>Pclass</th>\n",
       "      <th>Sex</th>\n",
       "      <th>Age</th>\n",
       "      <th>Cabin</th>\n",
       "      <th>Embarked</th>\n",
       "    </tr>\n",
       "  </thead>\n",
       "  <tbody>\n",
       "    <tr>\n",
       "      <th>0</th>\n",
       "      <td>0</td>\n",
       "      <td>3</td>\n",
       "      <td>1</td>\n",
       "      <td>22.0</td>\n",
       "      <td>7</td>\n",
       "      <td>3</td>\n",
       "    </tr>\n",
       "    <tr>\n",
       "      <th>1</th>\n",
       "      <td>1</td>\n",
       "      <td>1</td>\n",
       "      <td>0</td>\n",
       "      <td>38.0</td>\n",
       "      <td>2</td>\n",
       "      <td>0</td>\n",
       "    </tr>\n",
       "    <tr>\n",
       "      <th>2</th>\n",
       "      <td>1</td>\n",
       "      <td>3</td>\n",
       "      <td>0</td>\n",
       "      <td>26.0</td>\n",
       "      <td>7</td>\n",
       "      <td>3</td>\n",
       "    </tr>\n",
       "    <tr>\n",
       "      <th>3</th>\n",
       "      <td>1</td>\n",
       "      <td>1</td>\n",
       "      <td>0</td>\n",
       "      <td>35.0</td>\n",
       "      <td>2</td>\n",
       "      <td>3</td>\n",
       "    </tr>\n",
       "    <tr>\n",
       "      <th>4</th>\n",
       "      <td>0</td>\n",
       "      <td>3</td>\n",
       "      <td>1</td>\n",
       "      <td>35.0</td>\n",
       "      <td>7</td>\n",
       "      <td>3</td>\n",
       "    </tr>\n",
       "  </tbody>\n",
       "</table>\n",
       "</div>"
      ],
      "text/plain": [
       "   Survived  Pclass  Sex   Age  Cabin  Embarked\n",
       "0         0       3    1  22.0      7         3\n",
       "1         1       1    0  38.0      2         0\n",
       "2         1       3    0  26.0      7         3\n",
       "3         1       1    0  35.0      2         3\n",
       "4         0       3    1  35.0      7         3"
      ]
     },
     "execution_count": 14,
     "metadata": {},
     "output_type": "execute_result"
    }
   ],
   "source": [
    "train_df.head()\n"
   ]
  },
  {
   "cell_type": "code",
   "execution_count": 15,
   "id": "6f295f03",
   "metadata": {
    "ExecuteTime": {
     "end_time": "2023-01-31T00:12:30.303468Z",
     "start_time": "2023-01-31T00:12:30.291501Z"
    }
   },
   "outputs": [
    {
     "data": {
      "text/html": [
       "<div>\n",
       "<style scoped>\n",
       "    .dataframe tbody tr th:only-of-type {\n",
       "        vertical-align: middle;\n",
       "    }\n",
       "\n",
       "    .dataframe tbody tr th {\n",
       "        vertical-align: top;\n",
       "    }\n",
       "\n",
       "    .dataframe thead th {\n",
       "        text-align: right;\n",
       "    }\n",
       "</style>\n",
       "<table border=\"1\" class=\"dataframe\">\n",
       "  <thead>\n",
       "    <tr style=\"text-align: right;\">\n",
       "      <th></th>\n",
       "      <th>Pclass</th>\n",
       "      <th>Sex</th>\n",
       "      <th>Age</th>\n",
       "      <th>Cabin</th>\n",
       "      <th>Embarked</th>\n",
       "    </tr>\n",
       "  </thead>\n",
       "  <tbody>\n",
       "    <tr>\n",
       "      <th>0</th>\n",
       "      <td>3</td>\n",
       "      <td>1</td>\n",
       "      <td>34.5</td>\n",
       "      <td>7</td>\n",
       "      <td>1</td>\n",
       "    </tr>\n",
       "    <tr>\n",
       "      <th>1</th>\n",
       "      <td>3</td>\n",
       "      <td>0</td>\n",
       "      <td>47.0</td>\n",
       "      <td>7</td>\n",
       "      <td>2</td>\n",
       "    </tr>\n",
       "    <tr>\n",
       "      <th>2</th>\n",
       "      <td>2</td>\n",
       "      <td>1</td>\n",
       "      <td>62.0</td>\n",
       "      <td>7</td>\n",
       "      <td>1</td>\n",
       "    </tr>\n",
       "    <tr>\n",
       "      <th>3</th>\n",
       "      <td>3</td>\n",
       "      <td>1</td>\n",
       "      <td>27.0</td>\n",
       "      <td>7</td>\n",
       "      <td>2</td>\n",
       "    </tr>\n",
       "    <tr>\n",
       "      <th>4</th>\n",
       "      <td>3</td>\n",
       "      <td>0</td>\n",
       "      <td>22.0</td>\n",
       "      <td>7</td>\n",
       "      <td>2</td>\n",
       "    </tr>\n",
       "  </tbody>\n",
       "</table>\n",
       "</div>"
      ],
      "text/plain": [
       "   Pclass  Sex   Age  Cabin  Embarked\n",
       "0       3    1  34.5      7         1\n",
       "1       3    0  47.0      7         2\n",
       "2       2    1  62.0      7         1\n",
       "3       3    1  27.0      7         2\n",
       "4       3    0  22.0      7         2"
      ]
     },
     "execution_count": 15,
     "metadata": {},
     "output_type": "execute_result"
    }
   ],
   "source": [
    "test_df.head()"
   ]
  },
  {
   "attachments": {},
   "cell_type": "markdown",
   "id": "fd5a6d65",
   "metadata": {},
   "source": [
    "#### features와 label 분리"
   ]
  },
  {
   "cell_type": "code",
   "execution_count": 16,
   "id": "6370e8e7",
   "metadata": {
    "ExecuteTime": {
     "end_time": "2023-01-31T00:12:30.319426Z",
     "start_time": "2023-01-31T00:12:30.309453Z"
    },
    "scrolled": true
   },
   "outputs": [],
   "source": [
    "x_train = train_df.drop(\"Survived\",axis=1)\n",
    "y_train = train['Survived']"
   ]
  },
  {
   "cell_type": "code",
   "execution_count": 17,
   "id": "8249dae1",
   "metadata": {
    "ExecuteTime": {
     "end_time": "2023-01-31T00:12:30.350822Z",
     "start_time": "2023-01-31T00:12:30.323418Z"
    }
   },
   "outputs": [],
   "source": [
    "x_test = test_df\n",
    "y_test = pd.read_csv('./datasets/titanic_test_y.csv')\n",
    "y_test = y_test['Survived']\n"
   ]
  },
  {
   "cell_type": "code",
   "execution_count": 18,
   "id": "a14e7324",
   "metadata": {
    "ExecuteTime": {
     "end_time": "2023-01-31T00:12:30.381600Z",
     "start_time": "2023-01-31T00:12:30.353813Z"
    }
   },
   "outputs": [
    {
     "data": {
      "text/plain": [
       "0    266\n",
       "1    152\n",
       "Name: Survived, dtype: int64"
      ]
     },
     "execution_count": 18,
     "metadata": {},
     "output_type": "execute_result"
    }
   ],
   "source": [
    "y_test.value_counts()"
   ]
  },
  {
   "attachments": {},
   "cell_type": "markdown",
   "id": "9f92f1e8",
   "metadata": {
    "ExecuteTime": {
     "end_time": "2023-01-30T08:04:32.919326Z",
     "start_time": "2023-01-30T08:04:32.899366Z"
    }
   },
   "source": [
    "### datascailng"
   ]
  },
  {
   "cell_type": "code",
   "execution_count": 19,
   "id": "a7a12fbb",
   "metadata": {
    "ExecuteTime": {
     "end_time": "2023-01-31T00:12:30.413553Z",
     "start_time": "2023-01-31T00:12:30.385593Z"
    }
   },
   "outputs": [],
   "source": [
    "# StandardScaler를 이용한 스케일링\n",
    "from sklearn.preprocessing import StandardScaler\n",
    "scaler = StandardScaler()\n",
    "x_train_scaled = scaler.fit_transform(x_train)\n",
    "x_test_scaled= scaler.fit_transform(x_test)"
   ]
  },
  {
   "cell_type": "code",
   "execution_count": 20,
   "id": "1f2ef82b",
   "metadata": {
    "ExecuteTime": {
     "end_time": "2023-01-31T00:12:30.429087Z",
     "start_time": "2023-01-31T00:12:30.415554Z"
    }
   },
   "outputs": [],
   "source": [
    "x_train_scaled = pd.DataFrame(x_train_scaled,columns=['Pclass','Sex','Age','Cabin','Embarked'])\n",
    "x_test_scaled = pd.DataFrame(x_test_scaled,columns=['Pclass','Sex','Age','Cabin','Embarked'])"
   ]
  },
  {
   "attachments": {},
   "cell_type": "markdown",
   "id": "b767eb96",
   "metadata": {},
   "source": [
    "#### Decision Tree"
   ]
  },
  {
   "cell_type": "code",
   "execution_count": 55,
   "id": "d55d796c",
   "metadata": {
    "ExecuteTime": {
     "end_time": "2023-01-31T01:06:21.556652Z",
     "start_time": "2023-01-31T01:06:21.539698Z"
    }
   },
   "outputs": [
    {
     "name": "stdout",
     "output_type": "stream",
     "text": [
      "예측 정확도: 0.827751\n"
     ]
    }
   ],
   "source": [
    "from sklearn.tree import DecisionTreeClassifier\n",
    "from sklearn.metrics import accuracy_score\n",
    "\n",
    "dt = DecisionTreeClassifier(random_state=156)\n",
    "dt.fit(x_train_scaled,y_train)\n",
    "result_1 = dt.predict(x_test_scaled)\n",
    "\n",
    "print('예측 정확도: {0:3f}'.format(accuracy_score(y_test,result_1)))"
   ]
  },
  {
   "attachments": {},
   "cell_type": "markdown",
   "id": "1f9da669",
   "metadata": {},
   "source": [
    "#### RandomForest"
   ]
  },
  {
   "cell_type": "code",
   "execution_count": 56,
   "id": "4924c408",
   "metadata": {
    "ExecuteTime": {
     "end_time": "2023-01-31T01:06:23.651450Z",
     "start_time": "2023-01-31T01:06:23.465435Z"
    }
   },
   "outputs": [
    {
     "name": "stdout",
     "output_type": "stream",
     "text": [
      "예측 정확도: 0.825359\n"
     ]
    }
   ],
   "source": [
    "from sklearn.ensemble import RandomForestClassifier\n",
    "\n",
    "rfc = RandomForestClassifier(random_state=156)\n",
    "rfc.fit(x_train_scaled,y_train)\n",
    "result_2 = rfc.predict(x_test_scaled)\n",
    "\n",
    "print('예측 정확도: {0:3f}'.format(accuracy_score(y_test,result_2)))"
   ]
  },
  {
   "attachments": {},
   "cell_type": "markdown",
   "id": "f18d1beb",
   "metadata": {},
   "source": [
    "#### Logistic Regression"
   ]
  },
  {
   "cell_type": "code",
   "execution_count": 57,
   "id": "2278e74c",
   "metadata": {
    "ExecuteTime": {
     "end_time": "2023-01-31T01:06:29.495425Z",
     "start_time": "2023-01-31T01:06:29.482464Z"
    }
   },
   "outputs": [
    {
     "name": "stdout",
     "output_type": "stream",
     "text": [
      "예측 정확도: 0.947368\n"
     ]
    }
   ],
   "source": [
    "from sklearn.linear_model import LogisticRegression\n",
    "\n",
    "lr = LogisticRegression()\n",
    "lr.fit(x_train_scaled,y_train)\n",
    "result_3 = lr.predict(x_test_scaled)\n",
    "\n",
    "print('예측 정확도: {0:3f}'.format(accuracy_score(y_test,result_3)))"
   ]
  },
  {
   "attachments": {},
   "cell_type": "markdown",
   "id": "efece15f",
   "metadata": {},
   "source": [
    "### 교차검증\n"
   ]
  },
  {
   "cell_type": "code",
   "execution_count": 60,
   "id": "5e89febc",
   "metadata": {
    "ExecuteTime": {
     "end_time": "2023-01-31T01:07:12.501963Z",
     "start_time": "2023-01-31T01:07:11.672620Z"
    }
   },
   "outputs": [
    {
     "name": "stdout",
     "output_type": "stream",
     "text": [
      "DecisionTreeClassifier(random_state=156)\n",
      "교차검증0 정확도0.7821229050279329\n",
      "교차검증1 정확도0.7808988764044944\n",
      "교차검증2 정확도0.8146067415730337\n",
      "교차검증3 정확도0.8089887640449438\n",
      "교차검증4 정확도0.8370786516853933\n",
      "평균정확도 0.8370786516853933\n",
      "RandomForestClassifier(random_state=156)\n",
      "교차검증0 정확도0.7821229050279329\n",
      "교차검증1 정확도0.7808988764044944\n",
      "교차검증2 정확도0.7808988764044944\n",
      "교차검증3 정확도0.8146067415730337\n",
      "교차검증4 정확도0.8202247191011236\n",
      "평균정확도 0.8202247191011236\n",
      "LogisticRegression()\n",
      "교차검증0 정확도0.7988826815642458\n",
      "교차검증1 정확도0.7921348314606742\n",
      "교차검증2 정확도0.7808988764044944\n",
      "교차검증3 정확도0.7865168539325843\n",
      "교차검증4 정확도0.8033707865168539\n",
      "평균정확도 0.8033707865168539\n"
     ]
    }
   ],
   "source": [
    "from sklearn.model_selection import cross_val_score\n",
    "import numpy as np\n",
    "ml = [dt,rfc,lr]\n",
    "accuracy_list= []\n",
    "for i in ml:\n",
    "    print(i)\n",
    "    scores = cross_val_score(i,x_train_scaled,y_train,cv=5)\n",
    "    for iter_count,accuracy in enumerate(scores):\n",
    "        print(f'교차검증{iter_count} 정확도{accuracy}')\n",
    "        accuracy_list.append(accuracy)\n",
    "    print(f'평균정확도 {np.mean(accuracy_list)}')"
   ]
  },
  {
   "cell_type": "code",
   "execution_count": 68,
   "id": "7e295217",
   "metadata": {
    "ExecuteTime": {
     "end_time": "2023-01-31T04:07:22.910269Z",
     "start_time": "2023-01-31T04:07:22.260759Z"
    },
    "scrolled": true
   },
   "outputs": [
    {
     "name": "stdout",
     "output_type": "stream",
     "text": [
      "GridSearchCV 최적 하이퍼 파라미터 : {'max_depth': 5, 'min_samples_leaf': 1, 'min_samples_split': 2}\n",
      "GrdiSearchCV 최고 정확도: 0.8181783943255289\n",
      "테스트 세트에서의 DecisionTreeClassifier 정확도 0.8827751196172249\n"
     ]
    }
   ],
   "source": [
    "### from sklearn.model_selection import GridSearchCV\n",
    "\n",
    "param = {'max_depth':[2,3,5,10],\n",
    "        'min_samples_split':[2,3,5],\n",
    "        'min_samples_leaf':[1,5,8]}\n",
    "\n",
    "grid_dclf = GridSearchCV(dt,param_grid=param,scoring='accuracy',cv=5)\n",
    "grid_dclf.fit(x_train_scaled,y_train)\n",
    "\n",
    "print('GridSearchCV 최적 하이퍼 파라미터 :',grid_dclf.best_params_)\n",
    "print(f'GrdiSearchCV 최고 정확도: {grid_dclf.best_score_}')\n",
    "best_dclf = grid_dclf.best_estimator_\n",
    "\n",
    "### GridSearchCV의 최적 하이퍼 파라미터로 학습된 Estimator로 예측 및 평가 수행\n",
    "dpred = best_dclf.predict(x_test_scaled)\n",
    "accuracy = accuracy_score(y_test,dpred)\n",
    "print(f'테스트 세트에서의 DecisionTreeClassifier 정확도 {accuracy}')"
   ]
  },
  {
   "attachments": {},
   "cell_type": "markdown",
   "id": "951028d2",
   "metadata": {},
   "source": [
    "### confusion metrics"
   ]
  },
  {
   "cell_type": "code",
   "execution_count": 76,
   "id": "ce87d66a",
   "metadata": {
    "ExecuteTime": {
     "end_time": "2023-01-31T04:16:08.451650Z",
     "start_time": "2023-01-31T04:16:08.431757Z"
    }
   },
   "outputs": [
    {
     "name": "stdout",
     "output_type": "stream",
     "text": [
      "confusion matrix\n",
      "[[259   7]\n",
      " [ 42 110]]\n",
      "정확도: 0.8828,정밀도0.9402, 재현율0.7237\n"
     ]
    }
   ],
   "source": [
    "from sklearn.metrics import accuracy_score, precision_score, recall_score,confusion_matrix\n",
    "\n",
    "def get_clf_eval(y_test,pred):\n",
    "    confusion = confusion_matrix(y_test,pred)\n",
    "    accuracy = accuracy_score(y_test,pred)\n",
    "    precision = precision_score(y_test,pred)\n",
    "    recall = recall_score(y_test,pred)\n",
    "    print('confusion matrix')\n",
    "    print(confusion)\n",
    "    print(f'정확도: {np.round(accuracy,4)},정밀도{np.round(precision,4)}, 재현율{np.round(recall,4)}')\n",
    "    \n",
    "get_clf_eval(y_test,dpred)"
   ]
  },
  {
   "cell_type": "code",
   "execution_count": null,
   "id": "0ce6ba9c",
   "metadata": {},
   "outputs": [],
   "source": []
  }
 ],
 "metadata": {
  "kernelspec": {
   "display_name": "Python 3 (ipykernel)",
   "language": "python",
   "name": "python3"
  },
  "language_info": {
   "codemirror_mode": {
    "name": "ipython",
    "version": 3
   },
   "file_extension": ".py",
   "mimetype": "text/x-python",
   "name": "python",
   "nbconvert_exporter": "python",
   "pygments_lexer": "ipython3",
   "version": "3.9.13"
  },
  "toc": {
   "base_numbering": 1,
   "nav_menu": {},
   "number_sections": true,
   "sideBar": true,
   "skip_h1_title": false,
   "title_cell": "Table of Contents",
   "title_sidebar": "Contents",
   "toc_cell": false,
   "toc_position": {
    "height": "556px",
    "left": "168px",
    "top": "140.525px",
    "width": "153.438px"
   },
   "toc_section_display": true,
   "toc_window_display": false
  },
  "varInspector": {
   "cols": {
    "lenName": 16,
    "lenType": 16,
    "lenVar": 40
   },
   "kernels_config": {
    "python": {
     "delete_cmd_postfix": "",
     "delete_cmd_prefix": "del ",
     "library": "var_list.py",
     "varRefreshCmd": "print(var_dic_list())"
    },
    "r": {
     "delete_cmd_postfix": ") ",
     "delete_cmd_prefix": "rm(",
     "library": "var_list.r",
     "varRefreshCmd": "cat(var_dic_list()) "
    }
   },
   "types_to_exclude": [
    "module",
    "function",
    "builtin_function_or_method",
    "instance",
    "_Feature"
   ],
   "window_display": false
  }
 },
 "nbformat": 4,
 "nbformat_minor": 5
}
