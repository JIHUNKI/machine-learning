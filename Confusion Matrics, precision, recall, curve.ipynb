{
 "cells": [
  {
   "cell_type": "markdown",
   "id": "c51df0ef",
   "metadata": {},
   "source": [
    "#### sklearn.metrics.confusion_matrix\n",
    "\n",
    "- sklearn.metrics.confusion_matrix(y_true, y_pred, *, labels=None, sample_weight=None, normalize=None)\n",
    "\n",
    "- parameters\n",
    "    - y_true\n",
    "    - y_pred\n",
    "    - labels\n",
    "\n",
    "- return\n",
    "    - ndarray of shape"
   ]
  },
  {
   "cell_type": "markdown",
   "id": "0324f9e4",
   "metadata": {},
   "source": [
    "#### sklearn.metrics.precision_score\n",
    "\n",
    "- sklearn.metrics.precision_score(y_true, y_pred, *, labels=None, pos_label=1, average='binary', sample_weight=None, zero_division='warn')\n",
    "\n",
    "- parameters\n",
    "    - y_true\n",
    "    - y_pred\n",
    "    - labels\n",
    "    - pos_label : default=1,  The class to report if average='binary' and the data is binary\n",
    "    - zero_division : Sets the value to return when there is a zero division. If set to “warn”, this acts as 0, but warnings are also raised.\n",
    "\n",
    "- returns\n",
    "    - precision : float"
   ]
  },
  {
   "cell_type": "markdown",
   "id": "a9ac325a",
   "metadata": {},
   "source": [
    "#### sklearn.metrics.recall_score\n",
    "* sklearn.metrics.recall_score(y_true, y_pred, *, labels=None, pos_label=1, average='binary', sample_weight=None, zero_division='warn')\n",
    "\n",
    "* parameter \n",
    "    - y_true\n",
    "    - y_pred\n",
    "    - labels\n",
    "    - pos_label\n",
    "    \n",
    "* return\n",
    "    - recall"
   ]
  },
  {
   "cell_type": "code",
   "execution_count": 9,
   "id": "73c07908",
   "metadata": {
    "ExecuteTime": {
     "end_time": "2023-01-31T02:31:04.903127Z",
     "start_time": "2023-01-31T02:31:04.881186Z"
    }
   },
   "outputs": [
    {
     "name": "stdout",
     "output_type": "stream",
     "text": [
      "[[405   0]\n",
      " [ 15  30]]\n",
      "정확도: 0.9666666666666667\n",
      "정밀도: 1.0\n",
      "재현율: 0.6666666666666666\n"
     ]
    }
   ],
   "source": [
    "from sklearn.metrics import confusion_matrix, precision_score,recall_score ,accuracy_score\n",
    "import numpy as np\n",
    "\n",
    "y_test = list(np.zeros(405))+list(np.ones(45))\n",
    "fakepred = list(np.zeros(420))+list(np.ones(30))\n",
    "\n",
    "print(confusion_matrix(y_test,fakepred))\n",
    "print(f'정확도: {accuracy_score(y_test,fakepred)}')\n",
    "print(f'정밀도: {precision_score(y_test,fakepred)}')\n",
    "print(f'재현율: {recall_score(y_test,fakepred)}')"
   ]
  },
  {
   "cell_type": "markdown",
   "id": "0f2b7296",
   "metadata": {},
   "source": [
    "### precision_recall_curve()"
   ]
  },
  {
   "cell_type": "code",
   "execution_count": 53,
   "id": "33f3f507",
   "metadata": {
    "ExecuteTime": {
     "end_time": "2023-01-31T07:19:23.799493Z",
     "start_time": "2023-01-31T07:19:23.735665Z"
    }
   },
   "outputs": [
    {
     "name": "stdout",
     "output_type": "stream",
     "text": [
      "[[0.90004657 0.09995343]\n",
      " [0.56777228 0.43222772]\n",
      " [0.89778678 0.10221322]]\n",
      "[0 0 0]\n"
     ]
    }
   ],
   "source": [
    "import pandas as pd\n",
    "from sklearn.preprocessing import LabelEncoder\n",
    "from sklearn.linear_model import LogisticRegression\n",
    "\n",
    "train_df = pd.read_csv(\"./datasets/titanic_train.csv\")\n",
    "test_df = pd.read_csv(\"./datasets/titanic_test.csv\")\n",
    "y_test = pd.read_csv('./datasets/titanic_test_y.csv')\n",
    "y_test = y_test['Survived']\n",
    "\n",
    "\n",
    "# Null 처리 함수\n",
    "def fillna(df):\n",
    "    df['Age'].fillna(df['Age'].mean(), inplace=True)\n",
    "    df['Cabin'].fillna('N', inplace=True)\n",
    "    df['Embarked'].fillna('N', inplace=True)\n",
    "    df['Fare'].fillna(0, inplace=True)\n",
    "    return df\n",
    "\n",
    "#머신러닝 알고리즘에 불필요한 속성 제거\n",
    "def drop_features(df):\n",
    "    df.drop(['PassengerId', 'Name', 'SibSp', 'Parch', 'Ticket', 'Fare'], axis=1, inplace=True)\n",
    "    return df\n",
    "\n",
    "# 레이블 인코딩 수행\n",
    "def format_features(df):\n",
    "    df['Cabin'] = df['Cabin'].str[:1]\n",
    "    features = ['Cabin', 'Sex', 'Embarked']\n",
    "    for feature in features:\n",
    "        le = LabelEncoder()\n",
    "        le = le.fit(df[feature])\n",
    "        df[feature] = le.transform(df[feature])\n",
    "    return df\n",
    "\n",
    "# 앞에서 설정한 Data Preprocessing 함수 호출\n",
    "def transform_features(df):\n",
    "    df = fillna(df)\n",
    "    df = drop_features(df)\n",
    "    df = format_features(df)\n",
    "    return df\n",
    "\n",
    "train_df = transform_features(train_df)\n",
    "test_df = transform_features(test_df)\n",
    "\n",
    "# label,feature\n",
    "x_train = train_df.drop(\"Survived\",axis=1)\n",
    "y_train = train_df['Survived']\n",
    "x_test = test_df\n",
    "\n",
    "## logistic regression\n",
    "lr = LogisticRegression()\n",
    "lr.fit(x_train,y_train)\n",
    "pred = lr.predict(x_test)\n",
    "pred_proba = lr.predict_proba(x_test)\n",
    "print(pred_proba[:3])\n",
    "print(pred[:3])"
   ]
  },
  {
   "cell_type": "markdown",
   "id": "9a2922a2",
   "metadata": {},
   "source": [
    "#### Binarizer  임계값 설정\n"
   ]
  },
  {
   "cell_type": "code",
   "execution_count": 59,
   "id": "c2af7626",
   "metadata": {
    "ExecuteTime": {
     "end_time": "2023-01-31T07:20:37.888238Z",
     "start_time": "2023-01-31T07:20:37.866395Z"
    }
   },
   "outputs": [
    {
     "name": "stdout",
     "output_type": "stream",
     "text": [
      "confusion matrix\n",
      "[[245  21]\n",
      " [  2 150]]\n",
      "정확도: 0.945,정밀도0.8772, 재현율0.9868, f1_Score0.9288\n"
     ]
    }
   ],
   "source": [
    "from sklearn.preprocessing import Binarizer\n",
    "from sklearn.metrics import accuracy_score, precision_score, recall_score,confusion_matrix, f1_score\n",
    "\n",
    "# Binarizer 의 threshold 설정값, 분류 결정 임계값임\n",
    "# threshold 기준값보다 같거나 작으면 0을 크면 1을 반환\n",
    "custom_threshold = 0.5\n",
    "\n",
    "# predict_proba() 반환값의 두번째 컬럼 , 즉 positive클래스 컬럼 하나만 추출하여 Binarizer를 적용\n",
    "pred_proba_1 = pred_proba[:,1].reshape(-1,1)\n",
    "\n",
    "binarizer = Binarizer(threshold=custom_threshold).fit(pred_proba_1)\n",
    "custom_predict = binarizer.transform(pred_proba_1)\n",
    "\n",
    "\n",
    "def get_clf_eval(y_test,pred):\n",
    "    confusion = confusion_matrix(y_test,pred)\n",
    "    accuracy = accuracy_score(y_test,pred)\n",
    "    precision = precision_score(y_test,pred)\n",
    "    recall = recall_score(y_test,pred)\n",
    "    f1 = f1_score(y_test,pred)\n",
    "    print('confusion matrix')\n",
    "    print(confusion)\n",
    "    print(f'정확도: {np.round(accuracy,4)},정밀도{np.round(precision,4)}, 재현율{np.round(recall,4)}, f1_Score{np.round(f1,4)}')\n",
    "    \n",
    "get_clf_eval(y_test,custom_predict)"
   ]
  },
  {
   "cell_type": "markdown",
   "id": "592da62a",
   "metadata": {
    "ExecuteTime": {
     "end_time": "2023-01-31T05:41:09.935456Z",
     "start_time": "2023-01-31T05:41:09.921481Z"
    }
   },
   "source": [
    "### 임계값 찾기 for 구문"
   ]
  },
  {
   "cell_type": "code",
   "execution_count": 60,
   "id": "0f65f7fc",
   "metadata": {
    "ExecuteTime": {
     "end_time": "2023-01-31T09:33:53.371811Z",
     "start_time": "2023-01-31T09:33:53.357319Z"
    }
   },
   "outputs": [],
   "source": [
    "import numpy as np\n",
    "from sklearn.preprocessing import Binarizer\n",
    "from sklearn.metrics import accuracy_score, precision_score, recall_score,confusion_matrix\n",
    "\n",
    "threshold_arr = np.linspace(0,1,num=20,endpoint=False)\n",
    "\n",
    "def get_clf_eval(y_test,pred):\n",
    "    precision = precision_score(y_test,pred)\n",
    "    recall = recall_score(y_test,pred)\n",
    "    return (precision,recall)\n"
   ]
  },
  {
   "cell_type": "code",
   "execution_count": 39,
   "id": "fec9b41a",
   "metadata": {
    "ExecuteTime": {
     "end_time": "2023-01-31T05:48:34.975089Z",
     "start_time": "2023-01-31T05:48:34.901696Z"
    }
   },
   "outputs": [
    {
     "name": "stdout",
     "output_type": "stream",
     "text": [
      "[0.36363636363636365, 0.3645083932853717, 0.40970350404312667, 0.5314685314685315, 0.5846153846153846, 0.6523605150214592, 0.7203791469194313, 0.7524752475247525, 0.7794871794871795, 0.8379888268156425, 0.8771929824561403, 0.9177215189873418, 0.9416058394160584, 0.9805825242718447, 0.978021978021978, 0.9880952380952381, 1.0, 1.0, 1.0, 1.0]\n",
      "[1.0, 1.0, 1.0, 1.0, 1.0, 1.0, 1.0, 1.0, 1.0, 0.9868421052631579, 0.9868421052631579, 0.9539473684210527, 0.8486842105263158, 0.6644736842105263, 0.5855263157894737, 0.5460526315789473, 0.4407894736842105, 0.32894736842105265, 0.19736842105263158, 0.05263157894736842]\n"
     ]
    }
   ],
   "source": [
    "precision_list = []\n",
    "recall_list = []\n",
    "\n",
    "for i in threshold_arr:\n",
    "    # threshold 객체내의 값을 차례로 iteration하면서 evaluation 실행\n",
    "    binarizer = Binarizer(threshold=i).fit(pred_proba[:,1].reshape(-1,1))\n",
    "    custom_predict = binarizer.transform(pred_proba[:,1].reshape(-1,1))\n",
    "    precision,recall =  get_clf_eval(y_test,custom_predict)\n",
    "    precision_list.append(precision)\n",
    "    recall_list.append(recall)\n",
    "print(precision_list)\n",
    "print(recall_list)"
   ]
  },
  {
   "cell_type": "markdown",
   "id": "4a1cebb3",
   "metadata": {},
   "source": [
    "#### sklearn.metrics.precision_recall_curve\n",
    "* sklearn.metrics.precision_recall_curve(y_true, probas_pred, *, pos_label=None, sample_weight=None)\n",
    "\n",
    "* parameters\n",
    "    - y_true\n",
    "    - probas_pred\n",
    "* returns\n",
    "    - precision\n",
    "    - recall\n",
    "    - thresholds"
   ]
  },
  {
   "cell_type": "code",
   "execution_count": 44,
   "id": "ac654877",
   "metadata": {
    "ExecuteTime": {
     "end_time": "2023-01-31T05:59:42.825489Z",
     "start_time": "2023-01-31T05:59:42.788586Z"
    }
   },
   "outputs": [
    {
     "name": "stdout",
     "output_type": "stream",
     "text": [
      "threshold 5 sample [0.03812389 0.05315255 0.06611711 0.07033047 0.07142196]\n",
      "precision 5 sample [0.36363636 0.36450839 0.36538462 0.36626506 0.36714976]\n",
      "recall 5 sample [1. 1. 1. 1. 1.]\n"
     ]
    }
   ],
   "source": [
    "from sklearn.metrics import precision_recall_curve\n",
    "from sklearn.linear_model import LogisticRegression\n",
    "\n",
    "lr_clf = LogisticRegression()\n",
    "lr_clf.fit(x_train,y_train)\n",
    "\n",
    "# label이 1인 값의 두번째 열만 사용\n",
    "pred_proba = lr_clf.predict_proba(x_test)[:,1]\n",
    "\n",
    "precisions, recalls,thresholds = precision_recall_curve(y_test,pred_proba)\n",
    "print('threshold 5 sample',thresholds[:5])\n",
    "print('precision 5 sample',precisions[:5])\n",
    "print('recall 5 sample',recalls[:5])"
   ]
  },
  {
   "cell_type": "markdown",
   "id": "5f213e03",
   "metadata": {},
   "source": [
    "#### precision_recall_curve 그래프 trade off\n",
    "\n",
    "*  matplotlib.pyplot.xticks(ticks=None, labels=None, *, minor=False, **kwargs)\n",
    "    - parameter \n",
    "        - ticks :The list of xtick locations. Passing an empty list removes all xticks.\n",
    "        - labels :The labels to place at the given ticks locations. This argument can only be passed if ticks is passed as well.\n",
    "        \n",
    "* matplotlib.pyplot.xlim(*args, **kwargs)\n",
    "    - ex)\n",
    "        - left, right = xlim()  # return the current xlim\n",
    "        - xlim(left, right)     # set the xlim to left, right\n",
    "                "
   ]
  },
  {
   "cell_type": "code",
   "execution_count": 49,
   "id": "ab1c1d3d",
   "metadata": {
    "ExecuteTime": {
     "end_time": "2023-01-31T06:24:37.238967Z",
     "start_time": "2023-01-31T06:24:37.091325Z"
    }
   },
   "outputs": [
    {
     "data": {
      "image/png": "[encoded data removed]",
      "text/plain": [
       "<Figure size 800x600 with 1 Axes>"
      ]
     },
     "metadata": {},
     "output_type": "display_data"
    }
   ],
   "source": [
    "import matplotlib.pyplot as plt\n",
    "import matplotlib.ticker as ticker\n",
    "\n",
    "def precision_recall_curve_plot(y_test,pred_proba):\n",
    "    precisions, recalls,thresholds = precision_recall_curve(y_test,pred_proba)\n",
    "    \n",
    "    plt.figure(figsize=(8,6))\n",
    "    threshold_index = thresholds.shape[0]\n",
    "    plt.plot(thresholds,precisions[0:threshold_index],'r--',label='precision')\n",
    "    plt.plot(thresholds,recalls[0:threshold_index],label='recall')\n",
    "    \n",
    "    start,end = plt.xlim()\n",
    "    plt.xticks(np.around(np.arange(start,end,0.1),2))\n",
    "    \n",
    "    plt.xlabel('Threshold value')\n",
    "    plt.ylabel('precision and recall value')\n",
    "    plt.legend()\n",
    "    plt.grid()\n",
    "    plt.show()\n",
    "    \n",
    "precision_recall_curve_plot(y_test,pred_proba)"
   ]
  }
 ],
 "metadata": {
  "kernelspec": {
   "display_name": "Python 3 (ipykernel)",
   "language": "python",
   "name": "python3"
  },
  "language_info": {
   "codemirror_mode": {
    "name": "ipython",
    "version": 3
   },
   "file_extension": ".py",
   "mimetype": "text/x-python",
   "name": "python",
   "nbconvert_exporter": "python",
   "pygments_lexer": "ipython3",
   "version": "3.9.13"
  },
  "toc": {
   "base_numbering": 1,
   "nav_menu": {},
   "number_sections": true,
   "sideBar": true,
   "skip_h1_title": false,
   "title_cell": "Table of Contents",
   "title_sidebar": "Contents",
   "toc_cell": false,
   "toc_position": {},
   "toc_section_display": true,
   "toc_window_display": false
  },
  "varInspector": {
   "cols": {
    "lenName": 16,
    "lenType": 16,
    "lenVar": 40
   },
   "kernels_config": {
    "python": {
     "delete_cmd_postfix": "",
     "delete_cmd_prefix": "del ",
     "library": "var_list.py",
     "varRefreshCmd": "print(var_dic_list())"
    },
    "r": {
     "delete_cmd_postfix": ") ",
     "delete_cmd_prefix": "rm(",
     "library": "var_list.r",
     "varRefreshCmd": "cat(var_dic_list()) "
    }
   },
   "types_to_exclude": [
    "module",
    "function",
    "builtin_function_or_method",
    "instance",
    "_Feature"
   ],
   "window_display": false
  }
 },
 "nbformat": 4,
 "nbformat_minor": 5
}
