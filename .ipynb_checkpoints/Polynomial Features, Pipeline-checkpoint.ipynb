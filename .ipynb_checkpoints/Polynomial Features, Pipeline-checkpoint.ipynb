{
 "cells": [
  {
   "cell_type": "markdown",
   "id": "9993de0d",
   "metadata": {},
   "source": [
    "#### sklearn.preprocessing.PolynomialFeatures\n",
    " * class sklearn.preprocessing.PolynomialFeatures(degree=2, *, interaction_only=False, include_bias=True, order='C')\n",
    " \n",
    " * the degree-2 polynomial features are [1, a, b, a^2, ab, b^2].\n",
    " \n",
    " * degree : int or tuple (min_degree, max_degree), default=2"
   ]
  },
  {
   "cell_type": "code",
   "execution_count": 1,
   "id": "ab78a2ee",
   "metadata": {
    "ExecuteTime": {
     "end_time": "2023-02-03T07:27:08.344577Z",
     "start_time": "2023-02-03T07:27:08.332608Z"
    }
   },
   "outputs": [],
   "source": [
    "from sklearn.preprocessing import PolynomialFeatures"
   ]
  },
  {
   "cell_type": "code",
   "execution_count": 3,
   "id": "beacb055",
   "metadata": {
    "ExecuteTime": {
     "end_time": "2023-02-03T07:27:55.943303Z",
     "start_time": "2023-02-03T07:27:55.925376Z"
    }
   },
   "outputs": [
    {
     "name": "stdout",
     "output_type": "stream",
     "text": [
      "일차 단항식 계수 features :\n",
      " [[0 1]\n",
      " [2 3]]\n"
     ]
    }
   ],
   "source": [
    "import numpy as np\n",
    "x = np.arange(4).reshape(2,2)\n",
    "print('일차 단항식 계수 features :\\n',x)"
   ]
  },
  {
   "cell_type": "code",
   "execution_count": 5,
   "id": "354a4704",
   "metadata": {
    "ExecuteTime": {
     "end_time": "2023-02-03T07:29:34.522368Z",
     "start_time": "2023-02-03T07:29:34.509297Z"
    }
   },
   "outputs": [
    {
     "name": "stdout",
     "output_type": "stream",
     "text": [
      "2차 다항식 \n",
      " [[1. 0. 1. 0. 0. 1.]\n",
      " [1. 2. 3. 4. 6. 9.]]\n"
     ]
    }
   ],
   "source": [
    "## degree =2  - 2차 다항식으로 변환\n",
    "poly = PolynomialFeatures(degree=2)\n",
    "poly.fit(x)\n",
    "poly_ftr = poly.transform(x)\n",
    "print('2차 다항식 \\n',poly_ftr)"
   ]
  },
  {
   "cell_type": "code",
   "execution_count": 7,
   "id": "d2aaf2e9",
   "metadata": {
    "ExecuteTime": {
     "end_time": "2023-02-03T07:31:29.110800Z",
     "start_time": "2023-02-03T07:31:29.103586Z"
    }
   },
   "outputs": [
    {
     "name": "stdout",
     "output_type": "stream",
     "text": [
      "일차 단항식 계수 features :\n",
      " [[0 1]\n",
      " [2 3]]\n",
      "삼차 다항식 \n",
      " [[ 0 14]\n",
      " [36 72]]\n"
     ]
    }
   ],
   "source": [
    "## 3 차 다항식 계수\n",
    "\n",
    "def polynomial_func (x) :\n",
    "    y = 1_2*x+x**2+x**3\n",
    "    return y\n",
    "\n",
    "x = np.arange(4).reshape(2,2)\n",
    "print('일차 단항식 계수 features :\\n',x)\n",
    "y = polynomial_func(x)\n",
    "print('삼차 다항식 \\n', y)"
   ]
  },
  {
   "cell_type": "code",
   "execution_count": 8,
   "id": "5fc9c304",
   "metadata": {
    "ExecuteTime": {
     "end_time": "2023-02-03T07:31:48.591534Z",
     "start_time": "2023-02-03T07:31:48.576568Z"
    }
   },
   "outputs": [
    {
     "name": "stdout",
     "output_type": "stream",
     "text": [
      "2차 다항식 \n",
      " [[ 1.  0.  1.  0.  0.  1.  0.  0.  0.  1.]\n",
      " [ 1.  2.  3.  4.  6.  9.  8. 12. 18. 27.]]\n"
     ]
    }
   ],
   "source": [
    "## 3 차 다항식 변환\n",
    "poly = PolynomialFeatures(degree=3)\n",
    "poly.fit(x)\n",
    "poly_ftr = poly.transform(x)\n",
    "print('2차 다항식 \\n',poly_ftr)"
   ]
  },
  {
   "cell_type": "code",
   "execution_count": 11,
   "id": "9dc8472e",
   "metadata": {
    "ExecuteTime": {
     "end_time": "2023-02-03T07:34:14.597134Z",
     "start_time": "2023-02-03T07:34:14.577175Z"
    }
   },
   "outputs": [
    {
     "name": "stdout",
     "output_type": "stream",
     "text": [
      "회귀계수 \n",
      " [[0.   0.05 0.05 0.11 0.16 0.22 0.22 0.32 0.49 0.7 ]\n",
      " [0.   0.09 0.09 0.17 0.26 0.35 0.35 0.52 0.78 1.13]]\n",
      "회귀 shape \n",
      " (2, 10)\n"
     ]
    }
   ],
   "source": [
    "## 3차 다항식 결정값으로 선형회귀 학습 예측 평가\n",
    "from sklearn.linear_model import LinearRegression\n",
    "model =LinearRegression()\n",
    "model.fit(poly_ftr,y)\n",
    "print('회귀계수 \\n',np.round(model.coef_,2))\n",
    "print('회귀 shape \\n',model.coef_.shape)"
   ]
  },
  {
   "cell_type": "markdown",
   "id": "3f82b071",
   "metadata": {},
   "source": [
    "#### sklearn.pipeline.Pipeline\n",
    "* class sklearn.pipeline.Pipeline(steps, *, memory=None, verbose=False)\n",
    "\n",
    "* params \n",
    "    - steps : list of tuple\n",
    "    \n",
    "* attributes\n",
    "    - named_steps  :"
   ]
  },
  {
   "cell_type": "code",
   "execution_count": 19,
   "id": "cb6caad1",
   "metadata": {
    "ExecuteTime": {
     "end_time": "2023-02-03T08:02:22.750746Z",
     "start_time": "2023-02-03T08:02:22.734788Z"
    }
   },
   "outputs": [],
   "source": [
    "\n",
    "from sklearn.pipeline import Pipeline\n",
    "\n",
    "model =  Pipeline([\n",
    "    ('poly',PolynomialFeatures(degree=3)),\n",
    "    ('linear',LinearRegression())\n",
    "])\n",
    "\n",
    "x = np.arange(4).reshape(2,2)\n",
    "y = polynomial_func(x)\n",
    "model = model.fit(x,y)"
   ]
  },
  {
   "cell_type": "code",
   "execution_count": 20,
   "id": "e6e044f7",
   "metadata": {
    "ExecuteTime": {
     "end_time": "2023-02-03T08:02:23.454551Z",
     "start_time": "2023-02-03T08:02:23.435165Z"
    }
   },
   "outputs": [
    {
     "data": {
      "text/plain": [
       "array([[0.        , 0.05405405, 0.05405405, 0.10810811, 0.16216216,\n",
       "        0.21621622, 0.21621622, 0.32432432, 0.48648649, 0.7027027 ],\n",
       "       [0.        , 0.08708709, 0.08708709, 0.17417417, 0.26126126,\n",
       "        0.34834835, 0.34834835, 0.52252252, 0.78378378, 1.13213213]])"
      ]
     },
     "execution_count": 20,
     "metadata": {},
     "output_type": "execute_result"
    }
   ],
   "source": [
    "model.named_steps['linear'].coef_"
   ]
  },
  {
   "cell_type": "code",
   "execution_count": null,
   "id": "53990839",
   "metadata": {},
   "outputs": [],
   "source": []
  }
 ],
 "metadata": {
  "kernelspec": {
   "display_name": "Python 3 (ipykernel)",
   "language": "python",
   "name": "python3"
  },
  "language_info": {
   "codemirror_mode": {
    "name": "ipython",
    "version": 3
   },
   "file_extension": ".py",
   "mimetype": "text/x-python",
   "name": "python",
   "nbconvert_exporter": "python",
   "pygments_lexer": "ipython3",
   "version": "3.9.13"
  },
  "toc": {
   "base_numbering": 1,
   "nav_menu": {},
   "number_sections": true,
   "sideBar": true,
   "skip_h1_title": false,
   "title_cell": "Table of Contents",
   "title_sidebar": "Contents",
   "toc_cell": false,
   "toc_position": {},
   "toc_section_display": true,
   "toc_window_display": false
  },
  "varInspector": {
   "cols": {
    "lenName": 16,
    "lenType": 16,
    "lenVar": 40
   },
   "kernels_config": {
    "python": {
     "delete_cmd_postfix": "",
     "delete_cmd_prefix": "del ",
     "library": "var_list.py",
     "varRefreshCmd": "print(var_dic_list())"
    },
    "r": {
     "delete_cmd_postfix": ") ",
     "delete_cmd_prefix": "rm(",
     "library": "var_list.r",
     "varRefreshCmd": "cat(var_dic_list()) "
    }
   },
   "types_to_exclude": [
    "module",
    "function",
    "builtin_function_or_method",
    "instance",
    "_Feature"
   ],
   "window_display": false
  }
 },
 "nbformat": 4,
 "nbformat_minor": 5
}
