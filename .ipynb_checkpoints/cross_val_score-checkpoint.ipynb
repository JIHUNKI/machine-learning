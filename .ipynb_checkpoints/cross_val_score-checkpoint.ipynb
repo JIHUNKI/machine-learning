{
 "cells": [
  {
   "cell_type": "markdown",
   "id": "a63ae288",
   "metadata": {},
   "source": [
    "### sklearn.model_selection.cross_val_score\n",
    "\n",
    "* sklearn.model_selection.cross_val_score(estimator, X, y=None, *, groups=None, scoring=None, cv=None, n_jobs=None, verbose=0, fit_params=None, pre_dispatch='2*n_jobs', error_score=nan)[source]\n",
    "\n",
    "   * estimato : 적용 머신러닝 알고리즘\n",
    "   * x : x값\n",
    "   * y : y(lable)값\n",
    "   * cv : 교차검증 횟수\n",
    "   * scoring = 'accuracy','mse'와 같은 평가값\n",
    "   * verbose = 0 or 1 default=0  , 1이면 자세한 과정을 보여줌\n"
   ]
  },
  {
   "cell_type": "code",
   "execution_count": 7,
   "id": "4ca28e49",
   "metadata": {
    "ExecuteTime": {
     "end_time": "2023-01-27T07:13:37.027920Z",
     "start_time": "2023-01-27T07:13:37.014955Z"
    }
   },
   "outputs": [],
   "source": [
    "from sklearn.datasets import load_iris\n",
    "from sklearn.model_selection import cross_val_score,cross_validate\n",
    "from sklearn.tree import DecisionTreeClassifier\n",
    "import numpy as np"
   ]
  },
  {
   "cell_type": "code",
   "execution_count": 10,
   "id": "5f757a68",
   "metadata": {
    "ExecuteTime": {
     "end_time": "2023-01-27T07:14:43.885842Z",
     "start_time": "2023-01-27T07:14:43.858912Z"
    }
   },
   "outputs": [
    {
     "name": "stdout",
     "output_type": "stream",
     "text": [
      "교차 검증별 정확도 : [0.98 0.94 0.98]\n",
      "평균 검증 정확도 : 0.9667\n"
     ]
    }
   ],
   "source": [
    "iris_data = load_iris()\n",
    "dt_clf = DecisionTreeClassifier(random_state=156)\n",
    "\n",
    "data = iris_data.data\n",
    "label = iris_data.target\n",
    "\n",
    "scores = cross_val_score(dt_clf,data,label,cv=3,scoring=\"accuracy\")\n",
    "mean_score = np.round(np.mean(scores),4)\n",
    "print(f\"교차 검증별 정확도 : {scores}\")\n",
    "print(f\"평균 검증 정확도 : {mean_score}\")"
   ]
  }
 ],
 "metadata": {
  "kernelspec": {
   "display_name": "Python 3 (ipykernel)",
   "language": "python",
   "name": "python3"
  },
  "language_info": {
   "codemirror_mode": {
    "name": "ipython",
    "version": 3
   },
   "file_extension": ".py",
   "mimetype": "text/x-python",
   "name": "python",
   "nbconvert_exporter": "python",
   "pygments_lexer": "ipython3",
   "version": "3.9.13"
  },
  "toc": {
   "base_numbering": 1,
   "nav_menu": {},
   "number_sections": true,
   "sideBar": true,
   "skip_h1_title": false,
   "title_cell": "Table of Contents",
   "title_sidebar": "Contents",
   "toc_cell": false,
   "toc_position": {},
   "toc_section_display": true,
   "toc_window_display": false
  },
  "varInspector": {
   "cols": {
    "lenName": 16,
    "lenType": 16,
    "lenVar": 40
   },
   "kernels_config": {
    "python": {
     "delete_cmd_postfix": "",
     "delete_cmd_prefix": "del ",
     "library": "var_list.py",
     "varRefreshCmd": "print(var_dic_list())"
    },
    "r": {
     "delete_cmd_postfix": ") ",
     "delete_cmd_prefix": "rm(",
     "library": "var_list.r",
     "varRefreshCmd": "cat(var_dic_list()) "
    }
   },
   "types_to_exclude": [
    "module",
    "function",
    "builtin_function_or_method",
    "instance",
    "_Feature"
   ],
   "window_display": false
  }
 },
 "nbformat": 4,
 "nbformat_minor": 5
}
