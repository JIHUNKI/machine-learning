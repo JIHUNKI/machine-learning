{
 "cells": [
  {
   "cell_type": "markdown",
   "id": "e5f725da",
   "metadata": {},
   "source": [
    "#### sklearn.metrics.roc_curve\n",
    "\n",
    "* sklearn.metrics.roc_curve(y_true, y_score, *, pos_label=None, sample_weight=None, drop_intermediate=True)\n",
    "\n",
    "* parameters\n",
    "    - y_true\n",
    "    - y_score\n",
    "    - pos_label : 긍정인 label ,default=1\n",
    "    - sample_weight\n",
    "    - drop_intermediate\n",
    "* return\n",
    "    - fpr\n",
    "    - tpr\n",
    "    - thresholds"
   ]
  },
  {
   "cell_type": "code",
   "execution_count": 1,
   "id": "837f2d46",
   "metadata": {
    "ExecuteTime": {
     "end_time": "2023-01-31T08:12:15.972740Z",
     "start_time": "2023-01-31T08:12:14.087709Z"
    }
   },
   "outputs": [],
   "source": [
    "import pandas as pd\n",
    "from sklearn.preprocessing import LabelEncoder\n",
    "from sklearn.linear_model import LogisticRegression\n",
    "\n",
    "train_df = pd.read_csv(\"./datasets/titanic_train.csv\")\n",
    "test_df = pd.read_csv(\"./datasets/titanic_test.csv\")\n",
    "y_test = pd.read_csv('./datasets/titanic_test_y.csv')\n",
    "y_test = y_test['Survived']\n",
    "\n",
    "\n",
    "# Null 처리 함수\n",
    "def fillna(df):\n",
    "    df['Age'].fillna(df['Age'].mean(), inplace=True)\n",
    "    df['Cabin'].fillna('N', inplace=True)\n",
    "    df['Embarked'].fillna('N', inplace=True)\n",
    "    df['Fare'].fillna(0, inplace=True)\n",
    "    return df\n",
    "\n",
    "#머신러닝 알고리즘에 불필요한 속성 제거\n",
    "def drop_features(df):\n",
    "    df.drop(['PassengerId', 'Name', 'SibSp', 'Parch', 'Ticket', 'Fare'], axis=1, inplace=True)\n",
    "    return df\n",
    "\n",
    "# 레이블 인코딩 수행\n",
    "def format_features(df):\n",
    "    df['Cabin'] = df['Cabin'].str[:1]\n",
    "    features = ['Cabin', 'Sex', 'Embarked']\n",
    "    for feature in features:\n",
    "        le = LabelEncoder()\n",
    "        le = le.fit(df[feature])\n",
    "        df[feature] = le.transform(df[feature])\n",
    "    return df\n",
    "\n",
    "# 앞에서 설정한 Data Preprocessing 함수 호출\n",
    "def transform_features(df):\n",
    "    df = fillna(df)\n",
    "    df = drop_features(df)\n",
    "    df = format_features(df)\n",
    "    return df\n",
    "\n",
    "train_df = transform_features(train_df)\n",
    "test_df = transform_features(test_df)\n",
    "\n",
    "# label,feature\n",
    "x_train = train_df.drop(\"Survived\",axis=1)\n",
    "y_train = train_df['Survived']\n",
    "x_test = test_df\n",
    "\n",
    "## logistic regression\n",
    "lr = LogisticRegression()\n",
    "lr.fit(x_train,y_train)\n",
    "pred = lr.predict(x_test)\n",
    "pred_proba = lr.predict_proba(x_test)"
   ]
  },
  {
   "cell_type": "code",
   "execution_count": 17,
   "id": "80a1f8c6",
   "metadata": {
    "ExecuteTime": {
     "end_time": "2023-01-31T08:35:13.124896Z",
     "start_time": "2023-01-31T08:35:12.994241Z"
    }
   },
   "outputs": [
    {
     "name": "stdout",
     "output_type": "stream",
     "text": [
      "샘플 index로 추출한 임계값: [0.97 0.88 0.83 0.77 0.66 0.63 0.61 0.59 0.57 0.54 0.51 0.41 0.27 0.25\n",
      " 0.22 0.16 0.14 0.13 0.11 0.1  0.1  0.08] \n",
      "\n",
      "fpr: [0.   0.   0.   0.   0.01 0.01 0.02 0.03 0.05 0.06 0.08 0.14 0.27 0.33\n",
      " 0.39 0.47 0.55 0.65 0.75 0.8  0.92 0.96] \n",
      "\n",
      "tpr: [0.01 0.25 0.41 0.54 0.64 0.72 0.84 0.87 0.88 0.96 0.99 1.   1.   1.\n",
      " 1.   1.   1.   1.   1.   1.   1.   1.  ]\n"
     ]
    },
    {
     "data": {
      "image/png": "[encoded data removed]",
      "text/plain": [
       "<Figure size 640x480 with 1 Axes>"
      ]
     },
     "metadata": {},
     "output_type": "display_data"
    }
   ],
   "source": [
    "from sklearn.metrics import roc_curve\n",
    "import matplotlib.pyplot as plt\n",
    "\n",
    "# 레이블 값이 1일때의 예측 확률을 추출\n",
    "pred_proba_class1 = lr.predict_proba(x_test)[:,1]\n",
    "\n",
    "fprs, tprs, thresholds = roc_curve(y_test,pred_proba_class1)\n",
    "# 반환된 임계값 배열에서 샘플로 데이터를 추출하되, 임계값을 5step으로 추출.\n",
    "# threshold[0]은 max(예측확률)+1로 임의 설정됨. 이를 제외하기 위해 np.arange는 1부터 시작\n",
    "\n",
    "thr_index = np.arange(1,thresholds.shape[0],5)\n",
    "print('샘플 index로 추출한 임계값:', np.round(thresholds[thr_index],2),\"\\n\")\n",
    "\n",
    "## 임계값에 따른 fpr.tpr\n",
    "print('fpr:',np.round(fprs[thr_index],2),\"\\n\")\n",
    "print('tpr:',np.round(tprs[thr_index],2))\n",
    "\n",
    "\n",
    "def roc_curve_plot(y_test,pred_proba_c1):\n",
    "    fprs, tprs, thresholds = roc_curve(y_test,pred_proba_c1)\n",
    "    \n",
    "    # Roc curve를 plot 곡선으로 기름\n",
    "    plt.plot(fprs,tprs,label='ROC')\n",
    "    ## 가운데 대각선 직선을 그림\n",
    "    plt.plot([0,1],[0,1],\"k--\",label=\"ramdom\")\n",
    "    \n",
    "    ## fpr x축을 scale을 0.1단위로 변경 x,y축 명 설정\n",
    "    start,end = plt.xlim()\n",
    "    plt.xticks(np.round(np.arange(start,end,0.1),2))\n",
    "    plt.xlim(0,1)\n",
    "    plt.ylim(0,1)\n",
    "    plt.xlabel('FPR(1-sensitivity)')\n",
    "    plt.ylabel('TPR(recall)')\n",
    "    plt.legend()\n",
    "    plt.show()\n",
    "\n",
    "roc_curve_plot(y_test,pred_proba_class1)"
   ]
  },
  {
   "cell_type": "markdown",
   "id": "2ac615a5",
   "metadata": {},
   "source": [
    "#### sklearn.metrics.roc_auc_score\n",
    "* sklearn.metrics.roc_auc_score(y_true, y_score, *, average='macro', sample_weight=None, max_fpr=None, multi_class='raise', labels=None)\n",
    "\n",
    "* parameters\n",
    "    - y_true\n",
    "    - y_score :probability of the class with the greater label\n",
    "    - average : If None, the scores for each class are returned. Otherwise, this determines the type of averaging performed on the data\n",
    "    - max_fpr\n",
    "    - multi_class : Only used for multiclass targets. Determines the type of configuration to use. The default value raises an error, so either 'ovr' or 'ovo' must be passed explicitly.\n",
    "    - labels : Only used for multiclass targets. List of labels that index the classes in y_score. If None, the numerical or lexicographical order of the labels in y_true is used.\n",
    "\n",
    "* returns\n",
    "    - auc"
   ]
  },
  {
   "cell_type": "code",
   "execution_count": 18,
   "id": "6bdaee0e",
   "metadata": {
    "ExecuteTime": {
     "end_time": "2023-01-31T08:41:33.010020Z",
     "start_time": "2023-01-31T08:41:32.992066Z"
    }
   },
   "outputs": [
    {
     "name": "stdout",
     "output_type": "stream",
     "text": [
      " Roc AUC score 0.9539\n"
     ]
    }
   ],
   "source": [
    "## multiclass일때는 label로 넣어 주는게 좋다\n",
    "from sklearn.metrics import roc_auc_score\n",
    "pred = lr.predict(x_test)\n",
    "roc_score = roc_auc_score(y_test,pred)\n",
    "print(f' Roc AUC score {np.round(roc_score,4)}')"
   ]
  },
  {
   "cell_type": "code",
   "execution_count": 20,
   "id": "205fd7c2",
   "metadata": {
    "ExecuteTime": {
     "end_time": "2023-01-31T08:49:36.803863Z",
     "start_time": "2023-01-31T08:49:36.782920Z"
    }
   },
   "outputs": [
    {
     "name": "stdout",
     "output_type": "stream",
     "text": [
      "Roc Auc score 0.9888\n"
     ]
    }
   ],
   "source": [
    "# 일반적으로 label에 큰값의 proba열을 사용하여 적합\n",
    "pred_proba = lr.predict_proba(x_test)\n",
    "roc_score_prob = roc_auc_score(y_test,pred_proba[:,1])\n",
    "print(f'Roc Auc score {np.round(roc_score_prob,4)}')"
   ]
  },
  {
   "cell_type": "code",
   "execution_count": null,
   "id": "c1d283ee",
   "metadata": {},
   "outputs": [],
   "source": []
  }
 ],
 "metadata": {
  "kernelspec": {
   "display_name": "Python 3 (ipykernel)",
   "language": "python",
   "name": "python3"
  },
  "language_info": {
   "codemirror_mode": {
    "name": "ipython",
    "version": 3
   },
   "file_extension": ".py",
   "mimetype": "text/x-python",
   "name": "python",
   "nbconvert_exporter": "python",
   "pygments_lexer": "ipython3",
   "version": "3.9.13"
  },
  "toc": {
   "base_numbering": 1,
   "nav_menu": {},
   "number_sections": true,
   "sideBar": true,
   "skip_h1_title": false,
   "title_cell": "Table of Contents",
   "title_sidebar": "Contents",
   "toc_cell": false,
   "toc_position": {},
   "toc_section_display": true,
   "toc_window_display": false
  },
  "varInspector": {
   "cols": {
    "lenName": 16,
    "lenType": 16,
    "lenVar": 40
   },
   "kernels_config": {
    "python": {
     "delete_cmd_postfix": "",
     "delete_cmd_prefix": "del ",
     "library": "var_list.py",
     "varRefreshCmd": "print(var_dic_list())"
    },
    "r": {
     "delete_cmd_postfix": ") ",
     "delete_cmd_prefix": "rm(",
     "library": "var_list.r",
     "varRefreshCmd": "cat(var_dic_list()) "
    }
   },
   "types_to_exclude": [
    "module",
    "function",
    "builtin_function_or_method",
    "instance",
    "_Feature"
   ],
   "window_display": false
  }
 },
 "nbformat": 4,
 "nbformat_minor": 5
}
