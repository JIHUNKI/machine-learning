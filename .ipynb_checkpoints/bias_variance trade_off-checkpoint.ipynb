{
 "cells": [
  {
   "cell_type": "code",
   "execution_count": 1,
   "id": "5ff6c87f",
   "metadata": {
    "ExecuteTime": {
     "end_time": "2023-02-03T08:42:00.223166Z",
     "start_time": "2023-02-03T08:41:59.731363Z"
    }
   },
   "outputs": [
    {
     "data": {
      "text/plain": [
       "array([ 1.02192014,  1.02191599,  0.96250165,  0.90550047,  0.78225059,\n",
       "       -0.17217751, -0.31272898, -0.35120115, -0.37738434, -0.49965349,\n",
       "       -0.74008513, -0.7528439 , -0.7700317 , -0.84368289, -0.82725889,\n",
       "       -0.88793603, -0.97102973, -0.98232013, -0.94242867, -0.82876001,\n",
       "       -0.80245029, -0.78745661, -0.71250391, -0.69927576, -0.55407074,\n",
       "       -0.47205303, -0.27816705, -0.23246798, -0.12376854, -0.07614573])"
      ]
     },
     "execution_count": 1,
     "metadata": {},
     "output_type": "execute_result"
    }
   ],
   "source": [
    "#  noise 값이 추가된 코사인 시뮬레이션 점 찍기\n",
    "import numpy as np\n",
    "import matplotlib.pyplot as plt\n",
    "from sklearn.pipeline import Pipeline\n",
    "from sklearn.preprocessing import PolynomialFeatures\n",
    "from sklearn.linear_model import LinearRegression\n",
    "from sklearn.model_selection import cross_val_score\n",
    "\n",
    "# random 값으로 구성된 x값에 대하 cos 변환값을 반환\n",
    "def true_fun(x):\n",
    "    return np.cos(1.5 * np.pi*x)\n",
    "\n",
    "# x는 0부터 1까지 30개의 random 값을 순서대로 sampling한 데이터 입니다.\n",
    "np.random.seed(0)\n",
    "n_samples = 30\n",
    "x = np.sort(np.random.rand(n_samples))\n",
    "\n",
    "# y 값은 cos기반의 true_func()에서 약간의 noise 변동값을 더한 값입니다.\n",
    "y = true_fun(x) + np.random.rand(n_samples)*0.1\n",
    "y"
   ]
  },
  {
   "cell_type": "code",
   "execution_count": 4,
   "id": "24b5a8d6",
   "metadata": {
    "ExecuteTime": {
     "end_time": "2023-02-03T08:44:34.183104Z",
     "start_time": "2023-02-03T08:44:34.151712Z"
    }
   },
   "outputs": [
    {
     "data": {
      "text/plain": [
       "<Figure size 1400x500 with 0 Axes>"
      ]
     },
     "metadata": {},
     "output_type": "display_data"
    }
   ],
   "source": [
    "# 다항 회귀의 차수(degree)를 변화시키면서 회귀 계수와 mse값 구해보고 그래프로 나타내기\n",
    "plt.figure(figsize=(14,5))\n",
    "degrees = [1,4,15]\n",
    "\n",
    "# 다항 회귀의 차수를 1,4,15로 각각 변화시키면서 비교합니다.\n",
    "for i in range(len(degrees)):\n",
    "    ax = plt.subplot(1,len(degrees),i+1)\n",
    "    plt.setp(ax,xticks=(),yticks=())\n",
    "    \n",
    "    # 개별 degree별로 polynomial 변환\n",
    "    polynomial_features = PolynomialFeatures(degree=degrees[i],include_bias=False)\n",
    "    linear_regression = LinearRegression()\n",
    "    pipeline=Pipeline([\n",
    "        ('polynomial_features',polynomial_features),\n",
    "        ('linear_regression',linear_regression)\n",
    "    ])\n",
    "    pipeline.fit(x.reshape(-1,1),y)\n",
    "    \n",
    "    # 교차 검증으로 다항 회귀를 평가합니다.\n",
    "    scores = cross_val_score(pipeline,x.reshape(-1,1),y,scores='neg_mean_squared_error',cv=10)\n",
    "    coefficients = pipeline.named_steps['linear_regression'].coef_\n",
    "    print('\\n Degree {0} 회귀계수 {1}')"
   ]
  },
  {
   "cell_type": "code",
   "execution_count": 6,
   "id": "4b418427",
   "metadata": {
    "ExecuteTime": {
     "end_time": "2023-02-03T08:45:31.800605Z",
     "start_time": "2023-02-03T08:45:31.788145Z"
    }
   },
   "outputs": [
    {
     "data": {
      "text/plain": [
       "3"
      ]
     },
     "execution_count": 6,
     "metadata": {},
     "output_type": "execute_result"
    }
   ],
   "source": [
    "len(degrees)"
   ]
  },
  {
   "cell_type": "code",
   "execution_count": null,
   "id": "3faf7aad",
   "metadata": {},
   "outputs": [],
   "source": []
  }
 ],
 "metadata": {
  "kernelspec": {
   "display_name": "Python 3 (ipykernel)",
   "language": "python",
   "name": "python3"
  },
  "language_info": {
   "codemirror_mode": {
    "name": "ipython",
    "version": 3
   },
   "file_extension": ".py",
   "mimetype": "text/x-python",
   "name": "python",
   "nbconvert_exporter": "python",
   "pygments_lexer": "ipython3",
   "version": "3.9.13"
  },
  "toc": {
   "base_numbering": 1,
   "nav_menu": {},
   "number_sections": true,
   "sideBar": true,
   "skip_h1_title": false,
   "title_cell": "Table of Contents",
   "title_sidebar": "Contents",
   "toc_cell": false,
   "toc_position": {},
   "toc_section_display": true,
   "toc_window_display": false
  },
  "varInspector": {
   "cols": {
    "lenName": 16,
    "lenType": 16,
    "lenVar": 40
   },
   "kernels_config": {
    "python": {
     "delete_cmd_postfix": "",
     "delete_cmd_prefix": "del ",
     "library": "var_list.py",
     "varRefreshCmd": "print(var_dic_list())"
    },
    "r": {
     "delete_cmd_postfix": ") ",
     "delete_cmd_prefix": "rm(",
     "library": "var_list.r",
     "varRefreshCmd": "cat(var_dic_list()) "
    }
   },
   "types_to_exclude": [
    "module",
    "function",
    "builtin_function_or_method",
    "instance",
    "_Feature"
   ],
   "window_display": false
  }
 },
 "nbformat": 4,
 "nbformat_minor": 5
}
