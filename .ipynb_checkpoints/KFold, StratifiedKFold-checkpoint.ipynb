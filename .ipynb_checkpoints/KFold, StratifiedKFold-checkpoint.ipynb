{
 "cells": [
  {
   "cell_type": "markdown",
   "id": "779a127c",
   "metadata": {},
   "source": [
    "### sklearn.model_selection.KFold\n",
    "* _class_ sklearn.model_selection.KFold(_n_splits=5_,  _*_,  _shuffle=False_,  _random_state=None_)[[source]](https://github.com/scikit-learn/scikit-learn/blob/f3f51f9b6/sklearn/model_selection/_split.py#L365)[](https://scikit-learn.org/1.1/modules/generated/sklearn.model_selection.KFold.html?highlight=kfold#sklearn.model_selection.KFold \"Permalink to this definition\")\n",
    "\n",
    "\n",
    "* get_n_splits([X, y, groups])\n",
    "\n",
    "    Returns the number of splitting iterations in the cross-validator\n",
    "    \n",
    "\n",
    "* split(X, y[, groups])\n",
    "\n",
    "    Generate indices to split data into training and test set."
   ]
  },
  {
   "cell_type": "markdown",
   "id": "4eda11bb",
   "metadata": {},
   "source": [
    "\n",
    "Parameters:\n",
    "\n",
    "**n_splits**int, default=5\n",
    "\n",
    "Number of folds. Must be at least 2.\n",
    "\n",
    "Changed in version 0.22: `n_splits`  default value changed from 3 to 5.\n",
    "\n",
    "**shuffle** bool, default=False\n",
    "\n",
    "Whether to shuffle the data before splitting into batches. Note that the samples within each split will not be shuffled.\n",
    "\n",
    "**random_state**int, RandomState instance or None, default=None\n",
    "\n",
    "When  `shuffle`  is True,  `random_state`  affects the ordering of the indices, which controls the randomness of each fold. Otherwise, this parameter has no effect. Pass an int for reproducible output across multiple function calls. See  [Glossary](https://scikit-learn.org/1.1/glossary.html#term-random_state)."
   ]
  },
  {
   "cell_type": "code",
   "execution_count": 10,
   "id": "7bd30a3e",
   "metadata": {
    "ExecuteTime": {
     "end_time": "2023-01-27T06:24:50.534273Z",
     "start_time": "2023-01-27T06:24:50.523898Z"
    }
   },
   "outputs": [],
   "source": [
    "from sklearn.datasets import load_iris\n",
    "from sklearn.metrics import accuracy_score\n",
    "from sklearn.model_selection import train_test_split,KFold\n",
    "from sklearn.tree import DecisionTreeClassifier\n",
    "import numpy as np\n",
    "import pandas as pd"
   ]
  },
  {
   "cell_type": "code",
   "execution_count": 11,
   "id": "50b75fca",
   "metadata": {
    "ExecuteTime": {
     "end_time": "2023-01-27T06:24:51.994546Z",
     "start_time": "2023-01-27T06:24:51.978581Z"
    }
   },
   "outputs": [],
   "source": [
    "iris = load_iris()\n",
    "features = iris.data\n",
    "label = iris.target\n",
    "# train_test_split\n",
    "x_train,x_test,y_train,y_test = train_test_split(features,label,test_size=0.2,random_state=121)\n",
    "dt_clf = DecisionTreeClassifier(random_state=156)"
   ]
  },
  {
   "cell_type": "code",
   "execution_count": 12,
   "id": "fb616955",
   "metadata": {
    "ExecuteTime": {
     "end_time": "2023-01-27T06:24:53.111379Z",
     "start_time": "2023-01-27T06:24:53.096414Z"
    }
   },
   "outputs": [
    {
     "data": {
      "text/html": [
       "<div>\n",
       "<style scoped>\n",
       "    .dataframe tbody tr th:only-of-type {\n",
       "        vertical-align: middle;\n",
       "    }\n",
       "\n",
       "    .dataframe tbody tr th {\n",
       "        vertical-align: top;\n",
       "    }\n",
       "\n",
       "    .dataframe thead th {\n",
       "        text-align: right;\n",
       "    }\n",
       "</style>\n",
       "<table border=\"1\" class=\"dataframe\">\n",
       "  <thead>\n",
       "    <tr style=\"text-align: right;\">\n",
       "      <th></th>\n",
       "      <th>sepal length (cm)</th>\n",
       "      <th>sepal width (cm)</th>\n",
       "      <th>petal length (cm)</th>\n",
       "      <th>petal width (cm)</th>\n",
       "      <th>label</th>\n",
       "    </tr>\n",
       "  </thead>\n",
       "  <tbody>\n",
       "    <tr>\n",
       "      <th>0</th>\n",
       "      <td>5.1</td>\n",
       "      <td>3.5</td>\n",
       "      <td>1.4</td>\n",
       "      <td>0.2</td>\n",
       "      <td>0</td>\n",
       "    </tr>\n",
       "    <tr>\n",
       "      <th>1</th>\n",
       "      <td>4.9</td>\n",
       "      <td>3.0</td>\n",
       "      <td>1.4</td>\n",
       "      <td>0.2</td>\n",
       "      <td>0</td>\n",
       "    </tr>\n",
       "    <tr>\n",
       "      <th>2</th>\n",
       "      <td>4.7</td>\n",
       "      <td>3.2</td>\n",
       "      <td>1.3</td>\n",
       "      <td>0.2</td>\n",
       "      <td>0</td>\n",
       "    </tr>\n",
       "    <tr>\n",
       "      <th>3</th>\n",
       "      <td>4.6</td>\n",
       "      <td>3.1</td>\n",
       "      <td>1.5</td>\n",
       "      <td>0.2</td>\n",
       "      <td>0</td>\n",
       "    </tr>\n",
       "    <tr>\n",
       "      <th>4</th>\n",
       "      <td>5.0</td>\n",
       "      <td>3.6</td>\n",
       "      <td>1.4</td>\n",
       "      <td>0.2</td>\n",
       "      <td>0</td>\n",
       "    </tr>\n",
       "    <tr>\n",
       "      <th>...</th>\n",
       "      <td>...</td>\n",
       "      <td>...</td>\n",
       "      <td>...</td>\n",
       "      <td>...</td>\n",
       "      <td>...</td>\n",
       "    </tr>\n",
       "    <tr>\n",
       "      <th>145</th>\n",
       "      <td>6.7</td>\n",
       "      <td>3.0</td>\n",
       "      <td>5.2</td>\n",
       "      <td>2.3</td>\n",
       "      <td>2</td>\n",
       "    </tr>\n",
       "    <tr>\n",
       "      <th>146</th>\n",
       "      <td>6.3</td>\n",
       "      <td>2.5</td>\n",
       "      <td>5.0</td>\n",
       "      <td>1.9</td>\n",
       "      <td>2</td>\n",
       "    </tr>\n",
       "    <tr>\n",
       "      <th>147</th>\n",
       "      <td>6.5</td>\n",
       "      <td>3.0</td>\n",
       "      <td>5.2</td>\n",
       "      <td>2.0</td>\n",
       "      <td>2</td>\n",
       "    </tr>\n",
       "    <tr>\n",
       "      <th>148</th>\n",
       "      <td>6.2</td>\n",
       "      <td>3.4</td>\n",
       "      <td>5.4</td>\n",
       "      <td>2.3</td>\n",
       "      <td>2</td>\n",
       "    </tr>\n",
       "    <tr>\n",
       "      <th>149</th>\n",
       "      <td>5.9</td>\n",
       "      <td>3.0</td>\n",
       "      <td>5.1</td>\n",
       "      <td>1.8</td>\n",
       "      <td>2</td>\n",
       "    </tr>\n",
       "  </tbody>\n",
       "</table>\n",
       "<p>150 rows × 5 columns</p>\n",
       "</div>"
      ],
      "text/plain": [
       "     sepal length (cm)  sepal width (cm)  petal length (cm)  petal width (cm)  \\\n",
       "0                  5.1               3.5                1.4               0.2   \n",
       "1                  4.9               3.0                1.4               0.2   \n",
       "2                  4.7               3.2                1.3               0.2   \n",
       "3                  4.6               3.1                1.5               0.2   \n",
       "4                  5.0               3.6                1.4               0.2   \n",
       "..                 ...               ...                ...               ...   \n",
       "145                6.7               3.0                5.2               2.3   \n",
       "146                6.3               2.5                5.0               1.9   \n",
       "147                6.5               3.0                5.2               2.0   \n",
       "148                6.2               3.4                5.4               2.3   \n",
       "149                5.9               3.0                5.1               1.8   \n",
       "\n",
       "     label  \n",
       "0        0  \n",
       "1        0  \n",
       "2        0  \n",
       "3        0  \n",
       "4        0  \n",
       "..     ...  \n",
       "145      2  \n",
       "146      2  \n",
       "147      2  \n",
       "148      2  \n",
       "149      2  \n",
       "\n",
       "[150 rows x 5 columns]"
      ]
     },
     "execution_count": 12,
     "metadata": {},
     "output_type": "execute_result"
    }
   ],
   "source": [
    "iris_df = pd.DataFrame(iris.data,columns=iris.feature_names)\n",
    "iris_df['label'] = iris.target\n",
    "iris_df"
   ]
  },
  {
   "cell_type": "code",
   "execution_count": 13,
   "id": "6179d2d5",
   "metadata": {
    "ExecuteTime": {
     "end_time": "2023-01-27T06:24:55.675090Z",
     "start_time": "2023-01-27T06:24:55.666595Z"
    },
    "scrolled": true
   },
   "outputs": [
    {
     "name": "stdout",
     "output_type": "stream",
     "text": [
      "붓꽃 데이터 세트 크기: (120, 4)\n",
      "(120,)\n"
     ]
    }
   ],
   "source": [
    "# 5개의 폴드 세트로 분리하는 kfold객체와 폴드 세트별 정확도를 담을 리스트 객체 생성.\n",
    "kfold = KFold(n_splits=5)\n",
    "cv_accuracy= []\n",
    "print('붓꽃 데이터 세트 크기:' ,x_train.shape)\n",
    "print(y_train.shape)"
   ]
  },
  {
   "cell_type": "code",
   "execution_count": 14,
   "id": "44c716d8",
   "metadata": {
    "ExecuteTime": {
     "end_time": "2023-01-27T06:24:56.484217Z",
     "start_time": "2023-01-27T06:24:56.461843Z"
    }
   },
   "outputs": [
    {
     "name": "stdout",
     "output_type": "stream",
     "text": [
      "[ 24  25  26  27  28  29  30  31  32  33  34  35  36  37  38  39  40  41\n",
      "  42  43  44  45  46  47  48  49  50  51  52  53  54  55  56  57  58  59\n",
      "  60  61  62  63  64  65  66  67  68  69  70  71  72  73  74  75  76  77\n",
      "  78  79  80  81  82  83  84  85  86  87  88  89  90  91  92  93  94  95\n",
      "  96  97  98  99 100 101 102 103 104 105 106 107 108 109 110 111 112 113\n",
      " 114 115 116 117 118 119] [ 0  1  2  3  4  5  6  7  8  9 10 11 12 13 14 15 16 17 18 19 20 21 22 23]\n",
      "[  0   1   2   3   4   5   6   7   8   9  10  11  12  13  14  15  16  17\n",
      "  18  19  20  21  22  23  48  49  50  51  52  53  54  55  56  57  58  59\n",
      "  60  61  62  63  64  65  66  67  68  69  70  71  72  73  74  75  76  77\n",
      "  78  79  80  81  82  83  84  85  86  87  88  89  90  91  92  93  94  95\n",
      "  96  97  98  99 100 101 102 103 104 105 106 107 108 109 110 111 112 113\n",
      " 114 115 116 117 118 119] [24 25 26 27 28 29 30 31 32 33 34 35 36 37 38 39 40 41 42 43 44 45 46 47]\n",
      "[  0   1   2   3   4   5   6   7   8   9  10  11  12  13  14  15  16  17\n",
      "  18  19  20  21  22  23  24  25  26  27  28  29  30  31  32  33  34  35\n",
      "  36  37  38  39  40  41  42  43  44  45  46  47  72  73  74  75  76  77\n",
      "  78  79  80  81  82  83  84  85  86  87  88  89  90  91  92  93  94  95\n",
      "  96  97  98  99 100 101 102 103 104 105 106 107 108 109 110 111 112 113\n",
      " 114 115 116 117 118 119] [48 49 50 51 52 53 54 55 56 57 58 59 60 61 62 63 64 65 66 67 68 69 70 71]\n",
      "[  0   1   2   3   4   5   6   7   8   9  10  11  12  13  14  15  16  17\n",
      "  18  19  20  21  22  23  24  25  26  27  28  29  30  31  32  33  34  35\n",
      "  36  37  38  39  40  41  42  43  44  45  46  47  48  49  50  51  52  53\n",
      "  54  55  56  57  58  59  60  61  62  63  64  65  66  67  68  69  70  71\n",
      "  96  97  98  99 100 101 102 103 104 105 106 107 108 109 110 111 112 113\n",
      " 114 115 116 117 118 119] [72 73 74 75 76 77 78 79 80 81 82 83 84 85 86 87 88 89 90 91 92 93 94 95]\n",
      "[ 0  1  2  3  4  5  6  7  8  9 10 11 12 13 14 15 16 17 18 19 20 21 22 23\n",
      " 24 25 26 27 28 29 30 31 32 33 34 35 36 37 38 39 40 41 42 43 44 45 46 47\n",
      " 48 49 50 51 52 53 54 55 56 57 58 59 60 61 62 63 64 65 66 67 68 69 70 71\n",
      " 72 73 74 75 76 77 78 79 80 81 82 83 84 85 86 87 88 89 90 91 92 93 94 95] [ 96  97  98  99 100 101 102 103 104 105 106 107 108 109 110 111 112 113\n",
      " 114 115 116 117 118 119]\n"
     ]
    }
   ],
   "source": [
    "kfold.split(x_train)\n",
    "## 기본 kfold는 순서대로 폴드를 만드는 문제\n",
    "for i,j in kfold.split(x_train):\n",
    "    print(i,j)"
   ]
  },
  {
   "cell_type": "code",
   "execution_count": 15,
   "id": "c61e68a7",
   "metadata": {
    "ExecuteTime": {
     "end_time": "2023-01-27T06:24:57.337861Z",
     "start_time": "2023-01-27T06:24:57.313875Z"
    },
    "scrolled": true
   },
   "outputs": [
    {
     "name": "stdout",
     "output_type": "stream",
     "text": [
      "#1 교차 검증 정확도 :0.875 , 학습데이터의 크기: 96,검증데이터의 크기: 24\n",
      "#1 검증 세트 인덱스: [ 0  1  2  3  4  5  6  7  8  9 10 11 12 13 14 15 16 17 18 19 20 21 22 23]\n",
      "#2 교차 검증 정확도 :0.9583 , 학습데이터의 크기: 96,검증데이터의 크기: 24\n",
      "#2 검증 세트 인덱스: [24 25 26 27 28 29 30 31 32 33 34 35 36 37 38 39 40 41 42 43 44 45 46 47]\n",
      "#3 교차 검증 정확도 :1.0 , 학습데이터의 크기: 96,검증데이터의 크기: 24\n",
      "#3 검증 세트 인덱스: [48 49 50 51 52 53 54 55 56 57 58 59 60 61 62 63 64 65 66 67 68 69 70 71]\n",
      "#4 교차 검증 정확도 :0.9583 , 학습데이터의 크기: 96,검증데이터의 크기: 24\n",
      "#4 검증 세트 인덱스: [72 73 74 75 76 77 78 79 80 81 82 83 84 85 86 87 88 89 90 91 92 93 94 95]\n",
      "#5 교차 검증 정확도 :0.9167 , 학습데이터의 크기: 96,검증데이터의 크기: 24\n",
      "#5 검증 세트 인덱스: [ 96  97  98  99 100 101 102 103 104 105 106 107 108 109 110 111 112 113\n",
      " 114 115 116 117 118 119]\n",
      "평균 검증 정확도: 0.9416599999999999\n"
     ]
    }
   ],
   "source": [
    "n_iter=0\n",
    "# KFold객체의 split() 호출하려면 폴드 별 학습용,검증용테스트의 로우 인덱스를 array로 반환\n",
    "for train_index,valid_index in kfold.split(x_train):\n",
    "    # kfold.split() 으로 변환된 인덱스를 이용하여 학습용,검증용 데이터 추출\n",
    "    x_train1, x_valid = x_train[train_index], x_train[valid_index]\n",
    "    y_train1, y_valid = y_train[train_index], y_train[valid_index]\n",
    "    # 학습 및 예측\n",
    "    dt_clf.fit(x_train1,y_train1)\n",
    "    pred = dt_clf.predict(x_valid)\n",
    "    n_iter +=1\n",
    "    # 반복 시 마다 정확도 측정\n",
    "#     accuracy = np.round(np.mean(pred == y_valid),4)와 같다\n",
    "    accuracy = np.round(accuracy_score(y_valid,pred),4)\n",
    "    train_size = x_train1.shape[0]\n",
    "    valid_size = x_valid.shape[0]\n",
    "    print(f'#{n_iter} 교차 검증 정확도 :{accuracy} , 학습데이터의 크기: {train_size},검증데이터의 크기: {valid_size}')\n",
    "    print(f\"#{n_iter} 검증 세트 인덱스: {valid_index}\")\n",
    "    cv_accuracy.append(accuracy)\n",
    "\n",
    "# 개별 iteration별 정확도를 합하여 평균 정확도 계산\n",
    "print(\"평균 검증 정확도:\",np.mean(cv_accuracy))"
   ]
  },
  {
   "cell_type": "markdown",
   "id": "22db8bbf",
   "metadata": {},
   "source": [
    "### sklearn.model_selection.StratifiedKFold\n",
    "* class sklearn.model_selection.StratifiedKFold(n_splits=5, *, shuffle=False, random_state=None)\n",
    "* label을 계층적으로 추출하여 unbalance를 줄여준다\n"
   ]
  },
  {
   "cell_type": "markdown",
   "id": "3e796cf0",
   "metadata": {},
   "source": [
    "* Parameters:\n",
    "    *n_splitsint, default=5\n",
    "        Number of folds. Must be at least 2.\n",
    "\n",
    "     * Changed in version 0.22: n_splits default value changed from 3 to 5.\n",
    "\n",
    "     * shufflebool, default=False\n",
    "        Whether to shuffle each class’s samples before splitting into batches. Note that the samples within each split will not be shuffled.\n",
    "\n",
    "     * random_stateint, RandomState instance or None, default=None\n",
    "        When shuffle is True, random_state affects the ordering of the indices, which controls the randomness of each fold for each class. Otherwise, leave random_state as None. Pass an int for reproducible output across multiple function calls. See Glossary."
   ]
  },
  {
   "cell_type": "code",
   "execution_count": 16,
   "id": "6875a4ed",
   "metadata": {
    "ExecuteTime": {
     "end_time": "2023-01-27T06:25:01.829739Z",
     "start_time": "2023-01-27T06:25:01.812786Z"
    }
   },
   "outputs": [],
   "source": [
    "from sklearn.model_selection import StratifiedKFold"
   ]
  },
  {
   "cell_type": "code",
   "execution_count": 17,
   "id": "a1cc6105",
   "metadata": {
    "ExecuteTime": {
     "end_time": "2023-01-27T06:25:02.772867Z",
     "start_time": "2023-01-27T06:25:02.749928Z"
    }
   },
   "outputs": [
    {
     "name": "stdout",
     "output_type": "stream",
     "text": [
      "교차검증: 1\n",
      "학습 레이블 데이터 분포: \n",
      " 2    34\n",
      "0    33\n",
      "1    33\n",
      "Name: label, dtype: int64\n",
      "검증 레이블 데이터 분포:\n",
      " 0    17\n",
      "1    17\n",
      "2    16\n",
      "Name: label, dtype: int64\n",
      "교차검증: 2\n",
      "학습 레이블 데이터 분포: \n",
      " 1    34\n",
      "0    33\n",
      "2    33\n",
      "Name: label, dtype: int64\n",
      "검증 레이블 데이터 분포:\n",
      " 0    17\n",
      "2    17\n",
      "1    16\n",
      "Name: label, dtype: int64\n",
      "교차검증: 3\n",
      "학습 레이블 데이터 분포: \n",
      " 0    34\n",
      "1    33\n",
      "2    33\n",
      "Name: label, dtype: int64\n",
      "검증 레이블 데이터 분포:\n",
      " 1    17\n",
      "2    17\n",
      "0    16\n",
      "Name: label, dtype: int64\n"
     ]
    }
   ],
   "source": [
    "skf = StratifiedKFold(n_splits=3)\n",
    "n_iter =0\n",
    "\n",
    "for train_index, test_index in skf.split(iris.data,iris.target):\n",
    "    n_iter +=1\n",
    "    label_train = iris_df[\"label\"][train_index]\n",
    "    label_test = iris_df[\"label\"][test_index]\n",
    "    print(f'교차검증: {n_iter}')\n",
    "    print(f'학습 레이블 데이터 분포: \\n {label_train.value_counts()}')\n",
    "    print(f'검증 레이블 데이터 분포:\\n {label_test.value_counts()}')"
   ]
  },
  {
   "cell_type": "code",
   "execution_count": 19,
   "id": "5dbf3483",
   "metadata": {
    "ExecuteTime": {
     "end_time": "2023-01-27T06:25:23.723547Z",
     "start_time": "2023-01-27T06:25:23.703085Z"
    }
   },
   "outputs": [
    {
     "name": "stdout",
     "output_type": "stream",
     "text": [
      "#1 교차 검증 정확도 :0.9667 , 학습데이터의 크기: 120,검증데이터의 크기: 30\n",
      "#1 검증 세트 인덱스: [  0   1   2   3   4   5   6   7   8   9  50  51  52  53  54  55  56  57\n",
      "  58  59 100 101 102 103 104 105 106 107 108 109]\n",
      "#2 교차 검증 정확도 :0.9667 , 학습데이터의 크기: 120,검증데이터의 크기: 30\n",
      "#2 검증 세트 인덱스: [ 10  11  12  13  14  15  16  17  18  19  60  61  62  63  64  65  66  67\n",
      "  68  69 110 111 112 113 114 115 116 117 118 119]\n",
      "#3 교차 검증 정확도 :0.9 , 학습데이터의 크기: 120,검증데이터의 크기: 30\n",
      "#3 검증 세트 인덱스: [ 20  21  22  23  24  25  26  27  28  29  70  71  72  73  74  75  76  77\n",
      "  78  79 120 121 122 123 124 125 126 127 128 129]\n",
      "#4 교차 검증 정확도 :0.9667 , 학습데이터의 크기: 120,검증데이터의 크기: 30\n",
      "#4 검증 세트 인덱스: [ 30  31  32  33  34  35  36  37  38  39  80  81  82  83  84  85  86  87\n",
      "  88  89 130 131 132 133 134 135 136 137 138 139]\n",
      "#5 교차 검증 정확도 :1.0 , 학습데이터의 크기: 120,검증데이터의 크기: 30\n",
      "#5 검증 세트 인덱스: [ 40  41  42  43  44  45  46  47  48  49  90  91  92  93  94  95  96  97\n",
      "  98  99 140 141 142 143 144 145 146 147 148 149]\n",
      "평균 검증 정확도: 0.9600200000000001\n"
     ]
    }
   ],
   "source": [
    "dt_clf = DecisionTreeClassifier(random_state=156)\n",
    "\n",
    "skfold = StratifiedKFold(n_splits=5)\n",
    "n_iter = 0\n",
    "cv_accuracy = []\n",
    "\n",
    "for train_index,valid_index in skfold.split(iris.data,iris.target):\n",
    "    # StratifiedKFold.split() 으로 변환된 인덱스를 이용하여 학습용,검증용 데이터 추출\n",
    "    x_train_1, x_valid_1 = iris.data[train_index], iris.data[valid_index]\n",
    "    y_train_1, y_valid_1 = iris.target[train_index], iris.target[valid_index]\n",
    "    # 학습 및 예측\n",
    "    dt_clf.fit(x_train_1,y_train_1)\n",
    "    pred = dt_clf.predict(x_valid_1)\n",
    "    n_iter +=1\n",
    "    # 반복 시 마다 정확도 측정\n",
    "    accuracy = np.round(accuracy_score(y_valid_1,pred),4)\n",
    "    train_size = x_train_1.shape[0]\n",
    "    valid_size = x_valid_1.shape[0]\n",
    "    print(f'#{n_iter} 교차 검증 정확도 :{accuracy} , 학습데이터의 크기: {train_size},검증데이터의 크기: {valid_size}')\n",
    "    print(f\"#{n_iter} 검증 세트 인덱스: {valid_index}\")\n",
    "    cv_accuracy.append(accuracy)\n",
    "\n",
    "# 개별 iteration별 정확도를 합하여 평균 정확도 계산\n",
    "print(\"평균 검증 정확도:\",np.mean(cv_accuracy))"
   ]
  }
 ],
 "metadata": {
  "kernelspec": {
   "display_name": "Python 3 (ipykernel)",
   "language": "python",
   "name": "python3"
  },
  "language_info": {
   "codemirror_mode": {
    "name": "ipython",
    "version": 3
   },
   "file_extension": ".py",
   "mimetype": "text/x-python",
   "name": "python",
   "nbconvert_exporter": "python",
   "pygments_lexer": "ipython3",
   "version": "3.9.13"
  },
  "toc": {
   "base_numbering": 1,
   "nav_menu": {},
   "number_sections": true,
   "sideBar": true,
   "skip_h1_title": false,
   "title_cell": "Table of Contents",
   "title_sidebar": "Contents",
   "toc_cell": false,
   "toc_position": {},
   "toc_section_display": true,
   "toc_window_display": false
  },
  "varInspector": {
   "cols": {
    "lenName": 16,
    "lenType": 16,
    "lenVar": 40
   },
   "kernels_config": {
    "python": {
     "delete_cmd_postfix": "",
     "delete_cmd_prefix": "del ",
     "library": "var_list.py",
     "varRefreshCmd": "print(var_dic_list())"
    },
    "r": {
     "delete_cmd_postfix": ") ",
     "delete_cmd_prefix": "rm(",
     "library": "var_list.r",
     "varRefreshCmd": "cat(var_dic_list()) "
    }
   },
   "types_to_exclude": [
    "module",
    "function",
    "builtin_function_or_method",
    "instance",
    "_Feature"
   ],
   "window_display": false
  }
 },
 "nbformat": 4,
 "nbformat_minor": 5
}
