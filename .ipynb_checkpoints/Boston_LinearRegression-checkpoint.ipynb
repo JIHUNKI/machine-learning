{
 "cells": [
  {
   "cell_type": "code",
   "execution_count": 55,
   "id": "1209eeb4",
   "metadata": {
    "ExecuteTime": {
     "end_time": "2023-02-03T07:06:49.429592Z",
     "start_time": "2023-02-03T07:06:49.420607Z"
    }
   },
   "outputs": [],
   "source": [
    "import numpy as np\n",
    "import matplotlib.pyplot as plt\n",
    "import pandas as pd\n",
    "import seaborn as sns\n",
    "from scipy import stats\n"
   ]
  },
  {
   "cell_type": "code",
   "execution_count": 56,
   "id": "1924180c",
   "metadata": {
    "ExecuteTime": {
     "end_time": "2023-02-03T07:06:49.849089Z",
     "start_time": "2023-02-03T07:06:49.815183Z"
    }
   },
   "outputs": [
    {
     "data": {
      "text/html": [
       "<div>\n",
       "<style scoped>\n",
       "    .dataframe tbody tr th:only-of-type {\n",
       "        vertical-align: middle;\n",
       "    }\n",
       "\n",
       "    .dataframe tbody tr th {\n",
       "        vertical-align: top;\n",
       "    }\n",
       "\n",
       "    .dataframe thead th {\n",
       "        text-align: right;\n",
       "    }\n",
       "</style>\n",
       "<table border=\"1\" class=\"dataframe\">\n",
       "  <thead>\n",
       "    <tr style=\"text-align: right;\">\n",
       "      <th></th>\n",
       "      <th>crim</th>\n",
       "      <th>zn</th>\n",
       "      <th>indus</th>\n",
       "      <th>chas</th>\n",
       "      <th>nox</th>\n",
       "      <th>rm</th>\n",
       "      <th>age</th>\n",
       "      <th>dis</th>\n",
       "      <th>rad</th>\n",
       "      <th>tax</th>\n",
       "      <th>ptratio</th>\n",
       "      <th>black</th>\n",
       "      <th>lstat</th>\n",
       "      <th>medv</th>\n",
       "    </tr>\n",
       "  </thead>\n",
       "  <tbody>\n",
       "    <tr>\n",
       "      <th>1</th>\n",
       "      <td>0.00632</td>\n",
       "      <td>18.0</td>\n",
       "      <td>2.31</td>\n",
       "      <td>0</td>\n",
       "      <td>0.538</td>\n",
       "      <td>6.575</td>\n",
       "      <td>65.2</td>\n",
       "      <td>4.0900</td>\n",
       "      <td>1</td>\n",
       "      <td>296</td>\n",
       "      <td>15.3</td>\n",
       "      <td>396.90</td>\n",
       "      <td>4.98</td>\n",
       "      <td>24.0</td>\n",
       "    </tr>\n",
       "    <tr>\n",
       "      <th>2</th>\n",
       "      <td>0.02731</td>\n",
       "      <td>0.0</td>\n",
       "      <td>7.07</td>\n",
       "      <td>0</td>\n",
       "      <td>0.469</td>\n",
       "      <td>6.421</td>\n",
       "      <td>78.9</td>\n",
       "      <td>4.9671</td>\n",
       "      <td>2</td>\n",
       "      <td>242</td>\n",
       "      <td>17.8</td>\n",
       "      <td>396.90</td>\n",
       "      <td>9.14</td>\n",
       "      <td>21.6</td>\n",
       "    </tr>\n",
       "    <tr>\n",
       "      <th>3</th>\n",
       "      <td>0.02729</td>\n",
       "      <td>0.0</td>\n",
       "      <td>7.07</td>\n",
       "      <td>0</td>\n",
       "      <td>0.469</td>\n",
       "      <td>7.185</td>\n",
       "      <td>61.1</td>\n",
       "      <td>4.9671</td>\n",
       "      <td>2</td>\n",
       "      <td>242</td>\n",
       "      <td>17.8</td>\n",
       "      <td>392.83</td>\n",
       "      <td>4.03</td>\n",
       "      <td>34.7</td>\n",
       "    </tr>\n",
       "    <tr>\n",
       "      <th>4</th>\n",
       "      <td>0.03237</td>\n",
       "      <td>0.0</td>\n",
       "      <td>2.18</td>\n",
       "      <td>0</td>\n",
       "      <td>0.458</td>\n",
       "      <td>6.998</td>\n",
       "      <td>45.8</td>\n",
       "      <td>6.0622</td>\n",
       "      <td>3</td>\n",
       "      <td>222</td>\n",
       "      <td>18.7</td>\n",
       "      <td>394.63</td>\n",
       "      <td>2.94</td>\n",
       "      <td>33.4</td>\n",
       "    </tr>\n",
       "    <tr>\n",
       "      <th>5</th>\n",
       "      <td>0.06905</td>\n",
       "      <td>0.0</td>\n",
       "      <td>2.18</td>\n",
       "      <td>0</td>\n",
       "      <td>0.458</td>\n",
       "      <td>7.147</td>\n",
       "      <td>54.2</td>\n",
       "      <td>6.0622</td>\n",
       "      <td>3</td>\n",
       "      <td>222</td>\n",
       "      <td>18.7</td>\n",
       "      <td>396.90</td>\n",
       "      <td>5.33</td>\n",
       "      <td>36.2</td>\n",
       "    </tr>\n",
       "  </tbody>\n",
       "</table>\n",
       "</div>"
      ],
      "text/plain": [
       "      crim    zn  indus  chas    nox     rm   age     dis  rad  tax  ptratio  \\\n",
       "1  0.00632  18.0   2.31     0  0.538  6.575  65.2  4.0900    1  296     15.3   \n",
       "2  0.02731   0.0   7.07     0  0.469  6.421  78.9  4.9671    2  242     17.8   \n",
       "3  0.02729   0.0   7.07     0  0.469  7.185  61.1  4.9671    2  242     17.8   \n",
       "4  0.03237   0.0   2.18     0  0.458  6.998  45.8  6.0622    3  222     18.7   \n",
       "5  0.06905   0.0   2.18     0  0.458  7.147  54.2  6.0622    3  222     18.7   \n",
       "\n",
       "    black  lstat  medv  \n",
       "1  396.90   4.98  24.0  \n",
       "2  396.90   9.14  21.6  \n",
       "3  392.83   4.03  34.7  \n",
       "4  394.63   2.94  33.4  \n",
       "5  396.90   5.33  36.2  "
      ]
     },
     "execution_count": 56,
     "metadata": {},
     "output_type": "execute_result"
    }
   ],
   "source": [
    "boston_df = pd.read_csv('./datasets/Boston.csv',index_col=0)\n",
    "boston_df.head()"
   ]
  },
  {
   "cell_type": "code",
   "execution_count": 57,
   "id": "391ae821",
   "metadata": {
    "ExecuteTime": {
     "end_time": "2023-02-03T07:06:50.160040Z",
     "start_time": "2023-02-03T07:06:50.142099Z"
    }
   },
   "outputs": [],
   "source": [
    "## x, y \n",
    "x = boston_df.drop(['medv'],axis=1)\n",
    "y = boston_df['medv']"
   ]
  },
  {
   "cell_type": "code",
   "execution_count": 58,
   "id": "e19cfa03",
   "metadata": {
    "ExecuteTime": {
     "end_time": "2023-02-03T07:06:50.502960Z",
     "start_time": "2023-02-03T07:06:50.487756Z"
    }
   },
   "outputs": [],
   "source": [
    "## train,test,split\n",
    "\n",
    "from sklearn.model_selection import train_test_split\n",
    "\n",
    "x_train,x_test,y_train,y_test = train_test_split(x,y,test_size=0.2,random_state=1)"
   ]
  },
  {
   "cell_type": "code",
   "execution_count": 59,
   "id": "a95986ca",
   "metadata": {
    "ExecuteTime": {
     "end_time": "2023-02-03T07:06:50.889606Z",
     "start_time": "2023-02-03T07:06:50.875688Z"
    }
   },
   "outputs": [],
   "source": [
    "# minmax\n",
    "\n",
    "from sklearn.preprocessing import MinMaxScaler\n",
    "scaler = MinMaxScaler()\n",
    "x_train_scaled = scaler.fit_transform(x_train)\n",
    "x_test_scaled = scaler.fit_transform(x_test)"
   ]
  },
  {
   "cell_type": "code",
   "execution_count": 60,
   "id": "4c98ab52",
   "metadata": {
    "ExecuteTime": {
     "end_time": "2023-02-03T07:06:51.350446Z",
     "start_time": "2023-02-03T07:06:51.329501Z"
    }
   },
   "outputs": [
    {
     "data": {
      "text/plain": [
       "array([[1.51939061e-03, 0.00000000e+00, 2.36436950e-01, ...,\n",
       "        5.63829787e-01, 9.65883302e-01, 1.12582781e-01],\n",
       "       [1.66494548e-03, 2.50000000e-01, 1.71187683e-01, ...,\n",
       "        7.55319149e-01, 9.84315901e-01, 1.41556291e-01],\n",
       "       [1.88889543e-01, 0.00000000e+00, 6.46627566e-01, ...,\n",
       "        8.08510638e-01, 1.00000000e+00, 8.02428256e-01],\n",
       "       ...,\n",
       "       [6.59293909e-02, 0.00000000e+00, 6.46627566e-01, ...,\n",
       "        8.08510638e-01, 1.00000000e+00, 4.86754967e-01],\n",
       "       [3.64314305e-03, 0.00000000e+00, 2.10410557e-01, ...,\n",
       "        5.10638298e-01, 9.49190579e-01, 2.52483444e-01],\n",
       "       [8.29719002e-04, 0.00000000e+00, 2.01612903e-01, ...,\n",
       "        7.02127660e-01, 1.00000000e+00, 1.94260486e-01]])"
      ]
     },
     "execution_count": 60,
     "metadata": {},
     "output_type": "execute_result"
    }
   ],
   "source": [
    "x_train_scaled"
   ]
  },
  {
   "cell_type": "code",
   "execution_count": 61,
   "id": "147f1e1d",
   "metadata": {
    "ExecuteTime": {
     "end_time": "2023-02-03T07:06:51.798350Z",
     "start_time": "2023-02-03T07:06:51.777111Z"
    }
   },
   "outputs": [
    {
     "name": "stdout",
     "output_type": "stream",
     "text": [
      "mse:34.315768534318615 rmse: 5.857966245576925 r2_score : 0.6527706669185396\n"
     ]
    }
   ],
   "source": [
    "## Linear_Regression 학습 예측 평가\n",
    "from sklearn.linear_model import LinearRegression\n",
    "from sklearn.metrics import mean_squared_error,r2_score\n",
    "lr = LinearRegression()\n",
    "lr.fit(x_train_scaled,y_train)\n",
    "y_pred = lr.predict(x_test_scaled)\n",
    "\n",
    "mse = mean_squared_error(y_test,y_pred)\n",
    "rmse = np.sqrt(mse)\n",
    "r2_score = r2_score(y_test,y_pred)\n",
    "print(f'mse:{mse} rmse: {rmse} r2_score : {r2_score}')"
   ]
  },
  {
   "cell_type": "code",
   "execution_count": 62,
   "id": "6c210f00",
   "metadata": {
    "ExecuteTime": {
     "end_time": "2023-02-03T07:06:52.361218Z",
     "start_time": "2023-02-03T07:06:52.337283Z"
    },
    "scrolled": true
   },
   "outputs": [
    {
     "name": "stdout",
     "output_type": "stream",
     "text": [
      "coef \n",
      " crim       -9.999046\n",
      "zn          5.805871\n",
      "indus       0.500843\n",
      "chas        2.129978\n",
      "nox        -9.516415\n",
      "rm         16.155214\n",
      "age         0.432353\n",
      "dis       -16.500587\n",
      "rad         7.023256\n",
      "tax        -5.828498\n",
      "ptratio    -9.296671\n",
      "black       2.903481\n",
      "lstat     -19.737935\n",
      "dtype: float64\n",
      "intercept 29.567403808857208\n"
     ]
    }
   ],
   "source": [
    "coef_df = pd.Series(lr.coef_,index=x_train.columns)\n",
    "print(\"coef \\n\",coef_df)\n",
    "print('intercept',lr.intercept_)"
   ]
  },
  {
   "cell_type": "code",
   "execution_count": 39,
   "id": "f3c8b249",
   "metadata": {
    "ExecuteTime": {
     "end_time": "2023-02-03T06:54:00.192069Z",
     "start_time": "2023-02-03T06:54:00.143197Z"
    }
   },
   "outputs": [
    {
     "name": "stdout",
     "output_type": "stream",
     "text": [
      "mse :[17.37647675 27.19582328 19.64430472 33.01605748 22.23869542] \n",
      " rmse:[4.16851013 5.21496148 4.43218961 5.7459601  4.71579213] \n",
      " avg_rmse: 4.8554826917627265\n"
     ]
    }
   ],
   "source": [
    "### cross_val_score\n",
    "from sklearn.model_selection import cross_val_score\n",
    "\n",
    "cv_score = cross_val_score(lr,x_train_scaled,y_train,scoring='neg_mean_squared_error',cv=5)\n",
    "mse = -cv_score\n",
    "rmse = np.sqrt(mse)\n",
    "avg_rmse = np.mean(rmse)\n",
    "print(f'mse :{mse} \\n rmse:{rmse} \\n avg_rmse: {avg_rmse}')"
   ]
  },
  {
   "cell_type": "code",
   "execution_count": null,
   "id": "b7242c99",
   "metadata": {},
   "outputs": [],
   "source": []
  }
 ],
 "metadata": {
  "kernelspec": {
   "display_name": "Python 3 (ipykernel)",
   "language": "python",
   "name": "python3"
  },
  "language_info": {
   "codemirror_mode": {
    "name": "ipython",
    "version": 3
   },
   "file_extension": ".py",
   "mimetype": "text/x-python",
   "name": "python",
   "nbconvert_exporter": "python",
   "pygments_lexer": "ipython3",
   "version": "3.9.13"
  },
  "toc": {
   "base_numbering": 1,
   "nav_menu": {},
   "number_sections": true,
   "sideBar": true,
   "skip_h1_title": false,
   "title_cell": "Table of Contents",
   "title_sidebar": "Contents",
   "toc_cell": false,
   "toc_position": {},
   "toc_section_display": true,
   "toc_window_display": false
  },
  "varInspector": {
   "cols": {
    "lenName": 16,
    "lenType": 16,
    "lenVar": 40
   },
   "kernels_config": {
    "python": {
     "delete_cmd_postfix": "",
     "delete_cmd_prefix": "del ",
     "library": "var_list.py",
     "varRefreshCmd": "print(var_dic_list())"
    },
    "r": {
     "delete_cmd_postfix": ") ",
     "delete_cmd_prefix": "rm(",
     "library": "var_list.r",
     "varRefreshCmd": "cat(var_dic_list()) "
    }
   },
   "types_to_exclude": [
    "module",
    "function",
    "builtin_function_or_method",
    "instance",
    "_Feature"
   ],
   "window_display": false
  }
 },
 "nbformat": 4,
 "nbformat_minor": 5
}
