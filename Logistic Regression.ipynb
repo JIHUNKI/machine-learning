{
 "cells": [
  {
   "cell_type": "markdown",
   "id": "d2f13e76",
   "metadata": {},
   "source": [
    "###  sklearn.linear_model.LogisticRegression\n",
    "\n",
    "* class sklearn.linear_model.LogisticRegression(penalty='l2', *, dual=False, tol=0.0001, C=1.0, fit_intercept=True, intercept_scaling=1, class_weight=None, random_state=None, solver='lbfgs', max_iter=100, multi_class='auto', verbose=0, warm_start=False, n_jobs=None, l1_ratio=None)\n",
    "\n",
    "Parameters:\n",
    "\n",
    "**penalty**{‘l1’, ‘l2’, ‘elasticnet’, None}, default=’l2’\n",
    "\n",
    "Specify the norm of the penalty:\n",
    "\n",
    "-   `None`: no penalty is added;\n",
    "    \n",
    "-   `'l2'`: add a L2 penalty term and it is the default choice;\n",
    "    \n",
    "-   `'l1'`: add a L1 penalty term;\n",
    "    \n",
    "-   `'elasticnet'`: both L1 and L2 penalty terms are added.\n",
    "    \n",
    "\n",
    "Warning\n",
    "\n",
    "Some penalties may not work with some solvers. See the parameter  `solver`  below, to know the compatibility between the penalty and solver.\n",
    "\n",
    "New in version 0.19: l1 penalty with SAGA solver (allowing ‘multinomial’ + L1)\n",
    "\n",
    "Deprecated since version 1.2: The ‘none’ option was deprecated in version 1.2, and will be removed in 1.4. Use  `None`  instead.\n",
    "\n",
    "**dual**bool, default=False\n",
    "\n",
    "Dual or primal formulation. Dual formulation is only implemented for l2 penalty with liblinear solver. Prefer dual=False when n_samples > n_features.\n",
    "\n",
    "**tol**float, default=1e-4\n",
    "\n",
    "Tolerance for stopping criteria.\n",
    "\n",
    "**C**float, default=1.0\n",
    "\n",
    "Inverse of regularization strength; must be a positive float. Like in support vector machines, smaller values specify stronger regularization.\n",
    "\n",
    "**fit_intercept**bool, default=True\n",
    "\n",
    "Specifies if a constant (a.k.a. bias or intercept) should be added to the decision function.\n",
    "\n",
    "**intercept_scaling**float, default=1\n",
    "\n",
    "Useful only when the solver ‘liblinear’ is used and self.fit_intercept is set to True. In this case, x becomes [x, self.intercept_scaling], i.e. a “synthetic” feature with constant value equal to intercept_scaling is appended to the instance vector. The intercept becomes  `intercept_scaling  *  synthetic_feature_weight`.\n",
    "\n",
    "Note! the synthetic feature weight is subject to l1/l2 regularization as all other features. To lessen the effect of regularization on synthetic feature weight (and therefore on the intercept) intercept_scaling has to be increased.\n",
    "\n",
    "**class_weight**dict or ‘balanced’, default=None\n",
    "\n",
    "Weights associated with classes in the form  `{class_label:  weight}`. If not given, all classes are supposed to have weight one.\n",
    "\n",
    "The “balanced” mode uses the values of y to automatically adjust weights inversely proportional to class frequencies in the input data as  `n_samples  /  (n_classes  *  np.bincount(y))`.\n",
    "\n",
    "Note that these weights will be multiplied with sample_weight (passed through the fit method) if sample_weight is specified.\n",
    "\n",
    "New in version 0.17: _class_weight=’balanced’_\n",
    "\n",
    "**random_state**int, RandomState instance, default=None\n",
    "\n",
    "Used when  `solver`  == ‘sag’, ‘saga’ or ‘liblinear’ to shuffle the data. See  [Glossary](https://scikit-learn.org/stable/glossary.html#term-random_state)  for details.\n",
    "\n",
    "**solver**{‘lbfgs’, ‘liblinear’, ‘newton-cg’, ‘newton-cholesky’, ‘sag’, ‘saga’}, default=’lbfgs’\n",
    "\n",
    "Algorithm to use in the optimization problem. Default is ‘lbfgs’. To choose a solver, you might want to consider the following aspects:"
   ]
  },
  {
   "cell_type": "code",
   "execution_count": 28,
   "id": "a038d7a8",
   "metadata": {
    "ExecuteTime": {
     "end_time": "2023-02-09T04:19:16.445767Z",
     "start_time": "2023-02-09T04:19:16.425467Z"
    }
   },
   "outputs": [],
   "source": [
    "import pandas as pd\n",
    "import matplotlib.pyplot as plt\n",
    "from sklearn.datasets import load_breast_cancer\n",
    "from sklearn.linear_model import LogisticRegression\n",
    "\n",
    "# 위스콘신 유방암 데이터 불러오기\n",
    "cancer = load_breast_cancer()"
   ]
  },
  {
   "cell_type": "code",
   "execution_count": 29,
   "id": "e1cf5890",
   "metadata": {
    "ExecuteTime": {
     "end_time": "2023-02-09T04:19:17.097343Z",
     "start_time": "2023-02-09T04:19:17.081338Z"
    }
   },
   "outputs": [],
   "source": [
    "from sklearn.preprocessing import StandardScaler\n",
    "from sklearn.model_selection import train_test_split\n",
    "\n",
    "# StandardScaler () 로 평균이 0 분산이 1로 데이터 분포 변환\n",
    "scaler = StandardScaler()\n",
    "data_scaled = scaler.fit_transform(cancer.data)\n",
    "\n",
    "x_train,x_test,y_train,y_test = train_test_split(data_scaled,cancer.target,test_size=0.3,random_state=0)\n"
   ]
  },
  {
   "cell_type": "code",
   "execution_count": 30,
   "id": "51c56cf3",
   "metadata": {
    "ExecuteTime": {
     "end_time": "2023-02-09T04:19:18.016785Z",
     "start_time": "2023-02-09T04:19:17.982876Z"
    }
   },
   "outputs": [
    {
     "name": "stdout",
     "output_type": "stream",
     "text": [
      "accuracy: 0.9766081871345029\n",
      "roc_aur : 0.9947089947089947\n"
     ]
    }
   ],
   "source": [
    "from sklearn.metrics import accuracy_score, roc_auc_score\n",
    "\n",
    "# 로지스틱 회귀를 이용하여 학습 및 예측 수행\n",
    "lr_clf = LogisticRegression(intercept_scaling=True)\n",
    "\n",
    "lr_clf.fit(x_train,y_train)\n",
    "\n",
    "lr_pred = lr_clf.predict(x_test)\n",
    "lr_pred_proba = lr_clf.predict_proba(x_test)[:,1].reshape(-1,1)\n",
    "\n",
    "# accuracy와 roc_auc 측정\n",
    "print(f'accuracy: {accuracy_score(y_test,lr_pred)}')\n",
    "print(f'roc_aur : {roc_auc_score(y_test,lr_pred_proba)}')"
   ]
  },
  {
   "cell_type": "code",
   "execution_count": 31,
   "id": "2b7f535d",
   "metadata": {
    "ExecuteTime": {
     "end_time": "2023-02-09T04:19:20.975578Z",
     "start_time": "2023-02-09T04:19:20.801046Z"
    }
   },
   "outputs": [
    {
     "name": "stdout",
     "output_type": "stream",
     "text": [
      "최적의 하이퍼파라미터{'C': 1, 'penalty': 'l2'},최적의 평균 정확도:0.982437153489785\n"
     ]
    },
    {
     "name": "stderr",
     "output_type": "stream",
     "text": [
      "C:\\Users\\msi\\anaconda3\\lib\\site-packages\\sklearn\\model_selection\\_validation.py:378: FitFailedWarning: \n",
      "15 fits failed out of a total of 30.\n",
      "The score on these train-test partitions for these parameters will be set to nan.\n",
      "If these failures are not expected, you can try to debug them by setting error_score='raise'.\n",
      "\n",
      "Below are more details about the failures:\n",
      "--------------------------------------------------------------------------------\n",
      "15 fits failed with the following error:\n",
      "Traceback (most recent call last):\n",
      "  File \"C:\\Users\\msi\\anaconda3\\lib\\site-packages\\sklearn\\model_selection\\_validation.py\", line 686, in _fit_and_score\n",
      "    estimator.fit(X_train, y_train, **fit_params)\n",
      "  File \"C:\\Users\\msi\\anaconda3\\lib\\site-packages\\sklearn\\linear_model\\_logistic.py\", line 1162, in fit\n",
      "    solver = _check_solver(self.solver, self.penalty, self.dual)\n",
      "  File \"C:\\Users\\msi\\anaconda3\\lib\\site-packages\\sklearn\\linear_model\\_logistic.py\", line 54, in _check_solver\n",
      "    raise ValueError(\n",
      "ValueError: Solver lbfgs supports only 'l2' or 'none' penalties, got l1 penalty.\n",
      "\n",
      "  warnings.warn(some_fits_failed_message, FitFailedWarning)\n",
      "C:\\Users\\msi\\anaconda3\\lib\\site-packages\\sklearn\\model_selection\\_search.py:952: UserWarning: One or more of the test scores are non-finite: [0.94977975        nan 0.9723931         nan 0.98243715        nan\n",
      " 0.97491836        nan 0.97241209        nan]\n",
      "  warnings.warn(\n"
     ]
    }
   ],
   "source": [
    "from sklearn.model_selection import GridSearchCV\n",
    "\n",
    "params = {'penalty' : ['l2','l1'],\n",
    "         'C' : [0.01, 0.1, 1, 5, 10]}\n",
    "\n",
    "grid_clf = GridSearchCV(lr_clf,param_grid=params,cv=3,scoring='accuracy',verbose=False)\n",
    "grid_clf.fit(x_train,y_train)\n",
    "print(f'최적의 하이퍼파라미터{grid_clf.best_params_},최적의 평균 정확도:{grid_clf.best_score_}')"
   ]
  },
  {
   "cell_type": "code",
   "execution_count": null,
   "id": "da37cd10",
   "metadata": {},
   "outputs": [],
   "source": []
  }
 ],
 "metadata": {
  "kernelspec": {
   "display_name": "Python 3 (ipykernel)",
   "language": "python",
   "name": "python3"
  },
  "language_info": {
   "codemirror_mode": {
    "name": "ipython",
    "version": 3
   },
   "file_extension": ".py",
   "mimetype": "text/x-python",
   "name": "python",
   "nbconvert_exporter": "python",
   "pygments_lexer": "ipython3",
   "version": "3.9.13"
  },
  "toc": {
   "base_numbering": 1,
   "nav_menu": {},
   "number_sections": true,
   "sideBar": true,
   "skip_h1_title": false,
   "title_cell": "Table of Contents",
   "title_sidebar": "Contents",
   "toc_cell": false,
   "toc_position": {},
   "toc_section_display": true,
   "toc_window_display": false
  },
  "varInspector": {
   "cols": {
    "lenName": 16,
    "lenType": 16,
    "lenVar": 40
   },
   "kernels_config": {
    "python": {
     "delete_cmd_postfix": "",
     "delete_cmd_prefix": "del ",
     "library": "var_list.py",
     "varRefreshCmd": "print(var_dic_list())"
    },
    "r": {
     "delete_cmd_postfix": ") ",
     "delete_cmd_prefix": "rm(",
     "library": "var_list.r",
     "varRefreshCmd": "cat(var_dic_list()) "
    }
   },
   "types_to_exclude": [
    "module",
    "function",
    "builtin_function_or_method",
    "instance",
    "_Feature"
   ],
   "window_display": false
  }
 },
 "nbformat": 4,
 "nbformat_minor": 5
}
