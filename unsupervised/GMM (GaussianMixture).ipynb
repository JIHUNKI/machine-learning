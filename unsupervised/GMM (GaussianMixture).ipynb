{
 "cells": [
  {
   "cell_type": "markdown",
   "id": "6146c633",
   "metadata": {},
   "source": [
    "# [`sklearn.mixture`](https://scikit-learn.org/stable/modules/classes.html#module-sklearn.mixture \"sklearn.mixture\").GaussianMixture[¶](https://scikit-learn.org/stable/modules/generated/sklearn.mixture.GaussianMixture.html#sklearn-mixture-gaussianmixture \"Permalink to this heading\")\n",
    "\n",
    "_class_ sklearn.mixture.GaussianMixture(_n_components=1_,  _*_,  _covariance_type='full'_,  _tol=0.001_,  _reg_covar=1e-06_,  _max_iter=100_,  _n_init=1_,  _init_params='kmeans'_,  _weights_init=None_,  _means_init=None_,  _precisions_init=None_,  _random_state=None_,  _warm_start=False_,  _verbose=0_,  _verbose_interval=10_)[[source]](https://github.com/scikit-learn/scikit-learn/blob/8c9c1f27b/sklearn/mixture/_gaussian_mixture.py#L457)[](https://scikit-learn.org/stable/modules/generated/sklearn.mixture.GaussianMixture.html#sklearn.mixture.GaussianMixture \"Permalink to this definition\")\n",
    "\n",
    "Parameters:\n",
    "\n",
    "**n_components**int, default=1\n",
    "\n",
    "The number of mixture components.\n",
    "\n",
    "**covariance_type**{‘full’, ‘tied’, ‘diag’, ‘spherical’}, default=’full’\n",
    "\n",
    "String describing the type of covariance parameters to use. Must be one of:\n",
    "\n",
    "-   ‘full’: each component has its own general covariance matrix.\n",
    "    \n",
    "-   ‘tied’: all components share the same general covariance matrix.\n",
    "    \n",
    "-   ‘diag’: each component has its own diagonal covariance matrix.\n",
    "    \n",
    "-   ‘spherical’: each component has its own single variance.\n",
    "    \n",
    "\n",
    "**tol**float, default=1e-3\n",
    "\n",
    "The convergence threshold. EM iterations will stop when the lower bound average gain is below this threshold.\n",
    "\n",
    "**reg_covar**float, default=1e-6\n",
    "\n",
    "Non-negative regularization added to the diagonal of covariance. Allows to assure that the covariance matrices are all positive.\n",
    "\n",
    "**max_iter**int, default=100\n",
    "\n",
    "The number of EM iterations to perform.\n",
    "\n",
    "**n_init**int, default=1\n",
    "\n",
    "The number of initializations to perform. The best results are kept.\n",
    "\n",
    "**init_params**{‘kmeans’, ‘k-means++’, ‘random’, ‘random_from_data’}, default=’kmeans’\n",
    "\n",
    "The method used to initialize the weights, the means and the precisions. String must be one of:\n",
    "\n",
    "-   ‘kmeans’ : responsibilities are initialized using kmeans.\n",
    "    \n",
    "-   ‘k-means++’ : use the k-means++ method to initialize.\n",
    "    \n",
    "-   ‘random’ : responsibilities are initialized randomly.\n",
    "    \n",
    "-   ‘random_from_data’ : initial means are randomly selected data points.\n",
    "    \n",
    "\n",
    "Changed in version v1.1: `init_params`  now accepts ‘random_from_data’ and ‘k-means++’ as initialization methods.\n",
    "\n",
    "**weights_init**array-like of shape (n_components, ), default=None\n",
    "\n",
    "The user-provided initial weights. If it is None, weights are initialized using the  `init_params`  method.\n",
    "\n",
    "**means_init**array-like of shape (n_components, n_features), default=None\n",
    "\n",
    "The user-provided initial means, If it is None, means are initialized using the  `init_params`  method.\n",
    "\n",
    "**precisions_init**array-like, default=None\n",
    "\n",
    "The user-provided initial precisions (inverse of the covariance matrices). If it is None, precisions are initialized using the ‘init_params’ method. The shape depends on ‘covariance_type’:\n",
    "\n",
    "(n_components,)                        if 'spherical',\n",
    "(n_features, n_features)               if 'tied',\n",
    "(n_components, n_features)             if 'diag',\n",
    "(n_components, n_features, n_features) if 'full'\n",
    "\n",
    "**random_state**int, RandomState instance or None, default=None\n",
    "\n",
    "Controls the random seed given to the method chosen to initialize the parameters (see  `init_params`). In addition, it controls the generation of random samples from the fitted distribution (see the method  `sample`). Pass an int for reproducible output across multiple function calls. See  [Glossary](https://scikit-learn.org/stable/glossary.html#term-random_state).\n",
    "\n",
    "**warm_start**bool, default=False\n",
    "\n",
    "If ‘warm_start’ is True, the solution of the last fitting is used as initialization for the next call of fit(). This can speed up convergence when fit is called several times on similar problems. In that case, ‘n_init’ is ignored and only a single initialization occurs upon the first call. See  [the Glossary](https://scikit-learn.org/stable/glossary.html#term-warm_start).\n",
    "\n",
    "**verbose**int, default=0\n",
    "\n",
    "Enable verbose output. If 1 then it prints the current initialization and each iteration step. If greater than 1 then it prints also the log probability and the time needed for each step."
   ]
  },
  {
   "cell_type": "code",
   "execution_count": 3,
   "id": "2e867fff",
   "metadata": {
    "ExecuteTime": {
     "end_time": "2023-02-15T01:51:06.092898Z",
     "start_time": "2023-02-15T01:51:06.073952Z"
    }
   },
   "outputs": [],
   "source": [
    "from sklearn.datasets import load_iris\n",
    "\n",
    "import matplotlib.pyplot as plt\n",
    "import numpy as np\n",
    "import pandas as pd\n",
    "\n",
    "iris = load_iris()\n",
    "feature_names = ['sepal_length','sepal_width','patal_length','petal_width']\n",
    "\n",
    "iris_df = pd.DataFrame(iris.data,columns=feature_names)\n",
    "iris_df['target'] = iris.target"
   ]
  },
  {
   "cell_type": "code",
   "execution_count": 4,
   "id": "09964a1c",
   "metadata": {
    "ExecuteTime": {
     "end_time": "2023-02-15T01:51:06.638650Z",
     "start_time": "2023-02-15T01:51:06.546900Z"
    }
   },
   "outputs": [
    {
     "name": "stdout",
     "output_type": "stream",
     "text": [
      "gmm_cluster   0   1   2\n",
      "target                 \n",
      "0            50   0   0\n",
      "1             0   5  45\n",
      "2             0  50   0\n"
     ]
    },
    {
     "name": "stderr",
     "output_type": "stream",
     "text": [
      "C:\\Users\\msi\\anaconda3\\lib\\site-packages\\sklearn\\cluster\\_kmeans.py:1382: UserWarning: KMeans is known to have a memory leak on Windows with MKL, when there are less chunks than available threads. You can avoid it by setting the environment variable OMP_NUM_THREADS=1.\n",
      "  warnings.warn(\n"
     ]
    }
   ],
   "source": [
    "from sklearn.mixture import GaussianMixture\n",
    "\n",
    "gmm = GaussianMixture(n_components=3,random_state=0)\n",
    "gmm.fit(iris.data)\n",
    "gmm_cluster_labels = gmm.predict(iris.data)\n",
    "\n",
    "iris_df['gmm_cluster'] = gmm_cluster_labels\n",
    "\n",
    "iris_result = pd.crosstab(iris_df['target'],iris_df['gmm_cluster'])\n",
    "print(iris_result)"
   ]
  },
  {
   "cell_type": "code",
   "execution_count": 20,
   "id": "65b4806d",
   "metadata": {
    "ExecuteTime": {
     "end_time": "2023-02-15T02:07:41.223105Z",
     "start_time": "2023-02-15T02:07:41.206151Z"
    }
   },
   "outputs": [],
   "source": [
    "# 클러스터 결과를 시각화\n",
    "\n",
    "def visualize_cluster_plot(clusterobj,dataframe,label_name,iscenter=True):\n",
    "    if iscenter :\n",
    "        centers = clusterobj.cluster_centers_\n",
    "        \n",
    "    unique_labels = np.unique(dataframe[label_name].values)\n",
    "    markers = ['o','s','^','x','*']\n",
    "    iscenter =False\n",
    "    \n",
    "    for label in unique_labels:\n",
    "        label_cluster = dataframe[dataframe[label_name]==label]\n",
    "        if label == -1:\n",
    "            cluster_lagend = 'Noise'\n",
    "            isNoise=True\n",
    "        else :\n",
    "            cluster_lagend = 'Cluster'+str(label)\n",
    "\n",
    "        # 군집별로 다른 마커로 산점도 적용\n",
    "        plt.scatter(x=label_cluster['ftr1'],y=label_cluster['ftr2'],marker=markers[label],label=cluster_lagend)\n",
    "\n",
    "        # 군집별 중심 표현\n",
    "        if iscenter:\n",
    "            center_x_y = centers[label]\n",
    "            plt.scatter(x=center_x_y[0],y=center_x_y[1],s=200,color='gray',alpha=0.9,marker=markers[label])\n",
    "            plt.scatter(x=center_x_y[0],y=center_x_y[1],s=70,color='gray',edgecolors='k',marker='$%d$' % label)\n",
    "    \n",
    "    plt.show()"
   ]
  },
  {
   "cell_type": "code",
   "execution_count": 21,
   "id": "b47c7f70",
   "metadata": {
    "ExecuteTime": {
     "end_time": "2023-02-15T02:07:41.670042Z",
     "start_time": "2023-02-15T02:07:41.546634Z"
    }
   },
   "outputs": [
    {
     "data": {
      "image/png": "[encoded data removed]",
      "text/plain": [
       "<Figure size 640x480 with 1 Axes>"
      ]
     },
     "metadata": {},
     "output_type": "display_data"
    }
   ],
   "source": [
    "from sklearn.datasets import make_blobs\n",
    "\n",
    "x ,y = make_blobs(n_features=2,n_samples=300,centers=3,cluster_std=0.5,random_state=0)\n",
    "\n",
    "transformation = [[0.6083,-0.63366],[-0.4088,0.8525]]\n",
    "x_aniso = np.dot(x,transformation)\n",
    "\n",
    "cluster_df = pd.DataFrame(x_aniso,columns=['ftr1','ftr2'])\n",
    "cluster_df['target'] = y\n",
    "\n",
    "visualize_cluster_plot(None,cluster_df,'target',iscenter=False)"
   ]
  },
  {
   "cell_type": "code",
   "execution_count": 23,
   "id": "233064ac",
   "metadata": {
    "ExecuteTime": {
     "end_time": "2023-02-15T02:11:00.283657Z",
     "start_time": "2023-02-15T02:11:00.092103Z"
    }
   },
   "outputs": [
    {
     "name": "stderr",
     "output_type": "stream",
     "text": [
      "C:\\Users\\msi\\anaconda3\\lib\\site-packages\\sklearn\\cluster\\_kmeans.py:1382: UserWarning: KMeans is known to have a memory leak on Windows with MKL, when there are less chunks than available threads. You can avoid it by setting the environment variable OMP_NUM_THREADS=2.\n",
      "  warnings.warn(\n"
     ]
    },
    {
     "data": {
      "image/png": "[encoded data removed]",
      "text/plain": [
       "<Figure size 640x480 with 1 Axes>"
      ]
     },
     "metadata": {},
     "output_type": "display_data"
    }
   ],
   "source": [
    "gmm = GaussianMixture(n_components=3,random_state=0)\n",
    "gmm_label = gmm.fit(x_aniso).predict(x_aniso)\n",
    "cluster_df['gmm_label'] =gmm_label\n",
    "visualize_cluster_plot(gmm,cluster_df,'gmm_label',iscenter=False)"
   ]
  },
  {
   "cell_type": "code",
   "execution_count": null,
   "id": "04326f10",
   "metadata": {},
   "outputs": [],
   "source": []
  }
 ],
 "metadata": {
  "kernelspec": {
   "display_name": "Python 3 (ipykernel)",
   "language": "python",
   "name": "python3"
  },
  "language_info": {
   "codemirror_mode": {
    "name": "ipython",
    "version": 3
   },
   "file_extension": ".py",
   "mimetype": "text/x-python",
   "name": "python",
   "nbconvert_exporter": "python",
   "pygments_lexer": "ipython3",
   "version": "3.9.13"
  },
  "toc": {
   "base_numbering": 1,
   "nav_menu": {},
   "number_sections": true,
   "sideBar": true,
   "skip_h1_title": false,
   "title_cell": "Table of Contents",
   "title_sidebar": "Contents",
   "toc_cell": false,
   "toc_position": {},
   "toc_section_display": true,
   "toc_window_display": false
  },
  "varInspector": {
   "cols": {
    "lenName": 16,
    "lenType": 16,
    "lenVar": 40
   },
   "kernels_config": {
    "python": {
     "delete_cmd_postfix": "",
     "delete_cmd_prefix": "del ",
     "library": "var_list.py",
     "varRefreshCmd": "print(var_dic_list())"
    },
    "r": {
     "delete_cmd_postfix": ") ",
     "delete_cmd_prefix": "rm(",
     "library": "var_list.r",
     "varRefreshCmd": "cat(var_dic_list()) "
    }
   },
   "types_to_exclude": [
    "module",
    "function",
    "builtin_function_or_method",
    "instance",
    "_Feature"
   ],
   "window_display": false
  }
 },
 "nbformat": 4,
 "nbformat_minor": 5
}
