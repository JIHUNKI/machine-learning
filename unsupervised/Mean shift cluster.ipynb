{
 "cells": [
  {
   "cell_type": "markdown",
   "id": "834368f6",
   "metadata": {},
   "source": [
    "# [`sklearn.cluster`](https://scikit-learn.org/stable/modules/classes.html#module-sklearn.cluster \"sklearn.cluster\").MeanShift[¶](https://scikit-learn.org/stable/modules/generated/sklearn.cluster.MeanShift.html#sklearn-cluster-meanshift \"Permalink to this heading\")\n",
    "\n",
    "_class_ sklearn.cluster.MeanShift(_*_,  _bandwidth=None_,  _seeds=None_,  _bin_seeding=False_,  _min_bin_freq=1_,  _cluster_all=True_,  _n_jobs=None_,  _max_iter=300_)[[source]](https://github.com/scikit-learn/scikit-learn/blob/8c9c1f27b/sklearn/cluster/_mean_shift.py#L263)[](https://scikit-learn.org/stable/modules/generated/sklearn.cluster.MeanShift.html#sklearn.cluster.MeanShift \"Permalink to this definition\")\n",
    "\n",
    "Parameters:\n",
    "\n",
    "**bandwidth**float, default=None\n",
    "\n",
    "Bandwidth used in the RBF kernel.\n",
    "\n",
    "If not given, the bandwidth is estimated using sklearn.cluster.estimate_bandwidth; see the documentation for that function for hints on scalability (see also the Notes, below).\n",
    "\n",
    "**seeds**array-like of shape (n_samples, n_features), default=None\n",
    "\n",
    "Seeds used to initialize kernels. If not set, the seeds are calculated by clustering.get_bin_seeds with bandwidth as the grid size and default values for other parameters.\n",
    "\n",
    "**bin_seeding** bool, default=False\n",
    "\n",
    "If true, initial kernel locations are not locations of all points, but rather the location of the discretized version of points, where points are binned onto a grid whose coarseness corresponds to the bandwidth. Setting this option to True will speed up the algorithm because fewer seeds will be initialized. The default value is False. Ignored if seeds argument is not None.\n",
    "\n",
    "**min_bin_freq**int, default=1\n",
    "\n",
    "To speed up the algorithm, accept only those bins with at least min_bin_freq points as seeds.\n",
    "\n",
    "**cluster_all**bool, default=True\n",
    "\n",
    "If true, then all points are clustered, even those orphans that are not within any kernel. Orphans are assigned to the nearest kernel. If false, then orphans are given cluster label -1.\n",
    "\n",
    "**n_jobs**int, default=None\n",
    "\n",
    "The number of jobs to use for the computation. The following tasks benefit from the parallelization:"
   ]
  },
  {
   "cell_type": "code",
   "execution_count": 1,
   "id": "1d82ae1b",
   "metadata": {
    "ExecuteTime": {
     "end_time": "2023-02-15T01:05:27.944222Z",
     "start_time": "2023-02-15T01:05:27.023778Z"
    }
   },
   "outputs": [
    {
     "name": "stdout",
     "output_type": "stream",
     "text": [
      "cluster labels 유형 [0 1 2]\n"
     ]
    }
   ],
   "source": [
    "import numpy as np\n",
    "from sklearn.datasets import make_blobs\n",
    "from sklearn.cluster import MeanShift\n",
    "\n",
    "x,y = make_blobs(n_features=2,n_samples=200,centers=3,\n",
    "                cluster_std=0.7,random_state=0)\n",
    "\n",
    "meanshift = MeanShift(bandwidth=1)\n",
    "cluster_labels = meanshift.fit_predict(x)\n",
    "print('cluster labels 유형',np.unique(cluster_labels))"
   ]
  },
  {
   "cell_type": "markdown",
   "id": "e4205632",
   "metadata": {},
   "source": [
    "\n",
    "# [`sklearn.cluster`](https://scikit-learn.org/stable/modules/classes.html#module-sklearn.cluster \"sklearn.cluster\").estimate_bandwidth[¶](https://scikit-learn.org/stable/modules/generated/sklearn.cluster.estimate_bandwidth.html#sklearn-cluster-estimate-bandwidth \"Permalink to this heading\")\n",
    "\n",
    "sklearn.cluster.estimate_bandwidth(_X_,  _*_,  _quantile=0.3_,  _n_samples=None_,  _random_state=0_,  _n_jobs=None_)[[source]](https://github.com/scikit-learn/scikit-learn/blob/8c9c1f27b/sklearn/cluster/_mean_shift.py#L32)[](https://scikit-learn.org/stable/modules/generated/sklearn.cluster.estimate_bandwidth.html#sklearn.cluster.estimate_bandwidth \"Permalink to this definition\")\n",
    "\n",
    "Parameters:\n",
    "\n",
    "**X**array-like of shape (n_samples, n_features)\n",
    "\n",
    "Input points.\n",
    "\n",
    "**quantile**float, default=0.3\n",
    "\n",
    "Should be between [0, 1] 0.5 means that the median of all pairwise distances is used.\n",
    "\n",
    "**n_samples**int, default=None\n",
    "\n",
    "The number of samples to use. If not given, all samples are used.\n",
    "\n",
    "**random_state**int, RandomState instance, default=None\n",
    "\n",
    "The generator used to randomly select the samples from input points for bandwidth estimation. Use an int to make the randomness deterministic. See  [Glossary](https://scikit-learn.org/stable/glossary.html#term-random_state)."
   ]
  },
  {
   "cell_type": "code",
   "execution_count": 2,
   "id": "1b4297dc",
   "metadata": {
    "ExecuteTime": {
     "end_time": "2023-02-15T01:06:47.519418Z",
     "start_time": "2023-02-15T01:06:47.496483Z"
    }
   },
   "outputs": [
    {
     "name": "stdout",
     "output_type": "stream",
     "text": [
      "bandwidth 값  1.816\n"
     ]
    }
   ],
   "source": [
    "## 최적의 bandwidth 값을 찾기위한 라이브러리\n",
    "from sklearn.cluster import estimate_bandwidth\n",
    "\n",
    "bandwidth = estimate_bandwidth(x)\n",
    "print('bandwidth 값 ', round(bandwidth,3))"
   ]
  },
  {
   "cell_type": "code",
   "execution_count": 4,
   "id": "ce9674e5",
   "metadata": {
    "ExecuteTime": {
     "end_time": "2023-02-15T01:09:39.543763Z",
     "start_time": "2023-02-15T01:09:38.269770Z"
    }
   },
   "outputs": [
    {
     "name": "stdout",
     "output_type": "stream",
     "text": [
      "cluster labels 유형 [0 1 2]\n"
     ]
    }
   ],
   "source": [
    "import pandas as pd\n",
    "\n",
    "cluster_df = pd.DataFrame(x,columns=['ftr1','ftr2'])\n",
    "cluster_df['target'] = y\n",
    "\n",
    "# 최적의 bandwidth 값 계산\n",
    "best_bandwidth = estimate_bandwidth(x)\n",
    "\n",
    "meanshift = MeanShift(bandwidth=best_bandwidth)\n",
    "cluster_labels = meanshift.fit_predict(x)\n",
    "print('cluster labels 유형',np.unique(cluster_labels))"
   ]
  },
  {
   "cell_type": "code",
   "execution_count": 6,
   "id": "5cd17d09",
   "metadata": {
    "ExecuteTime": {
     "end_time": "2023-02-15T01:15:54.729836Z",
     "start_time": "2023-02-15T01:15:54.223773Z"
    }
   },
   "outputs": [
    {
     "data": {
      "image/png": "[encoded data removed]",
      "text/plain": [
       "<Figure size 640x480 with 1 Axes>"
      ]
     },
     "metadata": {},
     "output_type": "display_data"
    }
   ],
   "source": [
    "import matplotlib.pyplot as plt\n",
    "\n",
    "cluster_df['meanshift_label'] = cluster_labels\n",
    "centers = meanshift.cluster_centers_\n",
    "unique_labels = np.unique(cluster_labels)\n",
    "markers = ['o','s','^','x','*']\n",
    "\n",
    "for label in unique_labels:\n",
    "    label_cluster = cluster_df[cluster_df['meanshift_label']==label]\n",
    "    center_x_y = centers[label]\n",
    "    # 군집별로 다른 마커로 산점도 적용\n",
    "    plt.scatter(x=label_cluster['ftr1'],y=label_cluster['ftr2'],marker=markers[label])\n",
    "    \n",
    "    # 군집별 중심 표현\n",
    "    plt.scatter(x=center_x_y[0],y=center_x_y[1],s=200,color='gray',alpha=0.9,marker=markers[label])\n",
    "    plt.scatter(x=center_x_y[0],y=center_x_y[1],s=270,color='gray',edgecolors='k',marker='$%d$' % label)\n",
    "plt.show()"
   ]
  },
  {
   "cell_type": "code",
   "execution_count": 7,
   "id": "e3de496b",
   "metadata": {
    "ExecuteTime": {
     "end_time": "2023-02-15T01:16:37.346719Z",
     "start_time": "2023-02-15T01:16:37.334713Z"
    }
   },
   "outputs": [
    {
     "name": "stdout",
     "output_type": "stream",
     "text": [
      "target  meanshift_label\n",
      "0       0                  67\n",
      "1       1                  67\n",
      "2       2                  66\n",
      "Name: meanshift_label, dtype: int64\n"
     ]
    }
   ],
   "source": [
    "print(cluster_df.groupby('target')['meanshift_label'].value_counts())"
   ]
  },
  {
   "cell_type": "code",
   "execution_count": null,
   "id": "341a7f87",
   "metadata": {},
   "outputs": [],
   "source": []
  }
 ],
 "metadata": {
  "kernelspec": {
   "display_name": "Python 3 (ipykernel)",
   "language": "python",
   "name": "python3"
  },
  "language_info": {
   "codemirror_mode": {
    "name": "ipython",
    "version": 3
   },
   "file_extension": ".py",
   "mimetype": "text/x-python",
   "name": "python",
   "nbconvert_exporter": "python",
   "pygments_lexer": "ipython3",
   "version": "3.9.13"
  },
  "toc": {
   "base_numbering": 1,
   "nav_menu": {},
   "number_sections": true,
   "sideBar": true,
   "skip_h1_title": false,
   "title_cell": "Table of Contents",
   "title_sidebar": "Contents",
   "toc_cell": false,
   "toc_position": {},
   "toc_section_display": true,
   "toc_window_display": false
  },
  "varInspector": {
   "cols": {
    "lenName": 16,
    "lenType": 16,
    "lenVar": 40
   },
   "kernels_config": {
    "python": {
     "delete_cmd_postfix": "",
     "delete_cmd_prefix": "del ",
     "library": "var_list.py",
     "varRefreshCmd": "print(var_dic_list())"
    },
    "r": {
     "delete_cmd_postfix": ") ",
     "delete_cmd_prefix": "rm(",
     "library": "var_list.r",
     "varRefreshCmd": "cat(var_dic_list()) "
    }
   },
   "types_to_exclude": [
    "module",
    "function",
    "builtin_function_or_method",
    "instance",
    "_Feature"
   ],
   "window_display": false
  }
 },
 "nbformat": 4,
 "nbformat_minor": 5
}
