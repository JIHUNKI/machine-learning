{
 "cells": [
  {
   "cell_type": "markdown",
   "id": "1c44b236",
   "metadata": {},
   "source": [
    "### sklearn.decomposition.PCA\n",
    "* class sklearn.decomposition.PCA(n_components=None, *, copy=True, whiten=False, svd_solver='auto', tol=0.0, iterated_power='auto', n_oversamples=10, power_iteration_normalizer='auto', random_state=None)[source]\n",
    "\n",
    "\n"
   ]
  },
  {
   "cell_type": "code",
   "execution_count": 12,
   "id": "705f58bd",
   "metadata": {
    "ExecuteTime": {
     "end_time": "2023-02-13T04:07:47.514208Z",
     "start_time": "2023-02-13T04:07:47.486280Z"
    }
   },
   "outputs": [
    {
     "name": "stdout",
     "output_type": "stream",
     "text": [
      "(150, 5)\n"
     ]
    },
    {
     "data": {
      "text/html": [
       "<div>\n",
       "<style scoped>\n",
       "    .dataframe tbody tr th:only-of-type {\n",
       "        vertical-align: middle;\n",
       "    }\n",
       "\n",
       "    .dataframe tbody tr th {\n",
       "        vertical-align: top;\n",
       "    }\n",
       "\n",
       "    .dataframe thead th {\n",
       "        text-align: right;\n",
       "    }\n",
       "</style>\n",
       "<table border=\"1\" class=\"dataframe\">\n",
       "  <thead>\n",
       "    <tr style=\"text-align: right;\">\n",
       "      <th></th>\n",
       "      <th>sepal length (cm)</th>\n",
       "      <th>sepal width (cm)</th>\n",
       "      <th>petal length (cm)</th>\n",
       "      <th>petal width (cm)</th>\n",
       "      <th>target</th>\n",
       "    </tr>\n",
       "  </thead>\n",
       "  <tbody>\n",
       "    <tr>\n",
       "      <th>0</th>\n",
       "      <td>5.1</td>\n",
       "      <td>3.5</td>\n",
       "      <td>1.4</td>\n",
       "      <td>0.2</td>\n",
       "      <td>0</td>\n",
       "    </tr>\n",
       "    <tr>\n",
       "      <th>1</th>\n",
       "      <td>4.9</td>\n",
       "      <td>3.0</td>\n",
       "      <td>1.4</td>\n",
       "      <td>0.2</td>\n",
       "      <td>0</td>\n",
       "    </tr>\n",
       "    <tr>\n",
       "      <th>2</th>\n",
       "      <td>4.7</td>\n",
       "      <td>3.2</td>\n",
       "      <td>1.3</td>\n",
       "      <td>0.2</td>\n",
       "      <td>0</td>\n",
       "    </tr>\n",
       "  </tbody>\n",
       "</table>\n",
       "</div>"
      ],
      "text/plain": [
       "   sepal length (cm)  sepal width (cm)  petal length (cm)  petal width (cm)  \\\n",
       "0                5.1               3.5                1.4               0.2   \n",
       "1                4.9               3.0                1.4               0.2   \n",
       "2                4.7               3.2                1.3               0.2   \n",
       "\n",
       "   target  \n",
       "0       0  \n",
       "1       0  \n",
       "2       0  "
      ]
     },
     "execution_count": 12,
     "metadata": {},
     "output_type": "execute_result"
    }
   ],
   "source": [
    "from sklearn.datasets import load_iris\n",
    "import pandas as pd\n",
    "import matplotlib.pyplot as plt\n",
    "\n",
    "\n",
    "columns = iris.feature_names\n",
    "iris_df = pd.DataFrame(iris.data,columns =columns)\n",
    "iris_df['target'] = iris.target\n",
    "\n",
    "print(iris_df.shape)\n",
    "iris_df.head(3)"
   ]
  },
  {
   "cell_type": "code",
   "execution_count": 16,
   "id": "463ecc61",
   "metadata": {
    "ExecuteTime": {
     "end_time": "2023-02-13T04:11:24.253955Z",
     "start_time": "2023-02-13T04:11:24.086725Z"
    }
   },
   "outputs": [
    {
     "data": {
      "image/png": "[encoded data removed]",
      "text/plain": [
       "<Figure size 640x480 with 1 Axes>"
      ]
     },
     "metadata": {},
     "output_type": "display_data"
    }
   ],
   "source": [
    "markers=['^','s','o']\n",
    "\n",
    "for i ,marker in enumerate(markers):\n",
    "    x_axis_data = iris_df[iris_df['target']==i]['sepal length (cm)']\n",
    "    y_axis_data = iris_df[iris_df['target']==i]['sepal width (cm)']\n",
    "    plt.scatter(x_axis_data,y_axis_data,marker=marker,label=iris.target_names[i])\n",
    "    \n",
    "plt.legend()\n",
    "plt.xlabel('sepal_lenght')\n",
    "plt.ylabel('sepal_width')\n",
    "plt.show()"
   ]
  },
  {
   "cell_type": "code",
   "execution_count": 17,
   "id": "8ad93ffb",
   "metadata": {
    "ExecuteTime": {
     "end_time": "2023-02-13T04:12:08.504567Z",
     "start_time": "2023-02-13T04:12:08.494561Z"
    }
   },
   "outputs": [],
   "source": [
    "## 정규화\n",
    "\n",
    "from sklearn.preprocessing import StandardScaler\n",
    "\n",
    "iris_scaled = StandardScaler().fit_transform(iris_df)\n"
   ]
  },
  {
   "cell_type": "code",
   "execution_count": 18,
   "id": "6040f7b3",
   "metadata": {
    "ExecuteTime": {
     "end_time": "2023-02-13T04:13:04.818605Z",
     "start_time": "2023-02-13T04:13:04.778707Z"
    }
   },
   "outputs": [
    {
     "name": "stdout",
     "output_type": "stream",
     "text": [
      "[[-2.57612023  0.47449927]\n",
      " [-2.41532249 -0.67809197]\n",
      " [-2.65933256 -0.34828193]\n",
      " [-2.60199054 -0.60330594]\n",
      " [-2.68374418  0.6402204 ]\n",
      " [-2.41219305  1.48486231]\n",
      " [-2.72650791  0.04037433]\n",
      " [-2.54754039  0.21784304]\n",
      " [-2.63111739 -1.12151504]\n",
      " [-2.50568834 -0.47375311]\n",
      " [-2.49309024  1.03899203]\n",
      " [-2.62658449  0.12690795]\n",
      " [-2.53463285 -0.73367377]\n",
      " [-2.89043509 -0.96998871]\n",
      " [-2.52492662  1.85524436]\n",
      " [-2.57661201  2.68047277]\n",
      " [-2.52724177  1.47833344]\n",
      " [-2.51071301  0.48379741]\n",
      " [-2.26217005  1.40241037]\n",
      " [-2.64311325  1.12144398]\n",
      " [-2.27440347  0.40624212]\n",
      " [-2.52398522  0.91873733]\n",
      " [-3.01440545  0.44855689]\n",
      " [-2.18617043  0.08328077]\n",
      " [-2.54029796  0.1318046 ]\n",
      " [-2.30389499 -0.62854387]\n",
      " [-2.38796377  0.23807154]\n",
      " [-2.49345491  0.52241515]\n",
      " [-2.46849629  0.30877814]\n",
      " [-2.57304603 -0.34338528]\n",
      " [-2.46542208 -0.50910641]\n",
      " [-2.20111339  0.42157396]\n",
      " [-2.88118696  1.78514571]\n",
      " [-2.7365533   2.14366739]\n",
      " [-2.44028112 -0.46445497]\n",
      " [-2.52638532 -0.21106318]\n",
      " [-2.38926985  0.65800169]\n",
      " [-2.80305454  0.5846386 ]\n",
      " [-2.71360037 -0.91114248]\n",
      " [-2.49363725  0.2641267 ]\n",
      " [-2.59337833  0.43588153]\n",
      " [-2.21824438 -2.33959417]\n",
      " [-2.82104198 -0.48713291]\n",
      " [-2.31087014  0.4686726 ]\n",
      " [-2.46265731  1.13727099]\n",
      " [-2.40381841 -0.71507749]\n",
      " [-2.67975829  1.11377806]\n",
      " [-2.68447352 -0.39293338]\n",
      " [-2.54699338  0.99270837]\n",
      " [-2.52258176  0.00420604]\n",
      " [ 0.94902819  0.87184157]\n",
      " [ 0.63349221  0.60017332]\n",
      " [ 1.07177743  0.6261157 ]\n",
      " [ 0.35722585 -1.75118003]\n",
      " [ 0.93104074 -0.19992994]\n",
      " [ 0.340239   -0.59042771]\n",
      " [ 0.64879984  0.77845702]\n",
      " [-0.41747071 -1.85619714]\n",
      " [ 0.80040864  0.03976222]\n",
      " [ 0.01727825 -1.03434595]\n",
      " [-0.09115999 -2.65466818]\n",
      " [ 0.38513158 -0.06015119]\n",
      " [ 0.4842407  -1.75966094]\n",
      " [ 0.62506233 -0.18072571]\n",
      " [-0.02624455 -0.43939654]\n",
      " [ 0.75475304  0.51608916]\n",
      " [ 0.30970869 -0.19410552]\n",
      " [ 0.13659257 -0.79057212]\n",
      " [ 1.06289397 -1.61244184]\n",
      " [ 0.14411076 -1.3011153 ]\n",
      " [ 0.6464847   0.4015461 ]\n",
      " [ 0.41204067 -0.41345416]\n",
      " [ 1.07068341 -0.92361495]\n",
      " [ 0.5479687  -0.41132677]\n",
      " [ 0.60631582 -0.05770175]\n",
      " [ 0.7545707   0.25780071]\n",
      " [ 1.0848673  -0.06711267]\n",
      " [ 1.17726857  0.3417721 ]\n",
      " [ 0.57904206 -0.22097567]\n",
      " [-0.03616283 -1.05865387]\n",
      " [ 0.11516625 -1.56103596]\n",
      " [ 0.02099685 -1.57196632]\n",
      " [ 0.20988265 -0.77524028]\n",
      " [ 0.92446395 -0.62589379]\n",
      " [ 0.20190241 -0.28667283]\n",
      " [ 0.37584525  0.84834639]\n",
      " [ 0.90644679  0.53028395]\n",
      " [ 0.90349969 -1.37438189]\n",
      " [ 0.06384554 -0.21923067]\n",
      " [ 0.24978424 -1.32717046]\n",
      " [ 0.24570493 -1.11793495]\n",
      " [ 0.54257935  0.02964685]\n",
      " [ 0.29236564 -0.98561284]\n",
      " [-0.30984676 -2.02191827]\n",
      " [ 0.25377013 -0.8536128 ]\n",
      " [ 0.08110364 -0.18061293]\n",
      " [ 0.20023166 -0.38331957]\n",
      " [ 0.49850954 -0.15026906]\n",
      " [-0.38426455 -1.54722355]\n",
      " [ 0.22519029 -0.59695658]\n",
      " [ 2.21716094  0.87188538]\n",
      " [ 1.61866714 -0.70204041]\n",
      " [ 2.51915743  0.56731552]\n",
      " [ 1.85914491 -0.0477496 ]\n",
      " [ 2.23238362  0.29727949]\n",
      " [ 2.99000838  0.81015934]\n",
      " [ 0.93759297 -1.57099249]\n",
      " [ 2.59951157  0.42651251]\n",
      " [ 2.34716505 -0.70736967]\n",
      " [ 2.56988898  1.92608488]\n",
      " [ 1.79279233  0.69126726]\n",
      " [ 1.99961035 -0.42107402]\n",
      " [ 2.24239929  0.42193568]\n",
      " [ 1.70885065 -1.16466772]\n",
      " [ 1.89198244 -0.44354493]\n",
      " [ 1.9926352   0.67614245]\n",
      " [ 1.88446821  0.25519028]\n",
      " [ 2.70831448  2.56341163]\n",
      " [ 3.47589571  0.0319168 ]\n",
      " [ 1.70468639 -1.70832179]\n",
      " [ 2.37719962  0.91408962]\n",
      " [ 1.46502292 -0.57656924]\n",
      " [ 3.11470809  0.42476751]\n",
      " [ 1.76525127 -0.48318469]\n",
      " [ 2.08485809  1.01493081]\n",
      " [ 2.29815948  1.01134655]\n",
      " [ 1.62886515 -0.31909579]\n",
      " [ 1.49628258  0.06026234]\n",
      " [ 2.16299051 -0.18557631]\n",
      " [ 2.21726229  0.56547627]\n",
      " [ 2.71501838  0.26682509]\n",
      " [ 2.59901979  2.63248601]\n",
      " [ 2.22839773 -0.17627817]\n",
      " [ 1.57283317 -0.29580989]\n",
      " [ 1.65087216 -0.81352383]\n",
      " [ 3.03091507  0.86687819]\n",
      " [ 1.98298421  1.06806316]\n",
      " [ 1.77684426  0.42091141]\n",
      " [ 1.41361726  0.01234646]\n",
      " [ 2.21381945  0.6785919 ]\n",
      " [ 2.35975918  0.61718344]\n",
      " [ 2.25834735  0.69229153]\n",
      " [ 1.61866714 -0.70204041]\n",
      " [ 2.38082084  0.8710704 ]\n",
      " [ 2.34648697  1.05212336]\n",
      " [ 2.23302405  0.38935164]\n",
      " [ 1.96686228 -0.8962639 ]\n",
      " [ 1.92899611  0.26888991]\n",
      " [ 1.80614949  1.00921692]\n",
      " [ 1.44600065 -0.02904054]]\n"
     ]
    }
   ],
   "source": [
    "## pca \n",
    "\n",
    "from sklearn.decomposition import PCA\n",
    "\n",
    "pca =PCA(n_components=2)\n",
    "\n",
    "iris_pca = pca.fit_transform(iris_scaled)\n",
    "\n",
    "print(iris_pca)"
   ]
  },
  {
   "cell_type": "code",
   "execution_count": 19,
   "id": "f9347974",
   "metadata": {
    "ExecuteTime": {
     "end_time": "2023-02-13T04:14:25.653772Z",
     "start_time": "2023-02-13T04:14:25.640799Z"
    }
   },
   "outputs": [
    {
     "data": {
      "text/html": [
       "<div>\n",
       "<style scoped>\n",
       "    .dataframe tbody tr th:only-of-type {\n",
       "        vertical-align: middle;\n",
       "    }\n",
       "\n",
       "    .dataframe tbody tr th {\n",
       "        vertical-align: top;\n",
       "    }\n",
       "\n",
       "    .dataframe thead th {\n",
       "        text-align: right;\n",
       "    }\n",
       "</style>\n",
       "<table border=\"1\" class=\"dataframe\">\n",
       "  <thead>\n",
       "    <tr style=\"text-align: right;\">\n",
       "      <th></th>\n",
       "      <th>pca_component_1</th>\n",
       "      <th>pca_component_2</th>\n",
       "      <th>target</th>\n",
       "    </tr>\n",
       "  </thead>\n",
       "  <tbody>\n",
       "    <tr>\n",
       "      <th>0</th>\n",
       "      <td>-2.576120</td>\n",
       "      <td>0.474499</td>\n",
       "      <td>0</td>\n",
       "    </tr>\n",
       "    <tr>\n",
       "      <th>1</th>\n",
       "      <td>-2.415322</td>\n",
       "      <td>-0.678092</td>\n",
       "      <td>0</td>\n",
       "    </tr>\n",
       "    <tr>\n",
       "      <th>2</th>\n",
       "      <td>-2.659333</td>\n",
       "      <td>-0.348282</td>\n",
       "      <td>0</td>\n",
       "    </tr>\n",
       "    <tr>\n",
       "      <th>3</th>\n",
       "      <td>-2.601991</td>\n",
       "      <td>-0.603306</td>\n",
       "      <td>0</td>\n",
       "    </tr>\n",
       "    <tr>\n",
       "      <th>4</th>\n",
       "      <td>-2.683744</td>\n",
       "      <td>0.640220</td>\n",
       "      <td>0</td>\n",
       "    </tr>\n",
       "  </tbody>\n",
       "</table>\n",
       "</div>"
      ],
      "text/plain": [
       "   pca_component_1  pca_component_2  target\n",
       "0        -2.576120         0.474499       0\n",
       "1        -2.415322        -0.678092       0\n",
       "2        -2.659333        -0.348282       0\n",
       "3        -2.601991        -0.603306       0\n",
       "4        -2.683744         0.640220       0"
      ]
     },
     "execution_count": 19,
     "metadata": {},
     "output_type": "execute_result"
    }
   ],
   "source": [
    "pca_columns = ['pca_component_1','pca_component_2']\n",
    "\n",
    "iris_df_pca = pd.DataFrame(iris_pca,columns=pca_columns)\n",
    "iris_df_pca['target'] = iris.target\n",
    "iris_df_pca.head()"
   ]
  },
  {
   "cell_type": "code",
   "execution_count": 20,
   "id": "e2e997b9",
   "metadata": {
    "ExecuteTime": {
     "end_time": "2023-02-13T04:15:41.243501Z",
     "start_time": "2023-02-13T04:15:41.098829Z"
    }
   },
   "outputs": [
    {
     "data": {
      "image/png": "[encoded data removed]",
      "text/plain": [
       "<Figure size 640x480 with 1 Axes>"
      ]
     },
     "metadata": {},
     "output_type": "display_data"
    }
   ],
   "source": [
    "markers=['^','s','o']\n",
    "\n",
    "for i ,marker in enumerate(markers):\n",
    "    x_axis_data = iris_df_pca[iris_df_pca['target']==i]['pca_component_1']\n",
    "    y_axis_data = iris_df_pca[iris_df_pca['target']==i]['pca_component_2']\n",
    "    plt.scatter(x_axis_data,y_axis_data,marker=marker,label=iris.target_names[i])\n",
    "    \n",
    "plt.legend()\n",
    "plt.xlabel('sepal_lenght')\n",
    "plt.ylabel('sepal_width')\n",
    "plt.show()"
   ]
  },
  {
   "cell_type": "code",
   "execution_count": 21,
   "id": "49f360e1",
   "metadata": {
    "ExecuteTime": {
     "end_time": "2023-02-13T04:16:18.019324Z",
     "start_time": "2023-02-13T04:16:18.006074Z"
    }
   },
   "outputs": [
    {
     "data": {
      "text/plain": [
       "array([0.76740358, 0.18282727])"
      ]
     },
     "execution_count": 21,
     "metadata": {},
     "output_type": "execute_result"
    }
   ],
   "source": [
    "pca.explained_variance_ratio_"
   ]
  },
  {
   "cell_type": "code",
   "execution_count": 32,
   "id": "b053351f",
   "metadata": {
    "ExecuteTime": {
     "end_time": "2023-02-13T04:29:22.903988Z",
     "start_time": "2023-02-13T04:29:22.584843Z"
    }
   },
   "outputs": [
    {
     "name": "stdout",
     "output_type": "stream",
     "text": [
      "[0.98 0.94 0.96] 0.96\n"
     ]
    }
   ],
   "source": [
    "from sklearn.ensemble import RandomForestClassifier\n",
    "from sklearn.linear_model import LogisticRegression\n",
    "from sklearn.model_selection import cross_val_score\n",
    "\n",
    "rfc = RandomForestClassifier(random_state=156)\n",
    "\n",
    "scores = cross_val_score(rfc,iris.data,iris.target,scoring='accuracy',cv=3)\n",
    "print(scores,scores.mean())"
   ]
  },
  {
   "cell_type": "code",
   "execution_count": 34,
   "id": "fe319024",
   "metadata": {
    "ExecuteTime": {
     "end_time": "2023-02-13T04:31:19.874802Z",
     "start_time": "2023-02-13T04:31:19.555773Z"
    }
   },
   "outputs": [
    {
     "name": "stdout",
     "output_type": "stream",
     "text": [
      "[0.98 1.   1.  ] 0.9933333333333333\n"
     ]
    }
   ],
   "source": [
    "pca_x =iris_df_pca[['pca_component_1']]\n",
    "scores_pca = cross_val_score(rfc,pca_x,iris.target,scoring='accuracy',cv=3)\n",
    "print(scores_pca,scores_pca.mean())"
   ]
  },
  {
   "cell_type": "code",
   "execution_count": 37,
   "id": "c767d596",
   "metadata": {
    "ExecuteTime": {
     "end_time": "2023-02-13T04:31:41.607506Z",
     "start_time": "2023-02-13T04:31:41.579581Z"
    }
   },
   "outputs": [
    {
     "name": "stdout",
     "output_type": "stream",
     "text": [
      "[0.98 1.   1.  ] 0.9933333333333333\n"
     ]
    }
   ],
   "source": [
    "LCV = LogisticRegression()\n",
    "pca_x =iris_df_pca[['pca_component_1','pca_component_2']]\n",
    "scores_pca = cross_val_score(LCV,pca_x,iris.target,scoring='accuracy',cv=3)\n",
    "print(scores_pca,scores_pca.mean())"
   ]
  },
  {
   "cell_type": "code",
   "execution_count": null,
   "id": "c4242d70",
   "metadata": {},
   "outputs": [],
   "source": []
  }
 ],
 "metadata": {
  "kernelspec": {
   "display_name": "Python 3 (ipykernel)",
   "language": "python",
   "name": "python3"
  },
  "language_info": {
   "codemirror_mode": {
    "name": "ipython",
    "version": 3
   },
   "file_extension": ".py",
   "mimetype": "text/x-python",
   "name": "python",
   "nbconvert_exporter": "python",
   "pygments_lexer": "ipython3",
   "version": "3.9.13"
  },
  "toc": {
   "base_numbering": 1,
   "nav_menu": {},
   "number_sections": true,
   "sideBar": true,
   "skip_h1_title": false,
   "title_cell": "Table of Contents",
   "title_sidebar": "Contents",
   "toc_cell": false,
   "toc_position": {},
   "toc_section_display": true,
   "toc_window_display": false
  },
  "varInspector": {
   "cols": {
    "lenName": 16,
    "lenType": 16,
    "lenVar": 40
   },
   "kernels_config": {
    "python": {
     "delete_cmd_postfix": "",
     "delete_cmd_prefix": "del ",
     "library": "var_list.py",
     "varRefreshCmd": "print(var_dic_list())"
    },
    "r": {
     "delete_cmd_postfix": ") ",
     "delete_cmd_prefix": "rm(",
     "library": "var_list.r",
     "varRefreshCmd": "cat(var_dic_list()) "
    }
   },
   "types_to_exclude": [
    "module",
    "function",
    "builtin_function_or_method",
    "instance",
    "_Feature"
   ],
   "window_display": false
  }
 },
 "nbformat": 4,
 "nbformat_minor": 5
}
