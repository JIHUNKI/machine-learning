{
 "cells": [
  {
   "cell_type": "code",
   "execution_count": 14,
   "id": "9150cc8f",
   "metadata": {
    "ExecuteTime": {
     "end_time": "2023-02-09T02:00:24.413247Z",
     "start_time": "2023-02-09T02:00:24.397288Z"
    }
   },
   "outputs": [],
   "source": [
    "# 데이터 전처리(정규변환,로그변환)을 해주는 함수 정의\n",
    "\n",
    "from sklearn.preprocessing import StandardScaler,MinMaxScaler,PolynomialFeatures\n",
    "import numpy as np\n",
    "import pandas as pd\n",
    "\n",
    "boston_df = pd.read_csv('./datasets/Boston.csv',index_col=0)\n",
    "\n",
    "x = boston_df.drop(['medv'],axis=1)\n",
    "y = boston_df['medv']\n",
    "\n",
    "\n",
    "# method는 표준 정규 분포 변환(Standard),최대/최소 정규화(MinMax), 로그변환(log)결정\n",
    "# p_degree 는 다항식 특성을 추가할 때 적용 , p_degree는 2이상 부여하지 않음\n",
    "def get_scaled_data(method = 'None',p_degree=None,input_data=None):\n",
    "    if method =='Standard':\n",
    "        scaled_data = StandardScaler().fit_transform(input_data)\n",
    "    elif method =='MinMax':\n",
    "        scaled_data = MinMaxScaler().fit_transform(input_data)\n",
    "    elif method =='Log':\n",
    "        scaled_data =np.log1p(input_data)\n",
    "    else :\n",
    "        scaled_data = input_data\n",
    "        \n",
    "    \n",
    "    if p_degree != None:\n",
    "        scaled_data = PolynomialFeatures(degree=p_degree,include_bias=False).fit_transform(scaled_data)\n",
    "        \n",
    "    return scaled_data"
   ]
  },
  {
   "cell_type": "code",
   "execution_count": 18,
   "id": "426bb20e",
   "metadata": {
    "ExecuteTime": {
     "end_time": "2023-02-09T02:01:40.199366Z",
     "start_time": "2023-02-09T02:01:40.178393Z"
    }
   },
   "outputs": [],
   "source": [
    "from sklearn.linear_model import ElasticNet,Ridge,Lasso\n",
    "from sklearn.model_selection import cross_val_score\n",
    "\n",
    "def get_linear_reg_eval(model_name,params =None,x_data_n=None,y_target_n=None,verbose=True):\n",
    "    coeff_df = pd.DataFrame()\n",
    "    if verbose : print('######',model_name,'######')\n",
    "    for param in params:\n",
    "        if model_name =='Ridge' :\n",
    "            model = Ridge(alpha=param)\n",
    "        elif model_name =='Lasso' :\n",
    "            model = Lasso(alpha=param)\n",
    "        elif model_name =='ElasticNet' :\n",
    "            model = ElasticNet(alpha=param,l1_ratio=0.7) \n",
    "        neg_mse_scores = cross_val_score(model,x_data_n,y_target_n,scoring='neg_mean_squared_error',cv=5)\n",
    "        avg_rmse = np.mean(np.sqrt(-1*neg_mse_scores))\n",
    "        print(f'alpha {param} 일 때 5폴드 세트의 평균 RMSE: {avg_rmse}')"
   ]
  },
  {
   "cell_type": "code",
   "execution_count": 20,
   "id": "0a21bbe5",
   "metadata": {
    "ExecuteTime": {
     "end_time": "2023-02-09T02:02:58.887795Z",
     "start_time": "2023-02-09T02:02:58.574717Z"
    }
   },
   "outputs": [
    {
     "name": "stdout",
     "output_type": "stream",
     "text": [
      "## 변환유형,None,polynomial_degree,None\n",
      "alpha 0.1 일 때 5폴드 세트의 평균 RMSE: 5.788486627032412\n",
      "alpha 1 일 때 5폴드 세트의 평균 RMSE: 5.652570965613549\n",
      "alpha 10 일 때 5폴드 세트의 평균 RMSE: 5.518166280868973\n",
      "alpha 100 일 때 5폴드 세트의 평균 RMSE: 5.329589628472148\n",
      "## 변환유형,Standard,polynomial_degree,None\n",
      "alpha 0.1 일 때 5폴드 세트의 평균 RMSE: 5.825992799389445\n",
      "alpha 1 일 때 5폴드 세트의 평균 RMSE: 5.802889517257742\n",
      "alpha 10 일 때 5폴드 세트의 평균 RMSE: 5.6368312225590715\n",
      "alpha 100 일 때 5폴드 세트의 평균 RMSE: 5.421374711794966\n",
      "## 변환유형,Standard,polynomial_degree,2\n",
      "alpha 0.1 일 때 5폴드 세트의 평균 RMSE: 8.827235873001843\n",
      "alpha 1 일 때 5폴드 세트의 평균 RMSE: 6.871287525962543\n",
      "alpha 10 일 때 5폴드 세트의 평균 RMSE: 5.484870425533376\n",
      "alpha 100 일 때 5폴드 세트의 평균 RMSE: 4.6344377782619235\n",
      "## 변환유형,MinMax,polynomial_degree,None\n",
      "alpha 0.1 일 때 5폴드 세트의 평균 RMSE: 5.763570225288312\n",
      "alpha 1 일 때 5폴드 세트의 평균 RMSE: 5.465045081564942\n",
      "alpha 10 일 때 5폴드 세트의 평균 RMSE: 5.754163637679423\n",
      "alpha 100 일 때 5폴드 세트의 평균 RMSE: 7.63491986362354\n",
      "## 변환유형,MinMax,polynomial_degree,2\n",
      "alpha 0.1 일 때 5폴드 세트의 평균 RMSE: 5.297560003127191\n",
      "alpha 1 일 때 5폴드 세트의 평균 RMSE: 4.322660371524892\n",
      "alpha 10 일 때 5폴드 세트의 평균 RMSE: 5.185204257580534\n",
      "alpha 100 일 때 5폴드 세트의 평균 RMSE: 6.537866889704364\n",
      "## 변환유형,Log,polynomial_degree,None\n",
      "alpha 0.1 일 때 5폴드 세트의 평균 RMSE: 4.77042961468166\n",
      "alpha 1 일 때 5폴드 세트의 평균 RMSE: 4.676227018966875\n",
      "alpha 10 일 때 5폴드 세트의 평균 RMSE: 4.836439992635266\n",
      "alpha 100 일 때 5폴드 세트의 평균 RMSE: 6.2409162327190355\n"
     ]
    }
   ],
   "source": [
    "# Ridge의 alpha 값을 다르게 적용하고 다양한 데이터 변환방법에 따른 rmse 추출\n",
    "alpha = [0.1,1,10,100]\n",
    "\n",
    "# 변환 방법\n",
    "scale_methods = [(None,None),('Standard',None),('Standard',2),\n",
    "               ('MinMax',None),('MinMax',2),('Log',None)]\n",
    "\n",
    "for scale_method in scale_methods:\n",
    "    x_data_scaled = get_scaled_data(method=scale_method[0],p_degree=scale_method[1],input_data=x)\n",
    "    print(f'## 변환유형,{scale_method[0]},polynomial_degree,{scale_method[1]}')\n",
    "    \n",
    "    get_linear_reg_eval('Ridge',params=alpha,x_data_n=x_data_scaled,\n",
    "                       y_target_n=y,verbose=False)"
   ]
  },
  {
   "cell_type": "code",
   "execution_count": 17,
   "id": "5ba76be4",
   "metadata": {
    "ExecuteTime": {
     "end_time": "2023-02-09T02:01:16.809624Z",
     "start_time": "2023-02-09T02:01:16.795759Z"
    }
   },
   "outputs": [
    {
     "data": {
      "text/plain": [
       "array([[-0.41978194,  0.28482986, -1.2879095 , ..., -1.45900038,\n",
       "         0.44105193, -1.0755623 ],\n",
       "       [-0.41733926, -0.48772236, -0.59338101, ..., -0.30309415,\n",
       "         0.44105193, -0.49243937],\n",
       "       [-0.41734159, -0.48772236, -0.59338101, ..., -0.30309415,\n",
       "         0.39642699, -1.2087274 ],\n",
       "       ...,\n",
       "       [-0.41344658, -0.48772236,  0.11573841, ...,  1.17646583,\n",
       "         0.44105193, -0.98304761],\n",
       "       [-0.40776407, -0.48772236,  0.11573841, ...,  1.17646583,\n",
       "         0.4032249 , -0.86530163],\n",
       "       [-0.41500016, -0.48772236,  0.11573841, ...,  1.17646583,\n",
       "         0.44105193, -0.66905833]])"
      ]
     },
     "execution_count": 17,
     "metadata": {},
     "output_type": "execute_result"
    }
   ],
   "source": []
  },
  {
   "cell_type": "code",
   "execution_count": null,
   "id": "1917c2a3",
   "metadata": {},
   "outputs": [],
   "source": []
  }
 ],
 "metadata": {
  "kernelspec": {
   "display_name": "Python 3 (ipykernel)",
   "language": "python",
   "name": "python3"
  },
  "language_info": {
   "codemirror_mode": {
    "name": "ipython",
    "version": 3
   },
   "file_extension": ".py",
   "mimetype": "text/x-python",
   "name": "python",
   "nbconvert_exporter": "python",
   "pygments_lexer": "ipython3",
   "version": "3.9.13"
  },
  "toc": {
   "base_numbering": 1,
   "nav_menu": {},
   "number_sections": true,
   "sideBar": true,
   "skip_h1_title": false,
   "title_cell": "Table of Contents",
   "title_sidebar": "Contents",
   "toc_cell": false,
   "toc_position": {},
   "toc_section_display": true,
   "toc_window_display": false
  },
  "varInspector": {
   "cols": {
    "lenName": 16,
    "lenType": 16,
    "lenVar": 40
   },
   "kernels_config": {
    "python": {
     "delete_cmd_postfix": "",
     "delete_cmd_prefix": "del ",
     "library": "var_list.py",
     "varRefreshCmd": "print(var_dic_list())"
    },
    "r": {
     "delete_cmd_postfix": ") ",
     "delete_cmd_prefix": "rm(",
     "library": "var_list.r",
     "varRefreshCmd": "cat(var_dic_list()) "
    }
   },
   "types_to_exclude": [
    "module",
    "function",
    "builtin_function_or_method",
    "instance",
    "_Feature"
   ],
   "window_display": false
  }
 },
 "nbformat": 4,
 "nbformat_minor": 5
}
